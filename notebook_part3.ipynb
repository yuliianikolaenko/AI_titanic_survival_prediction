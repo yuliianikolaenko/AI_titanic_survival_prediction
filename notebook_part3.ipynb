{
  "nbformat": 4,
  "nbformat_minor": 0,
  "metadata": {
    "colab": {
      "name": "Titanic AI project 3 ipynb",
      "provenance": [],
      "collapsed_sections": []
    },
    "kernelspec": {
      "name": "python3",
      "display_name": "Python 3"
    }
  },
  "cells": [
    {
      "cell_type": "markdown",
      "metadata": {
        "id": "30u6zmW4ewGW"
      },
      "source": [
        "# Titanic Project Part 3 "
      ]
    },
    {
      "cell_type": "code",
      "metadata": {
        "id": "K_y-VeMyCp63"
      },
      "source": [
        "from google.colab import drive\n",
        "import numpy as np \n",
        "import pandas as pd \n",
        "from sklearn import preprocessing\n",
        "import matplotlib.pyplot as plt \n",
        "import seaborn as sns\n",
        "import pandas_profiling"
      ],
      "execution_count": null,
      "outputs": []
    },
    {
      "cell_type": "markdown",
      "metadata": {
        "id": "uAcVeDSzZ391"
      },
      "source": [
        "# Data pre-processing"
      ]
    },
    {
      "cell_type": "code",
      "metadata": {
        "id": "nguYahAaaBKm"
      },
      "source": [
        "url1 = 'https://raw.githubusercontent.com/julelnik/titanic_AI/main/train.csv'\n",
        "url2 = 'https://raw.githubusercontent.com/julelnik/titanic_AI/main/test.csv'\n",
        "train=pd.read_csv(url1)\n",
        "test=pd.read_csv(url2)"
      ],
      "execution_count": null,
      "outputs": []
    },
    {
      "cell_type": "code",
      "metadata": {
        "id": "-dfgQD_ysA8r",
        "colab": {
          "base_uri": "https://localhost:8080/",
          "height": 296
        },
        "outputId": "1edf2966-721e-4fad-ab59-08aa8a7cf72b"
      },
      "source": [
        "sns.boxplot(x='Pclass',y='Age',data=train,palette='winter')"
      ],
      "execution_count": null,
      "outputs": [
        {
          "output_type": "execute_result",
          "data": {
            "text/plain": [
              "<matplotlib.axes._subplots.AxesSubplot at 0x7fb1b8483438>"
            ]
          },
          "metadata": {
            "tags": []
          },
          "execution_count": 4
        },
        {
          "output_type": "display_data",
          "data": {
            "image/png": "[encoded data removed]",
            "text/plain": [
              "<Figure size 432x288 with 1 Axes>"
            ]
          },
          "metadata": {
            "tags": [],
            "needs_background": "light"
          }
        }
      ]
    },
    {
      "cell_type": "markdown",
      "metadata": {
        "id": "hyOYUvaOsI6C"
      },
      "source": [
        "From this graph we can find out the mean age for each of the Pclass"
      ]
    },
    {
      "cell_type": "code",
      "metadata": {
        "id": "NHEon2XIbXVa"
      },
      "source": [
        "#filling the missing values in age varible based on the relation that has both features : 'Age' and 'Pclass'\n",
        "def impute(cols):\n",
        "    Age = cols[0]\n",
        "    Pclass=cols[1]\n",
        "    \n",
        "    if pd.isnull(Age):\n",
        "        if Pclass == 1:\n",
        "            return 38\n",
        "        elif Pclass == 2:\n",
        "            return 29\n",
        "        else:\n",
        "            return 24\n",
        "        \n",
        "    else:\n",
        "        return Age"
      ],
      "execution_count": null,
      "outputs": []
    },
    {
      "cell_type": "code",
      "metadata": {
        "id": "rU0RAoXPboUK"
      },
      "source": [
        "# applying to dataset\n",
        "train['Age']=train[['Age','Pclass']].apply(impute,axis=1)\n",
        "test['Age']=test[['Age','Pclass']].apply(impute,axis=1)"
      ],
      "execution_count": null,
      "outputs": []
    },
    {
      "cell_type": "code",
      "metadata": {
        "id": "uG1lEynXcHP9",
        "colab": {
          "base_uri": "https://localhost:8080/",
          "height": 111
        },
        "outputId": "7cdab296-a3d2-4ec1-dec2-49538a79a0dd"
      },
      "source": [
        "#missings in embarked filling \n",
        "train[train['Embarked'].isnull()]"
      ],
      "execution_count": null,
      "outputs": [
        {
          "output_type": "execute_result",
          "data": {
            "text/html": [
              "<div>\n",
              "<style scoped>\n",
              "    .dataframe tbody tr th:only-of-type {\n",
              "        vertical-align: middle;\n",
              "    }\n",
              "\n",
              "    .dataframe tbody tr th {\n",
              "        vertical-align: top;\n",
              "    }\n",
              "\n",
              "    .dataframe thead th {\n",
              "        text-align: right;\n",
              "    }\n",
              "</style>\n",
              "<table border=\"1\" class=\"dataframe\">\n",
              "  <thead>\n",
              "    <tr style=\"text-align: right;\">\n",
              "      <th></th>\n",
              "      <th>PassengerId</th>\n",
              "      <th>Survived</th>\n",
              "      <th>Pclass</th>\n",
              "      <th>Name</th>\n",
              "      <th>Sex</th>\n",
              "      <th>Age</th>\n",
              "      <th>SibSp</th>\n",
              "      <th>Parch</th>\n",
              "      <th>Ticket</th>\n",
              "      <th>Fare</th>\n",
              "      <th>Cabin</th>\n",
              "      <th>Embarked</th>\n",
              "    </tr>\n",
              "  </thead>\n",
              "  <tbody>\n",
              "    <tr>\n",
              "      <th>61</th>\n",
              "      <td>62</td>\n",
              "      <td>1</td>\n",
              "      <td>1</td>\n",
              "      <td>Icard, Miss. Amelie</td>\n",
              "      <td>female</td>\n",
              "      <td>38.0</td>\n",
              "      <td>0</td>\n",
              "      <td>0</td>\n",
              "      <td>113572</td>\n",
              "      <td>80.0</td>\n",
              "      <td>B28</td>\n",
              "      <td>NaN</td>\n",
              "    </tr>\n",
              "    <tr>\n",
              "      <th>829</th>\n",
              "      <td>830</td>\n",
              "      <td>1</td>\n",
              "      <td>1</td>\n",
              "      <td>Stone, Mrs. George Nelson (Martha Evelyn)</td>\n",
              "      <td>female</td>\n",
              "      <td>62.0</td>\n",
              "      <td>0</td>\n",
              "      <td>0</td>\n",
              "      <td>113572</td>\n",
              "      <td>80.0</td>\n",
              "      <td>B28</td>\n",
              "      <td>NaN</td>\n",
              "    </tr>\n",
              "  </tbody>\n",
              "</table>\n",
              "</div>"
            ],
            "text/plain": [
              "     PassengerId  Survived  Pclass  ...  Fare Cabin  Embarked\n",
              "61            62         1       1  ...  80.0   B28       NaN\n",
              "829          830         1       1  ...  80.0   B28       NaN\n",
              "\n",
              "[2 rows x 12 columns]"
            ]
          },
          "metadata": {
            "tags": []
          },
          "execution_count": 7
        }
      ]
    },
    {
      "cell_type": "markdown",
      "metadata": {
        "id": "x584QiaeMP4J"
      },
      "source": [
        "From the dataset we can see that 2 missing values were 2 females in 1 class travelling together so we can fill in the missing values with the most frequant value for this type of the passenger."
      ]
    },
    {
      "cell_type": "code",
      "metadata": {
        "id": "mSpqFIX5e1Cx"
      },
      "source": [
        "train['Embarked'] = train['Embarked'].fillna('S')"
      ],
      "execution_count": null,
      "outputs": []
    },
    {
      "cell_type": "markdown",
      "metadata": {
        "id": "REYStPCJMkEW"
      },
      "source": [
        "# Recoding the values\n",
        "\n",
        "First let's take a look at the fare variable."
      ]
    },
    {
      "cell_type": "code",
      "metadata": {
        "id": "b7fCRZXHMs_8",
        "colab": {
          "base_uri": "https://localhost:8080/",
          "height": 282
        },
        "outputId": "8d13a3b3-061a-4cca-deb1-bb928f4979d2"
      },
      "source": [
        "train.Fare.plot(kind='hist')"
      ],
      "execution_count": null,
      "outputs": [
        {
          "output_type": "execute_result",
          "data": {
            "text/plain": [
              "<matplotlib.axes._subplots.AxesSubplot at 0x7fb1b7a4d278>"
            ]
          },
          "metadata": {
            "tags": []
          },
          "execution_count": 9
        },
        {
          "output_type": "display_data",
          "data": {
            "image/png": "[encoded data removed]",
            "text/plain": [
              "<Figure size 432x288 with 1 Axes>"
            ]
          },
          "metadata": {
            "tags": [],
            "needs_background": "light"
          }
        }
      ]
    },
    {
      "cell_type": "code",
      "metadata": {
        "id": "vAMk6-dhO8zW",
        "colab": {
          "base_uri": "https://localhost:8080/"
        },
        "outputId": "d05a3292-5b15-4ad6-8416-b67ae684f6b6"
      },
      "source": [
        "train.Fare.describe()"
      ],
      "execution_count": null,
      "outputs": [
        {
          "output_type": "execute_result",
          "data": {
            "text/plain": [
              "count    891.000000\n",
              "mean      32.204208\n",
              "std       49.693429\n",
              "min        0.000000\n",
              "25%        7.910400\n",
              "50%       14.454200\n",
              "75%       31.000000\n",
              "max      512.329200\n",
              "Name: Fare, dtype: float64"
            ]
          },
          "metadata": {
            "tags": []
          },
          "execution_count": 10
        }
      ]
    },
    {
      "cell_type": "code",
      "metadata": {
        "id": "GkHV38fqacAf"
      },
      "source": [
        "# recoding the Fare into 4 categories from 0 to 3 based of the price range quartiles.\n",
        "def categorize(fare):\n",
        "    if fare <= 7:\n",
        "        return 0\n",
        "    elif fare <= 14:\n",
        "        return 1\n",
        "    elif fare <= 31:\n",
        "        return 2\n",
        "    else:\n",
        "        return 3"
      ],
      "execution_count": null,
      "outputs": []
    },
    {
      "cell_type": "code",
      "metadata": {
        "id": "r-uvJjchawd-"
      },
      "source": [
        "#aplying to data sets\n",
        "test[\"FareType\"]= test[\"Fare\"].apply(categorize)\n",
        "train[\"FareType\"]= train[\"Fare\"].apply(categorize)"
      ],
      "execution_count": null,
      "outputs": []
    },
    {
      "cell_type": "code",
      "metadata": {
        "id": "fAPz_XE6bDSU"
      },
      "source": [
        "# recording sex as binary variable 1 for female and 0 for male\n",
        "def encodeSex(x):\n",
        "    if x==\"male\":\n",
        "        return 0\n",
        "    if x==\"female\":\n",
        "        return 1"
      ],
      "execution_count": null,
      "outputs": []
    },
    {
      "cell_type": "code",
      "metadata": {
        "id": "FVXF2fB4bLQ2"
      },
      "source": [
        "#applying to datasets\n",
        "train['SexCode'] = train['Sex'].apply(encodeSex)\n",
        "test['SexCode'] = test['Sex'].apply(encodeSex)"
      ],
      "execution_count": null,
      "outputs": []
    },
    {
      "cell_type": "markdown",
      "metadata": {
        "id": "OEwZfu4VNaUx"
      },
      "source": [
        "Let's record the age variable into categories based on...."
      ]
    },
    {
      "cell_type": "code",
      "metadata": {
        "id": "gKnbB6nir0f6",
        "colab": {
          "base_uri": "https://localhost:8080/"
        },
        "outputId": "6102ca6f-83bf-498f-d18a-d21dcaf92042"
      },
      "source": [
        "train['Age'].describe()"
      ],
      "execution_count": null,
      "outputs": [
        {
          "output_type": "execute_result",
          "data": {
            "text/plain": [
              "count    891.000000\n",
              "mean      29.100079\n",
              "std       13.265936\n",
              "min        0.420000\n",
              "25%       22.000000\n",
              "50%       26.000000\n",
              "75%       37.000000\n",
              "max       80.000000\n",
              "Name: Age, dtype: float64"
            ]
          },
          "metadata": {
            "tags": []
          },
          "execution_count": 15
        }
      ]
    },
    {
      "cell_type": "code",
      "metadata": {
        "id": "9X23TQQAPPVO",
        "colab": {
          "base_uri": "https://localhost:8080/",
          "height": 204
        },
        "outputId": "1df25a78-9098-4626-d7b2-682df2bc4a6f"
      },
      "source": [
        "#Added by Eduardo \n",
        "train['AgeBand'] = pd.cut(train['Age'], 5)\n",
        "train[['AgeBand', 'Survived']].groupby(['AgeBand'], as_index=False).mean().sort_values(by='AgeBand', ascending=True)"
      ],
      "execution_count": null,
      "outputs": [
        {
          "output_type": "execute_result",
          "data": {
            "text/html": [
              "<div>\n",
              "<style scoped>\n",
              "    .dataframe tbody tr th:only-of-type {\n",
              "        vertical-align: middle;\n",
              "    }\n",
              "\n",
              "    .dataframe tbody tr th {\n",
              "        vertical-align: top;\n",
              "    }\n",
              "\n",
              "    .dataframe thead th {\n",
              "        text-align: right;\n",
              "    }\n",
              "</style>\n",
              "<table border=\"1\" class=\"dataframe\">\n",
              "  <thead>\n",
              "    <tr style=\"text-align: right;\">\n",
              "      <th></th>\n",
              "      <th>AgeBand</th>\n",
              "      <th>Survived</th>\n",
              "    </tr>\n",
              "  </thead>\n",
              "  <tbody>\n",
              "    <tr>\n",
              "      <th>0</th>\n",
              "      <td>(0.34, 16.336]</td>\n",
              "      <td>0.550000</td>\n",
              "    </tr>\n",
              "    <tr>\n",
              "      <th>1</th>\n",
              "      <td>(16.336, 32.252]</td>\n",
              "      <td>0.336714</td>\n",
              "    </tr>\n",
              "    <tr>\n",
              "      <th>2</th>\n",
              "      <td>(32.252, 48.168]</td>\n",
              "      <td>0.412844</td>\n",
              "    </tr>\n",
              "    <tr>\n",
              "      <th>3</th>\n",
              "      <td>(48.168, 64.084]</td>\n",
              "      <td>0.434783</td>\n",
              "    </tr>\n",
              "    <tr>\n",
              "      <th>4</th>\n",
              "      <td>(64.084, 80.0]</td>\n",
              "      <td>0.090909</td>\n",
              "    </tr>\n",
              "  </tbody>\n",
              "</table>\n",
              "</div>"
            ],
            "text/plain": [
              "            AgeBand  Survived\n",
              "0    (0.34, 16.336]  0.550000\n",
              "1  (16.336, 32.252]  0.336714\n",
              "2  (32.252, 48.168]  0.412844\n",
              "3  (48.168, 64.084]  0.434783\n",
              "4    (64.084, 80.0]  0.090909"
            ]
          },
          "metadata": {
            "tags": []
          },
          "execution_count": 16
        }
      ]
    },
    {
      "cell_type": "code",
      "metadata": {
        "id": "Qi1q58nwqOLy"
      },
      "source": [
        "# recoding the age into 5 categories based of the age range for survived\n",
        "def categorize_Age(x):\n",
        "    if x <= 16:\n",
        "        return 0\n",
        "    elif x <= 32:\n",
        "        return 1\n",
        "    elif x <= 48:\n",
        "        return 2\n",
        "    elif x <= 64:\n",
        "        return 3\n",
        "    elif x <= 80:\n",
        "        return 4"
      ],
      "execution_count": null,
      "outputs": []
    },
    {
      "cell_type": "code",
      "metadata": {
        "id": "9ApzQsk0rDiH"
      },
      "source": [
        "#applying to dataset\n",
        "train['Age_cat']=train['Age'].apply(categorize_Age)\n",
        "test['Age_cat']=test['Age'].apply(categorize_Age)"
      ],
      "execution_count": null,
      "outputs": []
    },
    {
      "cell_type": "markdown",
      "metadata": {
        "id": "tKAxTfKzNkDK"
      },
      "source": [
        "Recoding Embarked to int categories from 0 to 2 based on the % of survived from each port (from less to more)."
      ]
    },
    {
      "cell_type": "code",
      "metadata": {
        "id": "lJ2yVAc_No_z",
        "colab": {
          "base_uri": "https://localhost:8080/"
        },
        "outputId": "446e6979-e1b3-4446-8611-11f634016499"
      },
      "source": [
        "train.groupby(by=[\"Embarked\"])[\"Survived\"].value_counts()"
      ],
      "execution_count": null,
      "outputs": [
        {
          "output_type": "execute_result",
          "data": {
            "text/plain": [
              "Embarked  Survived\n",
              "C         1            93\n",
              "          0            75\n",
              "Q         0            47\n",
              "          1            30\n",
              "S         0           427\n",
              "          1           219\n",
              "Name: Survived, dtype: int64"
            ]
          },
          "metadata": {
            "tags": []
          },
          "execution_count": 19
        }
      ]
    },
    {
      "cell_type": "code",
      "metadata": {
        "id": "XrtirS9Ahsgf"
      },
      "source": [
        "train['Embarked_code'] = train['Embarked'].map( {'Q': 0, 'C': 1, 'S': 2} ).astype(int)\n",
        "test['Embarked_code'] = test['Embarked'].map( {'Q': 0, 'C': 1, 'S': 2} ).astype(int)"
      ],
      "execution_count": null,
      "outputs": []
    },
    {
      "cell_type": "code",
      "metadata": {
        "id": "RxaKtfwufxJn",
        "colab": {
          "base_uri": "https://localhost:8080/"
        },
        "outputId": "22898b3f-5eac-4f18-9042-f76b10c6d49b"
      },
      "source": [
        "#final data set for analysis\n",
        "train_cleaned = train.drop(['PassengerId','Name','Sex', 'Age', 'Fare', 'Ticket', 'Embarked', 'Cabin', 'AgeBand'], axis=1)\n",
        "train_cleaned.shape"
      ],
      "execution_count": null,
      "outputs": [
        {
          "output_type": "execute_result",
          "data": {
            "text/plain": [
              "(891, 8)"
            ]
          },
          "metadata": {
            "tags": []
          },
          "execution_count": 21
        }
      ]
    },
    {
      "cell_type": "code",
      "metadata": {
        "id": "sbT8wJSVnwdo",
        "colab": {
          "base_uri": "https://localhost:8080/",
          "height": 419
        },
        "outputId": "fd7e25de-f2ca-4073-b121-1af9458b0c77"
      },
      "source": [
        "train_cleaned"
      ],
      "execution_count": null,
      "outputs": [
        {
          "output_type": "execute_result",
          "data": {
            "text/html": [
              "<div>\n",
              "<style scoped>\n",
              "    .dataframe tbody tr th:only-of-type {\n",
              "        vertical-align: middle;\n",
              "    }\n",
              "\n",
              "    .dataframe tbody tr th {\n",
              "        vertical-align: top;\n",
              "    }\n",
              "\n",
              "    .dataframe thead th {\n",
              "        text-align: right;\n",
              "    }\n",
              "</style>\n",
              "<table border=\"1\" class=\"dataframe\">\n",
              "  <thead>\n",
              "    <tr style=\"text-align: right;\">\n",
              "      <th></th>\n",
              "      <th>Survived</th>\n",
              "      <th>Pclass</th>\n",
              "      <th>SibSp</th>\n",
              "      <th>Parch</th>\n",
              "      <th>FareType</th>\n",
              "      <th>SexCode</th>\n",
              "      <th>Age_cat</th>\n",
              "      <th>Embarked_code</th>\n",
              "    </tr>\n",
              "  </thead>\n",
              "  <tbody>\n",
              "    <tr>\n",
              "      <th>0</th>\n",
              "      <td>0</td>\n",
              "      <td>3</td>\n",
              "      <td>1</td>\n",
              "      <td>0</td>\n",
              "      <td>1</td>\n",
              "      <td>0</td>\n",
              "      <td>1</td>\n",
              "      <td>2</td>\n",
              "    </tr>\n",
              "    <tr>\n",
              "      <th>1</th>\n",
              "      <td>1</td>\n",
              "      <td>1</td>\n",
              "      <td>1</td>\n",
              "      <td>0</td>\n",
              "      <td>3</td>\n",
              "      <td>1</td>\n",
              "      <td>2</td>\n",
              "      <td>1</td>\n",
              "    </tr>\n",
              "    <tr>\n",
              "      <th>2</th>\n",
              "      <td>1</td>\n",
              "      <td>3</td>\n",
              "      <td>0</td>\n",
              "      <td>0</td>\n",
              "      <td>1</td>\n",
              "      <td>1</td>\n",
              "      <td>1</td>\n",
              "      <td>2</td>\n",
              "    </tr>\n",
              "    <tr>\n",
              "      <th>3</th>\n",
              "      <td>1</td>\n",
              "      <td>1</td>\n",
              "      <td>1</td>\n",
              "      <td>0</td>\n",
              "      <td>3</td>\n",
              "      <td>1</td>\n",
              "      <td>2</td>\n",
              "      <td>2</td>\n",
              "    </tr>\n",
              "    <tr>\n",
              "      <th>4</th>\n",
              "      <td>0</td>\n",
              "      <td>3</td>\n",
              "      <td>0</td>\n",
              "      <td>0</td>\n",
              "      <td>1</td>\n",
              "      <td>0</td>\n",
              "      <td>2</td>\n",
              "      <td>2</td>\n",
              "    </tr>\n",
              "    <tr>\n",
              "      <th>...</th>\n",
              "      <td>...</td>\n",
              "      <td>...</td>\n",
              "      <td>...</td>\n",
              "      <td>...</td>\n",
              "      <td>...</td>\n",
              "      <td>...</td>\n",
              "      <td>...</td>\n",
              "      <td>...</td>\n",
              "    </tr>\n",
              "    <tr>\n",
              "      <th>886</th>\n",
              "      <td>0</td>\n",
              "      <td>2</td>\n",
              "      <td>0</td>\n",
              "      <td>0</td>\n",
              "      <td>1</td>\n",
              "      <td>0</td>\n",
              "      <td>1</td>\n",
              "      <td>2</td>\n",
              "    </tr>\n",
              "    <tr>\n",
              "      <th>887</th>\n",
              "      <td>1</td>\n",
              "      <td>1</td>\n",
              "      <td>0</td>\n",
              "      <td>0</td>\n",
              "      <td>2</td>\n",
              "      <td>1</td>\n",
              "      <td>1</td>\n",
              "      <td>2</td>\n",
              "    </tr>\n",
              "    <tr>\n",
              "      <th>888</th>\n",
              "      <td>0</td>\n",
              "      <td>3</td>\n",
              "      <td>1</td>\n",
              "      <td>2</td>\n",
              "      <td>2</td>\n",
              "      <td>1</td>\n",
              "      <td>1</td>\n",
              "      <td>2</td>\n",
              "    </tr>\n",
              "    <tr>\n",
              "      <th>889</th>\n",
              "      <td>1</td>\n",
              "      <td>1</td>\n",
              "      <td>0</td>\n",
              "      <td>0</td>\n",
              "      <td>2</td>\n",
              "      <td>0</td>\n",
              "      <td>1</td>\n",
              "      <td>1</td>\n",
              "    </tr>\n",
              "    <tr>\n",
              "      <th>890</th>\n",
              "      <td>0</td>\n",
              "      <td>3</td>\n",
              "      <td>0</td>\n",
              "      <td>0</td>\n",
              "      <td>1</td>\n",
              "      <td>0</td>\n",
              "      <td>1</td>\n",
              "      <td>0</td>\n",
              "    </tr>\n",
              "  </tbody>\n",
              "</table>\n",
              "<p>891 rows × 8 columns</p>\n",
              "</div>"
            ],
            "text/plain": [
              "     Survived  Pclass  SibSp  Parch  FareType  SexCode  Age_cat  Embarked_code\n",
              "0           0       3      1      0         1        0        1              2\n",
              "1           1       1      1      0         3        1        2              1\n",
              "2           1       3      0      0         1        1        1              2\n",
              "3           1       1      1      0         3        1        2              2\n",
              "4           0       3      0      0         1        0        2              2\n",
              "..        ...     ...    ...    ...       ...      ...      ...            ...\n",
              "886         0       2      0      0         1        0        1              2\n",
              "887         1       1      0      0         2        1        1              2\n",
              "888         0       3      1      2         2        1        1              2\n",
              "889         1       1      0      0         2        0        1              1\n",
              "890         0       3      0      0         1        0        1              0\n",
              "\n",
              "[891 rows x 8 columns]"
            ]
          },
          "metadata": {
            "tags": []
          },
          "execution_count": 38
        }
      ]
    },
    {
      "cell_type": "code",
      "metadata": {
        "id": "4mZJRoNEkIxF",
        "colab": {
          "base_uri": "https://localhost:8080/"
        },
        "outputId": "dbce152f-da2d-4538-f7ad-f41324edeb16"
      },
      "source": [
        "test_cleaned = test.drop(['PassengerId','Name','Sex', 'Age', 'Fare', 'Ticket', 'Embarked', 'Cabin'], axis=1)\n",
        "test_cleaned.shape"
      ],
      "execution_count": null,
      "outputs": [
        {
          "output_type": "execute_result",
          "data": {
            "text/plain": [
              "(418, 7)"
            ]
          },
          "metadata": {
            "tags": []
          },
          "execution_count": 39
        }
      ]
    },
    {
      "cell_type": "code",
      "metadata": {
        "id": "29v3wtM7nxjq",
        "colab": {
          "base_uri": "https://localhost:8080/",
          "height": 419
        },
        "outputId": "ab90f0d6-da9d-4941-9c6c-f87a8e2dc4ac"
      },
      "source": [
        "test_cleaned"
      ],
      "execution_count": null,
      "outputs": [
        {
          "output_type": "execute_result",
          "data": {
            "text/html": [
              "<div>\n",
              "<style scoped>\n",
              "    .dataframe tbody tr th:only-of-type {\n",
              "        vertical-align: middle;\n",
              "    }\n",
              "\n",
              "    .dataframe tbody tr th {\n",
              "        vertical-align: top;\n",
              "    }\n",
              "\n",
              "    .dataframe thead th {\n",
              "        text-align: right;\n",
              "    }\n",
              "</style>\n",
              "<table border=\"1\" class=\"dataframe\">\n",
              "  <thead>\n",
              "    <tr style=\"text-align: right;\">\n",
              "      <th></th>\n",
              "      <th>Pclass</th>\n",
              "      <th>SibSp</th>\n",
              "      <th>Parch</th>\n",
              "      <th>FareType</th>\n",
              "      <th>SexCode</th>\n",
              "      <th>Age_cat</th>\n",
              "      <th>Embarked_code</th>\n",
              "    </tr>\n",
              "  </thead>\n",
              "  <tbody>\n",
              "    <tr>\n",
              "      <th>0</th>\n",
              "      <td>3</td>\n",
              "      <td>0</td>\n",
              "      <td>0</td>\n",
              "      <td>1</td>\n",
              "      <td>0</td>\n",
              "      <td>2</td>\n",
              "      <td>0</td>\n",
              "    </tr>\n",
              "    <tr>\n",
              "      <th>1</th>\n",
              "      <td>3</td>\n",
              "      <td>1</td>\n",
              "      <td>0</td>\n",
              "      <td>0</td>\n",
              "      <td>1</td>\n",
              "      <td>2</td>\n",
              "      <td>2</td>\n",
              "    </tr>\n",
              "    <tr>\n",
              "      <th>2</th>\n",
              "      <td>2</td>\n",
              "      <td>0</td>\n",
              "      <td>0</td>\n",
              "      <td>1</td>\n",
              "      <td>0</td>\n",
              "      <td>3</td>\n",
              "      <td>0</td>\n",
              "    </tr>\n",
              "    <tr>\n",
              "      <th>3</th>\n",
              "      <td>3</td>\n",
              "      <td>0</td>\n",
              "      <td>0</td>\n",
              "      <td>1</td>\n",
              "      <td>0</td>\n",
              "      <td>1</td>\n",
              "      <td>2</td>\n",
              "    </tr>\n",
              "    <tr>\n",
              "      <th>4</th>\n",
              "      <td>3</td>\n",
              "      <td>1</td>\n",
              "      <td>1</td>\n",
              "      <td>1</td>\n",
              "      <td>1</td>\n",
              "      <td>1</td>\n",
              "      <td>2</td>\n",
              "    </tr>\n",
              "    <tr>\n",
              "      <th>...</th>\n",
              "      <td>...</td>\n",
              "      <td>...</td>\n",
              "      <td>...</td>\n",
              "      <td>...</td>\n",
              "      <td>...</td>\n",
              "      <td>...</td>\n",
              "      <td>...</td>\n",
              "    </tr>\n",
              "    <tr>\n",
              "      <th>413</th>\n",
              "      <td>3</td>\n",
              "      <td>0</td>\n",
              "      <td>0</td>\n",
              "      <td>1</td>\n",
              "      <td>0</td>\n",
              "      <td>1</td>\n",
              "      <td>2</td>\n",
              "    </tr>\n",
              "    <tr>\n",
              "      <th>414</th>\n",
              "      <td>1</td>\n",
              "      <td>0</td>\n",
              "      <td>0</td>\n",
              "      <td>3</td>\n",
              "      <td>1</td>\n",
              "      <td>2</td>\n",
              "      <td>1</td>\n",
              "    </tr>\n",
              "    <tr>\n",
              "      <th>415</th>\n",
              "      <td>3</td>\n",
              "      <td>0</td>\n",
              "      <td>0</td>\n",
              "      <td>1</td>\n",
              "      <td>0</td>\n",
              "      <td>2</td>\n",
              "      <td>2</td>\n",
              "    </tr>\n",
              "    <tr>\n",
              "      <th>416</th>\n",
              "      <td>3</td>\n",
              "      <td>0</td>\n",
              "      <td>0</td>\n",
              "      <td>1</td>\n",
              "      <td>0</td>\n",
              "      <td>1</td>\n",
              "      <td>2</td>\n",
              "    </tr>\n",
              "    <tr>\n",
              "      <th>417</th>\n",
              "      <td>3</td>\n",
              "      <td>1</td>\n",
              "      <td>1</td>\n",
              "      <td>2</td>\n",
              "      <td>0</td>\n",
              "      <td>1</td>\n",
              "      <td>1</td>\n",
              "    </tr>\n",
              "  </tbody>\n",
              "</table>\n",
              "<p>418 rows × 7 columns</p>\n",
              "</div>"
            ],
            "text/plain": [
              "     Pclass  SibSp  Parch  FareType  SexCode  Age_cat  Embarked_code\n",
              "0         3      0      0         1        0        2              0\n",
              "1         3      1      0         0        1        2              2\n",
              "2         2      0      0         1        0        3              0\n",
              "3         3      0      0         1        0        1              2\n",
              "4         3      1      1         1        1        1              2\n",
              "..      ...    ...    ...       ...      ...      ...            ...\n",
              "413       3      0      0         1        0        1              2\n",
              "414       1      0      0         3        1        2              1\n",
              "415       3      0      0         1        0        2              2\n",
              "416       3      0      0         1        0        1              2\n",
              "417       3      1      1         2        0        1              1\n",
              "\n",
              "[418 rows x 7 columns]"
            ]
          },
          "metadata": {
            "tags": []
          },
          "execution_count": 24
        }
      ]
    },
    {
      "cell_type": "markdown",
      "metadata": {
        "id": "_taFdLrkhqJN"
      },
      "source": [
        "# Logistic Regression"
      ]
    },
    {
      "cell_type": "code",
      "metadata": {
        "id": "i4dqDj0Ehnie"
      },
      "source": [
        "from sklearn.linear_model import LogisticRegression\n",
        "from sklearn.metrics import mean_absolute_error, accuracy_score\n",
        "from sklearn.model_selection import train_test_split\n",
        "from sklearn.preprocessing import StandardScaler\n",
        "from sklearn.metrics import classification_report, confusion_matrix\n",
        "from sklearn.metrics import ConfusionMatrixDisplay\n",
        "from sklearn.metrics import accuracy_score\n",
        "from sklearn.metrics import confusion_matrix \n",
        "from sklearn.model_selection import KFold, StratifiedKFold #for K-fold cross validation\n",
        "from sklearn.model_selection import cross_val_score #score evaluation: CROSS VALIDATION\n",
        "from sklearn.model_selection import cross_val_predict #prediction\n",
        "from sklearn.metrics import precision_score\n",
        "from sklearn.metrics import accuracy_score\n",
        "from sklearn.linear_model import LassoCV, LassoLarsCV, LassoLarsIC\n"
      ],
      "execution_count": null,
      "outputs": []
    },
    {
      "cell_type": "code",
      "metadata": {
        "id": "ySutA6O7PkH3"
      },
      "source": [
        "# to choose the varibles for predictive model let's see the correlation \n",
        "plt.subplots(figsize=(8, 5))\n",
        "sns.heatmap(train_cleaned.corr(), annot=True, cmap=\"RdYlGn\")\n",
        "plt.show()"
      ],
      "execution_count": null,
      "outputs": []
    },
    {
      "cell_type": "markdown",
      "metadata": {
        "id": "ajlqbKW4EPoU"
      },
      "source": [
        "The feautures for the model are passenager class, number of siblings , parents, partners on board, type of the fare, sex, age, Embarked port"
      ]
    },
    {
      "cell_type": "code",
      "metadata": {
        "id": "E-obiTpcYpJR"
      },
      "source": [
        "#defining the features and response for the model \n",
        "X = train_cleaned.drop(['Survived'], axis=1)\n",
        "stdscale=StandardScaler()\n",
        "X_scaled = stdscale.fit_transform(X)\n",
        "y = train.Survived.copy()\n",
        "X_train, X_test, y_train, y_test = train_test_split(X_scaled, y, test_size=0.25, random_state=5)\n",
        "logreg=LogisticRegression()"
      ],
      "execution_count": null,
      "outputs": []
    },
    {
      "cell_type": "code",
      "metadata": {
        "id": "hvHyL_rya8f1"
      },
      "source": [
        "logreg.fit(X_train, y_train)\n",
        "y_pred = logreg.predict(X_test)\n",
        "accuracy =logreg.score(X_test, y_test) "
      ],
      "execution_count": null,
      "outputs": []
    },
    {
      "cell_type": "markdown",
      "metadata": {
        "id": "BDdYe_GBfLFO"
      },
      "source": [
        "The model predict the survival level at 85% level.\n",
        "\n",
        "\n"
      ]
    },
    {
      "cell_type": "markdown",
      "metadata": {
        "id": "3HAHjDA8bNRi"
      },
      "source": [
        "The number of correct predictions for not survived are 475 and for survived 237."
      ]
    },
    {
      "cell_type": "code",
      "metadata": {
        "id": "zWJo1W0tm6SS",
        "colab": {
          "base_uri": "https://localhost:8080/"
        },
        "outputId": "648ba9bc-13d5-4236-aa07-7846d50af6e7"
      },
      "source": [
        "# I tried this package to see details about model\n",
        "import statsmodels.api as sm"
      ],
      "execution_count": null,
      "outputs": [
        {
          "output_type": "stream",
          "text": [
            "/usr/local/lib/python3.6/dist-packages/statsmodels/tools/_testing.py:19: FutureWarning: pandas.util.testing is deprecated. Use the functions in the public API at pandas.testing instead.\n",
            "  import pandas.util.testing as tm\n"
          ],
          "name": "stderr"
        }
      ]
    },
    {
      "cell_type": "code",
      "metadata": {
        "id": "DfSdt8pmm7gW",
        "colab": {
          "base_uri": "https://localhost:8080/",
          "height": 404
        },
        "outputId": "bc565bb7-7e82-4d45-fbb0-6f684dbda9ec"
      },
      "source": [
        "model = sm.Logit(y_test, X_test)\n",
        "result = model.fit(method='newton')\n",
        "result.summary()"
      ],
      "execution_count": null,
      "outputs": [
        {
          "output_type": "stream",
          "text": [
            "Optimization terminated successfully.\n",
            "         Current function value: 0.412976\n",
            "         Iterations 6\n"
          ],
          "name": "stdout"
        },
        {
          "output_type": "execute_result",
          "data": {
            "text/html": [
              "<table class=\"simpletable\">\n",
              "<caption>Logit Regression Results</caption>\n",
              "<tr>\n",
              "  <th>Dep. Variable:</th>       <td>Survived</td>     <th>  No. Observations:  </th>  <td>   223</td>  \n",
              "</tr>\n",
              "<tr>\n",
              "  <th>Model:</th>                 <td>Logit</td>      <th>  Df Residuals:      </th>  <td>   216</td>  \n",
              "</tr>\n",
              "<tr>\n",
              "  <th>Method:</th>                 <td>MLE</td>       <th>  Df Model:          </th>  <td>     6</td>  \n",
              "</tr>\n",
              "<tr>\n",
              "  <th>Date:</th>            <td>Mon, 02 Nov 2020</td> <th>  Pseudo R-squ.:     </th>  <td>0.3744</td>  \n",
              "</tr>\n",
              "<tr>\n",
              "  <th>Time:</th>                <td>11:44:29</td>     <th>  Log-Likelihood:    </th> <td> -92.094</td> \n",
              "</tr>\n",
              "<tr>\n",
              "  <th>converged:</th>             <td>True</td>       <th>  LL-Null:           </th> <td> -147.21</td> \n",
              "</tr>\n",
              "<tr>\n",
              "  <th>Covariance Type:</th>     <td>nonrobust</td>    <th>  LLR p-value:       </th> <td>1.830e-21</td>\n",
              "</tr>\n",
              "</table>\n",
              "<table class=\"simpletable\">\n",
              "<tr>\n",
              "   <td></td>     <th>coef</th>     <th>std err</th>      <th>z</th>      <th>P>|z|</th>  <th>[0.025</th>    <th>0.975]</th>  \n",
              "</tr>\n",
              "<tr>\n",
              "  <th>x1</th> <td>   -0.5856</td> <td>    0.281</td> <td>   -2.084</td> <td> 0.037</td> <td>   -1.136</td> <td>   -0.035</td>\n",
              "</tr>\n",
              "<tr>\n",
              "  <th>x2</th> <td>   -0.7066</td> <td>    0.268</td> <td>   -2.639</td> <td> 0.008</td> <td>   -1.231</td> <td>   -0.182</td>\n",
              "</tr>\n",
              "<tr>\n",
              "  <th>x3</th> <td>   -0.1319</td> <td>    0.238</td> <td>   -0.555</td> <td> 0.579</td> <td>   -0.598</td> <td>    0.334</td>\n",
              "</tr>\n",
              "<tr>\n",
              "  <th>x4</th> <td>    0.8467</td> <td>    0.289</td> <td>    2.935</td> <td> 0.003</td> <td>    0.281</td> <td>    1.412</td>\n",
              "</tr>\n",
              "<tr>\n",
              "  <th>x5</th> <td>    1.4867</td> <td>    0.213</td> <td>    6.967</td> <td> 0.000</td> <td>    1.068</td> <td>    1.905</td>\n",
              "</tr>\n",
              "<tr>\n",
              "  <th>x6</th> <td>   -0.4975</td> <td>    0.233</td> <td>   -2.139</td> <td> 0.032</td> <td>   -0.953</td> <td>   -0.042</td>\n",
              "</tr>\n",
              "<tr>\n",
              "  <th>x7</th> <td>   -0.0407</td> <td>    0.189</td> <td>   -0.215</td> <td> 0.830</td> <td>   -0.412</td> <td>    0.331</td>\n",
              "</tr>\n",
              "</table>"
            ],
            "text/plain": [
              "<class 'statsmodels.iolib.summary.Summary'>\n",
              "\"\"\"\n",
              "                           Logit Regression Results                           \n",
              "==============================================================================\n",
              "Dep. Variable:               Survived   No. Observations:                  223\n",
              "Model:                          Logit   Df Residuals:                      216\n",
              "Method:                           MLE   Df Model:                            6\n",
              "Date:                Mon, 02 Nov 2020   Pseudo R-squ.:                  0.3744\n",
              "Time:                        11:44:29   Log-Likelihood:                -92.094\n",
              "converged:                       True   LL-Null:                       -147.21\n",
              "Covariance Type:            nonrobust   LLR p-value:                 1.830e-21\n",
              "==============================================================================\n",
              "                 coef    std err          z      P>|z|      [0.025      0.975]\n",
              "------------------------------------------------------------------------------\n",
              "x1            -0.5856      0.281     -2.084      0.037      -1.136      -0.035\n",
              "x2            -0.7066      0.268     -2.639      0.008      -1.231      -0.182\n",
              "x3            -0.1319      0.238     -0.555      0.579      -0.598       0.334\n",
              "x4             0.8467      0.289      2.935      0.003       0.281       1.412\n",
              "x5             1.4867      0.213      6.967      0.000       1.068       1.905\n",
              "x6            -0.4975      0.233     -2.139      0.032      -0.953      -0.042\n",
              "x7            -0.0407      0.189     -0.215      0.830      -0.412       0.331\n",
              "==============================================================================\n",
              "\"\"\""
            ]
          },
          "metadata": {
            "tags": []
          },
          "execution_count": 30
        }
      ]
    },
    {
      "cell_type": "markdown",
      "metadata": {
        "id": "knDLDCl3b1D-"
      },
      "source": [
        "### LDA"
      ]
    },
    {
      "cell_type": "code",
      "metadata": {
        "id": "1TwcljjJb31H"
      },
      "source": [
        "import matplotlib.pyplot as plt\n",
        "from sklearn.discriminant_analysis import LinearDiscriminantAnalysis"
      ],
      "execution_count": null,
      "outputs": []
    },
    {
      "cell_type": "code",
      "metadata": {
        "id": "P6CnjcVhduD2",
        "colab": {
          "base_uri": "https://localhost:8080/"
        },
        "outputId": "4e40c2aa-0c75-4f8c-841a-d5c0eb52b6ad"
      },
      "source": [
        "lda = LinearDiscriminantAnalysis()\n",
        "lda.fit(X_train, y_train)\n",
        "Y_pred = lda.predict(X_test)\n",
        "acc_lda = round(lda.score(X_train,y_train) * 100, 2)\n",
        "acc_lda"
      ],
      "execution_count": null,
      "outputs": [
        {
          "output_type": "execute_result",
          "data": {
            "text/plain": [
              "78.59"
            ]
          },
          "metadata": {
            "tags": []
          },
          "execution_count": 32
        }
      ]
    },
    {
      "cell_type": "code",
      "metadata": {
        "id": "iZz5E4XHOcOZ",
        "colab": {
          "base_uri": "https://localhost:8080/"
        },
        "outputId": "1c8b049a-565c-4dcc-892a-1c675b61c9f7"
      },
      "source": [
        "X = train_cleaned[['Pclass', 'SibSp', 'Parch', 'FareType', 'SexCode', 'Age_cat', 'Embarked_code']].values\n",
        "y = train_cleaned['Survived'].values\n",
        "\n",
        "from sklearn import metrics\n",
        "from sklearn.model_selection import train_test_split\n",
        "X_train, X_test, y_train, y_test = train_test_split( X, y, test_size=0.2, random_state=4)\n",
        "print ('Train set:', X_train.shape,  y_train.shape)\n",
        "print ('Test set:', X_test.shape,  y_test.shape)"
      ],
      "execution_count": null,
      "outputs": [
        {
          "output_type": "stream",
          "text": [
            "Train set: (712, 7) (712,)\n",
            "Test set: (179, 7) (179,)\n"
          ],
          "name": "stdout"
        }
      ]
    },
    {
      "cell_type": "code",
      "metadata": {
        "id": "43EpJi7yOcgh",
        "colab": {
          "base_uri": "https://localhost:8080/"
        },
        "outputId": "5e32b94c-76df-4a08-9aaf-e37fe5454bba"
      },
      "source": [
        "from sklearn.discriminant_analysis import LinearDiscriminantAnalysis\n",
        "ldaModel = LinearDiscriminantAnalysis().fit(X_train,y_train)\n",
        "yhat = ldaModel.predict(X_test)\n",
        "\n",
        "print(\"Train set Accuracy: \", metrics.accuracy_score(y_train, ldaModel.predict(X_train)))\n",
        "print(\"Test set Accuracy: \", metrics.accuracy_score(y_test, yhat))"
      ],
      "execution_count": null,
      "outputs": [
        {
          "output_type": "stream",
          "text": [
            "Train set Accuracy:  0.7879213483146067\n",
            "Test set Accuracy:  0.8212290502793296\n"
          ],
          "name": "stdout"
        }
      ]
    },
    {
      "cell_type": "code",
      "metadata": {
        "id": "7BHJXzbnhQzy",
        "colab": {
          "base_uri": "https://localhost:8080/",
          "height": 312
        },
        "outputId": "c743b06f-3d24-4ded-8d49-bfb7cbbaff8b"
      },
      "source": [
        "kfold = KFold(n_splits=10) # k=10, split the data into 10 equal parts\n",
        "cv_result = cross_val_score(ldaModel, X_scaled, y, cv = kfold, scoring = \"accuracy\")\n",
        "cv_result.mean() # mean accuracy of kfold\n",
        "\n",
        "fig=plt.subplot()\n",
        "ax=plt.gca()\n",
        "y_pred = cross_val_predict(ldaModel,X_scaled,y,cv=kfold)\n",
        "sns.heatmap(confusion_matrix(y,y_pred),annot=True,fmt='2.0f')\n",
        "ax.set_title('Matrix for LDA')\n",
        "ax.set_ylabel('Actual Value')\n",
        "ax.set_xlabel('Predicted Value')"
      ],
      "execution_count": null,
      "outputs": [
        {
          "output_type": "execute_result",
          "data": {
            "text/plain": [
              "Text(0.5, 15.0, 'Predicted Value')"
            ]
          },
          "metadata": {
            "tags": []
          },
          "execution_count": 35
        },
        {
          "output_type": "display_data",
          "data": {
            "image/png": "[encoded data removed]",
            "text/plain": [
              "<Figure size 432x288 with 2 Axes>"
            ]
          },
          "metadata": {
            "tags": [],
            "needs_background": "light"
          }
        }
      ]
    },
    {
      "cell_type": "code",
      "metadata": {
        "id": "CtzRCtAqv-Tu",
        "colab": {
          "base_uri": "https://localhost:8080/"
        },
        "outputId": "0ed01297-c489-4178-d43a-a05fb9ebaa2d"
      },
      "source": [
        "from sklearn.discriminant_analysis import QuadraticDiscriminantAnalysis\n",
        "qdaModel = QuadraticDiscriminantAnalysis().fit(X_train,y_train)\n",
        "yhat = qdaModel.predict(X_test)\n",
        "\n",
        "print(\"Train set Accuracy: \", metrics.accuracy_score(y_train, qdaModel.predict(X_train)))\n",
        "print(\"Test set Accuracy: \", metrics.accuracy_score(y_test, yhat))"
      ],
      "execution_count": null,
      "outputs": [
        {
          "output_type": "stream",
          "text": [
            "Train set Accuracy:  0.7935393258426966\n",
            "Test set Accuracy:  0.8268156424581006\n"
          ],
          "name": "stdout"
        }
      ]
    },
    {
      "cell_type": "markdown",
      "metadata": {
        "id": "ZHogi7frkOCs"
      },
      "source": [
        "## k-Nearest Neighbors classifier (kNN) - Gabriel Pérez"
      ]
    },
    {
      "cell_type": "code",
      "metadata": {
        "id": "23fSQGrjkR_Q",
        "colab": {
          "base_uri": "https://localhost:8080/",
          "height": 204
        },
        "outputId": "d8284e01-5d51-4bff-8708-81dae8aae8d3"
      },
      "source": [
        "train_cleaned.head(5)"
      ],
      "execution_count": null,
      "outputs": [
        {
          "output_type": "execute_result",
          "data": {
            "text/html": [
              "<div>\n",
              "<style scoped>\n",
              "    .dataframe tbody tr th:only-of-type {\n",
              "        vertical-align: middle;\n",
              "    }\n",
              "\n",
              "    .dataframe tbody tr th {\n",
              "        vertical-align: top;\n",
              "    }\n",
              "\n",
              "    .dataframe thead th {\n",
              "        text-align: right;\n",
              "    }\n",
              "</style>\n",
              "<table border=\"1\" class=\"dataframe\">\n",
              "  <thead>\n",
              "    <tr style=\"text-align: right;\">\n",
              "      <th></th>\n",
              "      <th>Survived</th>\n",
              "      <th>Pclass</th>\n",
              "      <th>SibSp</th>\n",
              "      <th>Parch</th>\n",
              "      <th>FareType</th>\n",
              "      <th>SexCode</th>\n",
              "      <th>Age_cat</th>\n",
              "      <th>Embarked_code</th>\n",
              "    </tr>\n",
              "  </thead>\n",
              "  <tbody>\n",
              "    <tr>\n",
              "      <th>0</th>\n",
              "      <td>0</td>\n",
              "      <td>3</td>\n",
              "      <td>1</td>\n",
              "      <td>0</td>\n",
              "      <td>1</td>\n",
              "      <td>0</td>\n",
              "      <td>1</td>\n",
              "      <td>2</td>\n",
              "    </tr>\n",
              "    <tr>\n",
              "      <th>1</th>\n",
              "      <td>1</td>\n",
              "      <td>1</td>\n",
              "      <td>1</td>\n",
              "      <td>0</td>\n",
              "      <td>3</td>\n",
              "      <td>1</td>\n",
              "      <td>2</td>\n",
              "      <td>1</td>\n",
              "    </tr>\n",
              "    <tr>\n",
              "      <th>2</th>\n",
              "      <td>1</td>\n",
              "      <td>3</td>\n",
              "      <td>0</td>\n",
              "      <td>0</td>\n",
              "      <td>1</td>\n",
              "      <td>1</td>\n",
              "      <td>1</td>\n",
              "      <td>2</td>\n",
              "    </tr>\n",
              "    <tr>\n",
              "      <th>3</th>\n",
              "      <td>1</td>\n",
              "      <td>1</td>\n",
              "      <td>1</td>\n",
              "      <td>0</td>\n",
              "      <td>3</td>\n",
              "      <td>1</td>\n",
              "      <td>2</td>\n",
              "      <td>2</td>\n",
              "    </tr>\n",
              "    <tr>\n",
              "      <th>4</th>\n",
              "      <td>0</td>\n",
              "      <td>3</td>\n",
              "      <td>0</td>\n",
              "      <td>0</td>\n",
              "      <td>1</td>\n",
              "      <td>0</td>\n",
              "      <td>2</td>\n",
              "      <td>2</td>\n",
              "    </tr>\n",
              "  </tbody>\n",
              "</table>\n",
              "</div>"
            ],
            "text/plain": [
              "   Survived  Pclass  SibSp  Parch  FareType  SexCode  Age_cat  Embarked_code\n",
              "0         0       3      1      0         1        0        1              2\n",
              "1         1       1      1      0         3        1        2              1\n",
              "2         1       3      0      0         1        1        1              2\n",
              "3         1       1      1      0         3        1        2              2\n",
              "4         0       3      0      0         1        0        2              2"
            ]
          },
          "metadata": {
            "tags": []
          },
          "execution_count": 37
        }
      ]
    },
    {
      "cell_type": "code",
      "metadata": {
        "id": "_MquaPLmkkGv",
        "colab": {
          "base_uri": "https://localhost:8080/"
        },
        "outputId": "ecc6a5ee-3ad8-470c-be4f-babbcf3513b5"
      },
      "source": [
        "train_cleaned.columns"
      ],
      "execution_count": null,
      "outputs": [
        {
          "output_type": "execute_result",
          "data": {
            "text/plain": [
              "Index(['Survived', 'Pclass', 'SibSp', 'Parch', 'FareType', 'SexCode',\n",
              "       'Age_cat', 'Embarked_code'],\n",
              "      dtype='object')"
            ]
          },
          "metadata": {
            "tags": []
          },
          "execution_count": 38
        }
      ]
    },
    {
      "cell_type": "code",
      "metadata": {
        "id": "UCFKihjHlO68",
        "colab": {
          "base_uri": "https://localhost:8080/"
        },
        "outputId": "92fdd171-521d-41f3-e599-17f54666dfe1"
      },
      "source": [
        "X = train_cleaned[['Pclass', 'SibSp', 'Parch', 'FareType', 'SexCode', 'Age_cat', 'Embarked_code']].values\n",
        "X[:5]"
      ],
      "execution_count": null,
      "outputs": [
        {
          "output_type": "execute_result",
          "data": {
            "text/plain": [
              "array([[3, 1, 0, 1, 0, 1, 2],\n",
              "       [1, 1, 0, 3, 1, 2, 1],\n",
              "       [3, 0, 0, 1, 1, 1, 2],\n",
              "       [1, 1, 0, 3, 1, 2, 2],\n",
              "       [3, 0, 0, 1, 0, 2, 2]])"
            ]
          },
          "metadata": {
            "tags": []
          },
          "execution_count": 39
        }
      ]
    },
    {
      "cell_type": "code",
      "metadata": {
        "id": "J082ib9clZY6",
        "colab": {
          "base_uri": "https://localhost:8080/"
        },
        "outputId": "41fa2017-aa68-4987-ffae-03ae04573ec1"
      },
      "source": [
        "y = train_cleaned['Survived'].values\n",
        "y[:5]"
      ],
      "execution_count": null,
      "outputs": [
        {
          "output_type": "execute_result",
          "data": {
            "text/plain": [
              "array([0, 1, 1, 1, 0])"
            ]
          },
          "metadata": {
            "tags": []
          },
          "execution_count": 40
        }
      ]
    },
    {
      "cell_type": "code",
      "metadata": {
        "id": "_c9T3Tzgly5P"
      },
      "source": [
        "from sklearn import preprocessing"
      ],
      "execution_count": null,
      "outputs": []
    },
    {
      "cell_type": "markdown",
      "metadata": {
        "id": "K9lbEuYYybMZ"
      },
      "source": [
        "Data Standardization give data zero mean and unit variance, it is good practice, especially for algorithms such as KNN which is based on distance. But In this case it decreases the performance of the model."
      ]
    },
    {
      "cell_type": "code",
      "metadata": {
        "id": "W-qsGk1tl6vw"
      },
      "source": [
        "#X = preprocessing.StandardScaler().fit(X).transform(X.astype(float))\n",
        "#X[0:5]"
      ],
      "execution_count": null,
      "outputs": []
    },
    {
      "cell_type": "code",
      "metadata": {
        "id": "bKdxLkM4l-uH",
        "colab": {
          "base_uri": "https://localhost:8080/"
        },
        "outputId": "81d3d0f2-da77-49ea-96cb-5031c1268ae1"
      },
      "source": [
        "from sklearn.model_selection import train_test_split\n",
        "X_train, X_test, y_train, y_test = train_test_split( X, y, test_size=0.2, random_state=4)\n",
        "print ('Train set:', X_train.shape,  y_train.shape)\n",
        "print ('Test set:', X_test.shape,  y_test.shape)"
      ],
      "execution_count": null,
      "outputs": [
        {
          "output_type": "stream",
          "text": [
            "Train set: (712, 7) (712,)\n",
            "Test set: (179, 7) (179,)\n"
          ],
          "name": "stdout"
        }
      ]
    },
    {
      "cell_type": "code",
      "metadata": {
        "id": "su6eYr-FmP3M"
      },
      "source": [
        "from sklearn.neighbors import KNeighborsClassifier\n",
        "from sklearn import metrics"
      ],
      "execution_count": null,
      "outputs": []
    },
    {
      "cell_type": "markdown",
      "metadata": {
        "id": "px64ePqhlxTg"
      },
      "source": [
        "We can calculate the accuracy of KNN for different Ks. Essentially, it calculates how closely the actual labels and predicted labels are matched in the test set."
      ]
    },
    {
      "cell_type": "code",
      "metadata": {
        "id": "f-3LI8rjmV89",
        "colab": {
          "base_uri": "https://localhost:8080/",
          "height": 297
        },
        "outputId": "3f91ac62-3246-4be4-b710-bd3ed4df628c"
      },
      "source": [
        "N = 18\n",
        "train_accuracy = []\n",
        "test_accuracy = []\n",
        "for k in range(1,N):\n",
        "    neigh = KNeighborsClassifier(n_neighbors = k).fit(X_train,y_train)\n",
        "    y_hat = neigh.predict(X_test)\n",
        "    train_accuracy.append(metrics.accuracy_score(y_train, neigh.predict(X_train)))\n",
        "    test_accuracy.append(metrics.accuracy_score(y_test, y_hat))\n",
        "\n",
        "plt.plot(range(1,N), train_accuracy, label='train')\n",
        "plt.plot(range(1,N), test_accuracy, label='test')\n",
        "plt.legend(loc='best')\n",
        "plt.xlabel('Value of k')\n",
        "plt.ylabel('Accuracy of model')\n",
        "plt.tight_layout()\n",
        "plt.show()"
      ],
      "execution_count": null,
      "outputs": [
        {
          "output_type": "display_data",
          "data": {
            "image/png": "[encoded data removed]",
            "text/plain": [
              "<Figure size 432x288 with 1 Axes>"
            ]
          },
          "metadata": {
            "tags": [],
            "needs_background": "light"
          }
        }
      ]
    },
    {
      "cell_type": "code",
      "metadata": {
        "id": "6YHGoRD_neCM",
        "colab": {
          "base_uri": "https://localhost:8080/"
        },
        "outputId": "2db1a787-dc63-4274-a1e1-a99d9fb062b2"
      },
      "source": [
        "Ks = 10\n",
        "mean_acc = np.zeros((Ks-1))\n",
        "std_acc = np.zeros((Ks-1))\n",
        "ConfustionMx = [];\n",
        "for n in range(1,Ks):\n",
        "    \n",
        "    #Train Model and Predict  \n",
        "    neigh = KNeighborsClassifier(n_neighbors = n).fit(X_train,y_train)\n",
        "    yhat=neigh.predict(X_test)\n",
        "    mean_acc[n-1] = metrics.accuracy_score(y_test, yhat)\n",
        "\n",
        "    std_acc[n-1]=np.std(yhat==y_test)/np.sqrt(yhat.shape[0])\n",
        "\n",
        "mean_acc"
      ],
      "execution_count": null,
      "outputs": [
        {
          "output_type": "execute_result",
          "data": {
            "text/plain": [
              "array([0.75418994, 0.76536313, 0.78212291, 0.81564246, 0.82681564,\n",
              "       0.80446927, 0.80446927, 0.80446927, 0.79888268])"
            ]
          },
          "metadata": {
            "tags": []
          },
          "execution_count": 46
        }
      ]
    },
    {
      "cell_type": "code",
      "metadata": {
        "id": "6rlM6neqnpPj",
        "colab": {
          "base_uri": "https://localhost:8080/",
          "height": 297
        },
        "outputId": "b7451a6e-ef6b-4c73-b8bb-44c15a9a5ee4"
      },
      "source": [
        "plt.plot(range(1,Ks),mean_acc,'g')\n",
        "plt.fill_between(range(1,Ks),mean_acc - 1 * std_acc,mean_acc + 1 * std_acc, alpha=0.10)\n",
        "plt.legend(('Accuracy ', '+/- std'))\n",
        "plt.ylabel('Accuracy ')\n",
        "plt.xlabel('Number of Nabors (K)')\n",
        "plt.tight_layout()\n",
        "plt.show()"
      ],
      "execution_count": null,
      "outputs": [
        {
          "output_type": "display_data",
          "data": {
            "image/png": "[encoded data removed]",
            "text/plain": [
              "<Figure size 432x288 with 1 Axes>"
            ]
          },
          "metadata": {
            "tags": [],
            "needs_background": "light"
          }
        }
      ]
    },
    {
      "cell_type": "code",
      "metadata": {
        "id": "WNHMn6khntNv",
        "colab": {
          "base_uri": "https://localhost:8080/"
        },
        "outputId": "d1c6f9e4-2ad2-401a-a5ee-c2820e264169"
      },
      "source": [
        "print( \"The best accuracy was\", mean_acc.max(), \"with k=\", mean_acc.argmax()+1) "
      ],
      "execution_count": null,
      "outputs": [
        {
          "output_type": "stream",
          "text": [
            "The best accuracy was 0.8268156424581006 with k= 5\n"
          ],
          "name": "stdout"
        }
      ]
    },
    {
      "cell_type": "code",
      "metadata": {
        "id": "XEB38avPkLsx",
        "colab": {
          "base_uri": "https://localhost:8080/"
        },
        "outputId": "dfc3bc26-ca7f-472c-c7d6-34a497dc1a29"
      },
      "source": [
        "k = 5\n",
        "#Train Model and Predict  \n",
        "knn_model = KNeighborsClassifier(n_neighbors = k).fit(X_train,y_train)\n",
        "knn_model"
      ],
      "execution_count": null,
      "outputs": [
        {
          "output_type": "execute_result",
          "data": {
            "text/plain": [
              "KNeighborsClassifier(algorithm='auto', leaf_size=30, metric='minkowski',\n",
              "                     metric_params=None, n_jobs=None, n_neighbors=5, p=2,\n",
              "                     weights='uniform')"
            ]
          },
          "metadata": {
            "tags": []
          },
          "execution_count": 49
        }
      ]
    },
    {
      "cell_type": "code",
      "metadata": {
        "id": "Kit3gs25kL7V",
        "colab": {
          "base_uri": "https://localhost:8080/"
        },
        "outputId": "b4b885cb-0707-47ea-fb95-37c7c6f306f1"
      },
      "source": [
        "yhat = knn_model.predict(X_test)\n",
        "yhat[0:5]"
      ],
      "execution_count": null,
      "outputs": [
        {
          "output_type": "execute_result",
          "data": {
            "text/plain": [
              "array([0, 0, 1, 0, 0])"
            ]
          },
          "metadata": {
            "tags": []
          },
          "execution_count": 50
        }
      ]
    },
    {
      "cell_type": "code",
      "metadata": {
        "id": "SXaBGgBZkLpN",
        "colab": {
          "base_uri": "https://localhost:8080/"
        },
        "outputId": "612f91fc-9f7e-466c-b1b0-cae48ac2cbea"
      },
      "source": [
        "print(\"Train set Accuracy: \", metrics.accuracy_score(y_train, knn_model.predict(X_train)))\n",
        "print(\"Test set Accuracy: \", metrics.accuracy_score(y_test, yhat))"
      ],
      "execution_count": null,
      "outputs": [
        {
          "output_type": "stream",
          "text": [
            "Train set Accuracy:  0.8455056179775281\n",
            "Test set Accuracy:  0.8268156424581006\n"
          ],
          "name": "stdout"
        }
      ]
    },
    {
      "cell_type": "code",
      "metadata": {
        "id": "u_gYXyxVkfJI",
        "colab": {
          "base_uri": "https://localhost:8080/"
        },
        "outputId": "6b5d14f9-4520-4529-ca55-7b147ab2b0c9"
      },
      "source": [
        "from sklearn.metrics import classification_report, confusion_matrix\n",
        "import itertools\n",
        "def plot_confusion_matrix(cm, classes,\n",
        "                          normalize=False,\n",
        "                          title='Confusion matrix',\n",
        "                          cmap=plt.cm.Blues):\n",
        "    \"\"\"\n",
        "    This function prints and plots the confusion matrix.\n",
        "    Normalization can be applied by setting `normalize=True`.\n",
        "    \"\"\"\n",
        "    if normalize:\n",
        "        cm = cm.astype('float') / cm.sum(axis=1)[:, np.newaxis]\n",
        "        print(\"Normalized confusion matrix\")\n",
        "    else:\n",
        "        print('Confusion matrix, without normalization')\n",
        "\n",
        "    print(cm)\n",
        "\n",
        "    plt.imshow(cm, interpolation='nearest', cmap=cmap)\n",
        "    plt.title(title)\n",
        "    plt.colorbar()\n",
        "    tick_marks = np.arange(len(classes))\n",
        "    plt.xticks(tick_marks, classes, rotation=45)\n",
        "    plt.yticks(tick_marks, classes)\n",
        "\n",
        "    fmt = '.2f' if normalize else 'd'\n",
        "    thresh = cm.max() / 2.\n",
        "    for i, j in itertools.product(range(cm.shape[0]), range(cm.shape[1])):\n",
        "        plt.text(j, i, format(cm[i, j], fmt),\n",
        "                 horizontalalignment=\"center\",\n",
        "                 color=\"white\" if cm[i, j] > thresh else \"black\")\n",
        "\n",
        "    plt.tight_layout()\n",
        "    plt.ylabel('True label')\n",
        "    plt.xlabel('Predicted label')\n",
        "print(confusion_matrix(y_test, yhat, labels=[1,0]))"
      ],
      "execution_count": null,
      "outputs": [
        {
          "output_type": "stream",
          "text": [
            "[[ 42  18]\n",
            " [ 13 106]]\n"
          ],
          "name": "stdout"
        }
      ]
    },
    {
      "cell_type": "code",
      "metadata": {
        "id": "zFmnUin3kfNS",
        "colab": {
          "base_uri": "https://localhost:8080/",
          "height": 362
        },
        "outputId": "90c2bcc6-9203-4287-e4aa-908faa0a3724"
      },
      "source": [
        "# Compute confusion matrix\n",
        "cnf_matrix = confusion_matrix(y_test, yhat, labels=[1,0])\n",
        "np.set_printoptions(precision=2)\n",
        "\n",
        "\n",
        "# Plot non-normalized confusion matrix\n",
        "plt.figure()\n",
        "plot_confusion_matrix(cnf_matrix, classes=['Survived=1','NoSurvived=0'],normalize= False,  title='Confusion matrix')"
      ],
      "execution_count": null,
      "outputs": [
        {
          "output_type": "stream",
          "text": [
            "Confusion matrix, without normalization\n",
            "[[ 42  18]\n",
            " [ 13 106]]\n"
          ],
          "name": "stdout"
        },
        {
          "output_type": "display_data",
          "data": {
            "image/png": "[encoded data removed]",
            "text/plain": [
              "<Figure size 432x288 with 2 Axes>"
            ]
          },
          "metadata": {
            "tags": [],
            "needs_background": "light"
          }
        }
      ]
    },
    {
      "cell_type": "markdown",
      "metadata": {
        "id": "wEG5_TXtlFPc"
      },
      "source": [
        "Matthews Correlation Coefitient confirm that k = 8 gives the best results"
      ]
    },
    {
      "cell_type": "code",
      "metadata": {
        "id": "kUZhTm17wBcq",
        "colab": {
          "base_uri": "https://localhost:8080/",
          "height": 297
        },
        "outputId": "00b76797-7d90-469f-bec6-424c969bf088"
      },
      "source": [
        "N = 18\n",
        "train_mcc = []\n",
        "test_mcc = []\n",
        "for k in range(1,N):\n",
        "    neigh = KNeighborsClassifier(n_neighbors = k).fit(X_train,y_train)\n",
        "    y_hat = neigh.predict(X_test)\n",
        "    train_mcc.append(metrics.matthews_corrcoef(y_train, neigh.predict(X_train)))\n",
        "    test_mcc.append(metrics.matthews_corrcoef(y_test, y_hat))\n",
        "\n",
        "plt.plot(range(1,N), train_mcc, label='train')\n",
        "plt.plot(range(1,N), test_mcc, label='test')\n",
        "plt.legend(loc='best')\n",
        "plt.xlabel('Value of k')\n",
        "plt.ylabel('Accuracy of model')\n",
        "plt.tight_layout()\n",
        "plt.show()"
      ],
      "execution_count": null,
      "outputs": [
        {
          "output_type": "display_data",
          "data": {
            "image/png": "[encoded data removed]",
            "text/plain": [
              "<Figure size 432x288 with 1 Axes>"
            ]
          },
          "metadata": {
            "tags": [],
            "needs_background": "light"
          }
        }
      ]
    },
    {
      "cell_type": "markdown",
      "metadata": {
        "id": "IVuhx4Nj08bK"
      },
      "source": [
        "## Model Comparison"
      ]
    },
    {
      "cell_type": "code",
      "metadata": {
        "id": "3j5E8rn91AWV"
      },
      "source": [
        "from sklearn.metrics import jaccard_similarity_score\n",
        "from sklearn.metrics import f1_score"
      ],
      "execution_count": null,
      "outputs": []
    },
    {
      "cell_type": "code",
      "metadata": {
        "id": "pTIV8u4F1BWf"
      },
      "source": [
        "y_KNN_hat = knn_model.predict(X_test)\n",
        "y_LDA_hat = ldaModel.predict(X_test)\n",
        "y_QDA_hat = qdaModel.predict(X_test)\n",
        "y_LR_hat = logreg.predict(X_test)"
      ],
      "execution_count": null,
      "outputs": []
    },
    {
      "cell_type": "code",
      "metadata": {
        "id": "u5xgXJE63JDQ",
        "colab": {
          "base_uri": "https://localhost:8080/"
        },
        "outputId": "f0a124f7-9725-422a-8d6c-96d384a2eef9"
      },
      "source": [
        "print(\"F1 of KNN: \", f1_score(y_test, y_KNN_hat, average='weighted'))\n",
        "print(\"F1 of LDA: \", f1_score(y_test, y_LDA_hat, average='weighted'))\n",
        "print(\"F1 of QDA: \", f1_score(y_test, y_QDA_hat, average='weighted'))\n",
        "print(\"F1 of LR: \", f1_score(y_test, y_LR_hat, average='weighted'))\n",
        "\n",
        "print(\"Jaccard of KNN: \", jaccard_similarity_score(y_test, y_KNN_hat))\n",
        "print(\"Jaccard of LDA: \", jaccard_similarity_score(y_test, y_LDA_hat))\n",
        "print(\"Jaccard of QDA: \", jaccard_similarity_score(y_test, y_QDA_hat))\n",
        "print(\"Jaccard of LR: \", jaccard_similarity_score(y_test, y_LR_hat))"
      ],
      "execution_count": null,
      "outputs": [
        {
          "output_type": "stream",
          "text": [
            "F1 of KNN:  0.8248324971937097\n",
            "F1 of LDA:  0.8187225550826419\n",
            "F1 of QDA:  0.8271659124562674\n",
            "F1 of LR:  0.5309512204266806\n",
            "Jaccard of KNN:  0.8268156424581006\n",
            "Jaccard of LDA:  0.8212290502793296\n",
            "Jaccard of QDA:  0.8268156424581006\n",
            "Jaccard of LR:  0.664804469273743\n"
          ],
          "name": "stdout"
        },
        {
          "output_type": "stream",
          "text": [
            "/usr/local/lib/python3.6/dist-packages/sklearn/metrics/_classification.py:664: FutureWarning: jaccard_similarity_score has been deprecated and replaced with jaccard_score. It will be removed in version 0.23. This implementation has surprising behavior for binary and multiclass classification tasks.\n",
            "  FutureWarning)\n"
          ],
          "name": "stderr"
        }
      ]
    },
    {
      "cell_type": "code",
      "metadata": {
        "id": "hC5RpKWj4fBQ",
        "colab": {
          "base_uri": "https://localhost:8080/"
        },
        "outputId": "895b247d-e5d8-437a-814b-3ffa3807ae3a"
      },
      "source": [
        "from sklearn.metrics import log_loss\n",
        "yhat_LR_prob = logreg.predict_proba(X_test)\n",
        "print(\"Log loss of LR: \", log_loss(y_test, yhat_LR_prob))"
      ],
      "execution_count": null,
      "outputs": [
        {
          "output_type": "stream",
          "text": [
            "Log loss of LR:  0.9180612638257309\n"
          ],
          "name": "stdout"
        }
      ]
    },
    {
      "cell_type": "markdown",
      "metadata": {
        "id": "60tYLFUH66xb"
      },
      "source": [
        "## Comparison Table"
      ]
    },
    {
      "cell_type": "markdown",
      "metadata": {
        "id": "XNWp93hR5h0N"
      },
      "source": [
        "| Algorithm | Accuracy/Jaccard | F1-score | Logloss|\n",
        "| --- | --- | --- | --- |\n",
        "| kNN | 0.8435 | 0.8386 | NA|\n",
        "| LDA | 0.8268 | 0.8229 | NA|\n",
        "| QDA | 0.8324 | 0.8324 | NA|\n",
        "| LR | 0.6648 | 0.5309 | 0.9487|"
      ]
    },
    {
      "cell_type": "markdown",
      "metadata": {
        "id": "mP0Q2hWyMydu"
      },
      "source": [
        "## Feature Importance"
      ]
    },
    {
      "cell_type": "code",
      "metadata": {
        "id": "NX-2NzXOCs0k",
        "colab": {
          "base_uri": "https://localhost:8080/"
        },
        "outputId": "505e196f-4a2d-4ca1-d24c-a1e359660c9e"
      },
      "source": [
        "from sklearn.inspection import permutation_importance\n",
        "result = permutation_importance(knn_model, X_test, y_KNN_hat, n_repeats=10, random_state=0)\n",
        "result"
      ],
      "execution_count": null,
      "outputs": [
        {
          "output_type": "execute_result",
          "data": {
            "text/plain": [
              "{'importances': array([[0.09, 0.12, 0.06, 0.09, 0.08, 0.09, 0.05, 0.08, 0.12, 0.13],\n",
              "        [0.08, 0.11, 0.07, 0.06, 0.05, 0.09, 0.08, 0.11, 0.08, 0.08],\n",
              "        [0.11, 0.12, 0.09, 0.12, 0.08, 0.09, 0.09, 0.1 , 0.08, 0.09],\n",
              "        [0.15, 0.16, 0.13, 0.13, 0.17, 0.18, 0.12, 0.11, 0.16, 0.16],\n",
              "        [0.25, 0.24, 0.27, 0.28, 0.27, 0.28, 0.27, 0.26, 0.27, 0.25],\n",
              "        [0.11, 0.07, 0.09, 0.07, 0.07, 0.08, 0.08, 0.08, 0.07, 0.08],\n",
              "        [0.08, 0.08, 0.1 , 0.07, 0.08, 0.04, 0.09, 0.08, 0.08, 0.07]]),\n",
              " 'importances_mean': array([0.09, 0.08, 0.1 , 0.15, 0.26, 0.08, 0.08]),\n",
              " 'importances_std': array([0.03, 0.02, 0.01, 0.02, 0.01, 0.01, 0.01])}"
            ]
          },
          "metadata": {
            "tags": []
          },
          "execution_count": 59
        }
      ]
    },
    {
      "cell_type": "code",
      "metadata": {
        "id": "JDrNEqSaC9HD",
        "colab": {
          "base_uri": "https://localhost:8080/",
          "height": 181
        },
        "outputId": "3e7e52d4-6678-41e9-dd45-be06d8c8bbb7"
      },
      "source": [
        "indices = np.argsort(result.importances_mean)[::-1]\n",
        "indices"
      ],
      "execution_count": null,
      "outputs": [
        {
          "output_type": "error",
          "ename": "NameError",
          "evalue": "ignored",
          "traceback": [
            "\u001b[0;31m---------------------------------------------------------------------------\u001b[0m",
            "\u001b[0;31mNameError\u001b[0m                                 Traceback (most recent call last)",
            "\u001b[0;32m<ipython-input-34-ed212b528278>\u001b[0m in \u001b[0;36m<module>\u001b[0;34m()\u001b[0m\n\u001b[0;32m----> 1\u001b[0;31m \u001b[0mindices\u001b[0m \u001b[0;34m=\u001b[0m \u001b[0mnp\u001b[0m\u001b[0;34m.\u001b[0m\u001b[0margsort\u001b[0m\u001b[0;34m(\u001b[0m\u001b[0mresult\u001b[0m\u001b[0;34m.\u001b[0m\u001b[0mimportances_mean\u001b[0m\u001b[0;34m)\u001b[0m\u001b[0;34m[\u001b[0m\u001b[0;34m:\u001b[0m\u001b[0;34m:\u001b[0m\u001b[0;34m-\u001b[0m\u001b[0;36m1\u001b[0m\u001b[0;34m]\u001b[0m\u001b[0;34m\u001b[0m\u001b[0;34m\u001b[0m\u001b[0m\n\u001b[0m\u001b[1;32m      2\u001b[0m \u001b[0mindices\u001b[0m\u001b[0;34m\u001b[0m\u001b[0;34m\u001b[0m\u001b[0m\n",
            "\u001b[0;31mNameError\u001b[0m: name 'result' is not defined"
          ]
        }
      ]
    },
    {
      "cell_type": "code",
      "metadata": {
        "id": "-u5SYLrPNO74"
      },
      "source": [
        "features = ['Pclass', 'SibSp', 'Parch', 'FareType', 'SexCode', 'Age_cat', 'Embarked_code']"
      ],
      "execution_count": null,
      "outputs": []
    },
    {
      "cell_type": "code",
      "metadata": {
        "id": "iJQD2vcANjfU",
        "colab": {
          "base_uri": "https://localhost:8080/",
          "height": 164
        },
        "outputId": "0c9bbf4a-5e24-4b26-a1f3-0cbb75a8be2d"
      },
      "source": [
        "result.importances_mean[indices]"
      ],
      "execution_count": null,
      "outputs": [
        {
          "output_type": "error",
          "ename": "NameError",
          "evalue": "ignored",
          "traceback": [
            "\u001b[0;31m---------------------------------------------------------------------------\u001b[0m",
            "\u001b[0;31mNameError\u001b[0m                                 Traceback (most recent call last)",
            "\u001b[0;32m<ipython-input-36-05c43ff09943>\u001b[0m in \u001b[0;36m<module>\u001b[0;34m()\u001b[0m\n\u001b[0;32m----> 1\u001b[0;31m \u001b[0mresult\u001b[0m\u001b[0;34m.\u001b[0m\u001b[0mimportances_mean\u001b[0m\u001b[0;34m[\u001b[0m\u001b[0mindices\u001b[0m\u001b[0;34m]\u001b[0m\u001b[0;34m\u001b[0m\u001b[0;34m\u001b[0m\u001b[0m\n\u001b[0m",
            "\u001b[0;31mNameError\u001b[0m: name 'result' is not defined"
          ]
        }
      ]
    },
    {
      "cell_type": "code",
      "metadata": {
        "id": "swc2woGRNmal",
        "colab": {
          "base_uri": "https://localhost:8080/",
          "height": 164
        },
        "outputId": "52dbc23b-2b16-43a2-9cea-9983b8b08256"
      },
      "source": [
        "result.importances_std[indices]"
      ],
      "execution_count": null,
      "outputs": [
        {
          "output_type": "error",
          "ename": "NameError",
          "evalue": "ignored",
          "traceback": [
            "\u001b[0;31m---------------------------------------------------------------------------\u001b[0m",
            "\u001b[0;31mNameError\u001b[0m                                 Traceback (most recent call last)",
            "\u001b[0;32m<ipython-input-37-191e0ee46f8e>\u001b[0m in \u001b[0;36m<module>\u001b[0;34m()\u001b[0m\n\u001b[0;32m----> 1\u001b[0;31m \u001b[0mresult\u001b[0m\u001b[0;34m.\u001b[0m\u001b[0mimportances_std\u001b[0m\u001b[0;34m[\u001b[0m\u001b[0mindices\u001b[0m\u001b[0;34m]\u001b[0m\u001b[0;34m\u001b[0m\u001b[0;34m\u001b[0m\u001b[0m\n\u001b[0m",
            "\u001b[0;31mNameError\u001b[0m: name 'result' is not defined"
          ]
        }
      ]
    },
    {
      "cell_type": "code",
      "metadata": {
        "id": "btJO3SamNWp_",
        "colab": {
          "base_uri": "https://localhost:8080/",
          "height": 281
        },
        "outputId": "4f706557-115e-4db6-b3d2-0f01773eb491"
      },
      "source": [
        "plt.figure()\n",
        "plt.title(\"Feature importances\")\n",
        "plt.bar(range(X.shape[1]), result.importances_mean[indices],\n",
        "        color=\"r\", yerr=result.importances_std[indices], align=\"center\")\n",
        "plt.xticks(range(X.shape[1]), indices)\n",
        "plt.xlim([-1, X.shape[1]])\n",
        "plt.show()"
      ],
      "execution_count": null,
      "outputs": [
        {
          "output_type": "display_data",
          "data": {
            "image/png": "[encoded data removed]",
            "text/plain": [
              "<Figure size 432x288 with 1 Axes>"
            ]
          },
          "metadata": {
            "tags": [],
            "needs_background": "light"
          }
        }
      ]
    },
    {
      "cell_type": "markdown",
      "metadata": {
        "id": "ad290a6aOUBO"
      },
      "source": [
        "# Assignment 3"
      ]
    },
    {
      "cell_type": "markdown",
      "metadata": {
        "id": "4Bw8w8wcOVZt"
      },
      "source": [
        "### 3.1 Effect of sample size ###"
      ]
    },
    {
      "cell_type": "markdown",
      "metadata": {
        "id": "3-jnNgHLXoGZ"
      },
      "source": [
        "### 3.2 Building models using various subsets of attributes ###\n",
        "\n",
        "We have 7 atttributes based on which we can predict out dependent variable (the survival rate):  \n",
        "'Pclass',  \n",
        "'SibSp',  \n",
        "'Parch',  \n",
        "'FareType',  \n",
        "'SexCode',  \n",
        "'Age_cat',  \n",
        "'Embarked_code'"
      ]
    },
    {
      "cell_type": "code",
      "metadata": {
        "id": "3PcsLy77jLsJ",
        "colab": {
          "base_uri": "https://localhost:8080/",
          "height": 80
        },
        "outputId": "bb82e312-b562-41b0-e817-0eeca86c1feb"
      },
      "source": [
        "train_cleaned.head(1)"
      ],
      "execution_count": null,
      "outputs": [
        {
          "output_type": "execute_result",
          "data": {
            "text/html": [
              "<div>\n",
              "<style scoped>\n",
              "    .dataframe tbody tr th:only-of-type {\n",
              "        vertical-align: middle;\n",
              "    }\n",
              "\n",
              "    .dataframe tbody tr th {\n",
              "        vertical-align: top;\n",
              "    }\n",
              "\n",
              "    .dataframe thead th {\n",
              "        text-align: right;\n",
              "    }\n",
              "</style>\n",
              "<table border=\"1\" class=\"dataframe\">\n",
              "  <thead>\n",
              "    <tr style=\"text-align: right;\">\n",
              "      <th></th>\n",
              "      <th>Survived</th>\n",
              "      <th>Pclass</th>\n",
              "      <th>SibSp</th>\n",
              "      <th>Parch</th>\n",
              "      <th>FareType</th>\n",
              "      <th>SexCode</th>\n",
              "      <th>Age_cat</th>\n",
              "      <th>Embarked_code</th>\n",
              "    </tr>\n",
              "  </thead>\n",
              "  <tbody>\n",
              "    <tr>\n",
              "      <th>0</th>\n",
              "      <td>0</td>\n",
              "      <td>3</td>\n",
              "      <td>1</td>\n",
              "      <td>0</td>\n",
              "      <td>1</td>\n",
              "      <td>0</td>\n",
              "      <td>1</td>\n",
              "      <td>2</td>\n",
              "    </tr>\n",
              "  </tbody>\n",
              "</table>\n",
              "</div>"
            ],
            "text/plain": [
              "   Survived  Pclass  SibSp  Parch  FareType  SexCode  Age_cat  Embarked_code\n",
              "0         0       3      1      0         1        0        1              2"
            ]
          },
          "metadata": {
            "tags": []
          },
          "execution_count": 65
        }
      ]
    },
    {
      "cell_type": "code",
      "metadata": {
        "id": "BkPR2fvZoyn4"
      },
      "source": [
        "X_train_cleaned = train_cleaned.drop(axis=1, columns=['Survived'])"
      ],
      "execution_count": null,
      "outputs": []
    },
    {
      "cell_type": "code",
      "metadata": {
        "id": "lQyOTkEXXtCs",
        "colab": {
          "base_uri": "https://localhost:8080/"
        },
        "outputId": "fce7eb13-1a36-4178-9610-a950b9d992b4"
      },
      "source": [
        "'''\n",
        "Variables we set to specific values:\n",
        "- k_neigh = the number of neighbors to consider for the kNN algorithm (we know from previous tests that kNN gave best results for k=5)\n",
        "- splits = the number of folds into which our test data is divided for cross validation. \n",
        "'''\n",
        "k_neigh = 5\n",
        "splits  = 5\n",
        "\n",
        "j=0\n",
        "from itertools import combinations \n",
        "\n",
        "features = ['Pclass', 'SibSp', 'Parch', 'FareType', 'SexCode', 'Age_cat', 'Embarked_code']\n",
        "features_idx = list(range(0,len(features)))\n",
        "\n",
        "test_lr_acc  = {}\n",
        "test_lr_mcc  = {}\n",
        "test_lr_bas  = {}\n",
        "test_lr_sensi = {}\n",
        "test_lr_spec = {}\n",
        "kfold_lr_mean_acc = {}\n",
        "\n",
        "test_knn_acc = {}\n",
        "test_knn_mcc = {}\n",
        "test_knn_bas = {}\n",
        "test_knn_sensi = {}\n",
        "test_knn_spec = {}\n",
        "kfold_knn_mean_acc = {}\n",
        "\n",
        "test_lda_acc = {}\n",
        "test_lda_mcc = {}\n",
        "test_lda_bas = {}\n",
        "test_lda_sensi = {}\n",
        "test_lda_spec = {}\n",
        "kfold_lda_mean_acc = {}\n",
        "\n",
        "for k in range(1,len(features)):\n",
        "  print(f'Combinations of {k}')\n",
        "  \n",
        "  #Get a list of combinations of 'k' attributes\n",
        "  features_subset = list(combinations(features_idx,k))\n",
        "  print(f'Feature subset: {features_subset}')\n",
        "  \n",
        "  #For each combination of k attributes, build a model and make predictions\n",
        "  for i in range(0,len(features_subset)):\n",
        "    j+=1  \n",
        "    #extract only the features we selected for the current combination of k features\n",
        "    X_train_sub = X_train_cleaned.iloc[:,list(features_subset[i])]\n",
        "\n",
        "    #Scale features to unit variance\n",
        "    stdscale=StandardScaler()\n",
        "    X_scaled = stdscale.fit_transform(X_train_sub)\n",
        "\n",
        "    y = train_cleaned.Survived.copy()\n",
        "    \n",
        "    #Perform the usual train-test split \n",
        "    #Select 75% of our data for training and leave 25% out for testing our model\n",
        "    X_train, X_test, y_train, y_test = train_test_split(X_scaled, y, test_size=0.25, random_state=5)\n",
        "    \n",
        "    ## Logistic Regression ##\n",
        "    #fit the model\n",
        "    logreg=LogisticRegression()\n",
        "    logreg.fit(X_train, y_train)\n",
        "    \n",
        "    #make predictions\n",
        "    y_pred = logreg.predict(X_test)\n",
        "\n",
        "    #get the accuracy of predictions on the test set for Logistic Regression\n",
        "    accuracy =logreg.score(X_test, y_test) \n",
        "\n",
        "    #Matthews correlation coefficient\n",
        "    mcc = metrics.matthews_corrcoef(y_test, y_pred)\n",
        "\n",
        "    #Balance Accuracy Score\n",
        "    bas = metrics.balanced_accuracy_score(y_test, y_pred)\n",
        "\n",
        "    #Sensitivity and Specificity\n",
        "    cm = confusion_matrix(y_test, y_pred)\n",
        "    '''\n",
        "    true negatives is :math:`C_{0,0}`, \n",
        "    false negatives is :math:`C_{1,0}`, \n",
        "    \n",
        "    true positives is :math:`C_{1,1}`\n",
        "    false positives is :math:`C_{0,1}`\n",
        "    '''\n",
        "    sensitivity = cm[1,1]/(cm[1,1]+cm[1,0])\n",
        "    specificity = cm[0,0]/(cm[0,0]+cm[0,1])\n",
        "    \n",
        "    test_lr_acc[features_subset[i]] = accuracy\n",
        "    test_lr_mcc[features_subset[i]] = mcc\n",
        "    test_lr_bas[features_subset[i]] = bas\n",
        "    test_lr_sensi[features_subset[i]] = sensitivity\n",
        "    test_lr_spec[features_subset[i]] = specificity\n",
        "\n",
        "    ## kNN ##\n",
        "    #train the model\n",
        "    knn_model = KNeighborsClassifier(n_neighbors = k_neigh).fit(X_train,y_train)\n",
        "    \n",
        "    #make predictions\n",
        "    y_pred = knn_model.predict(X_test)\n",
        "\n",
        "    #get the accuracy of predictions on the test set for kNN\n",
        "    accuracy = metrics.accuracy_score(y_test, y_pred)\n",
        "\n",
        "    #Matthews correlation coefficient\n",
        "    mcc = metrics.matthews_corrcoef(y_test, y_pred)\n",
        "\n",
        "    #Balance Accuracy Score\n",
        "    bas = metrics.balanced_accuracy_score(y_test, y_pred)\n",
        "\n",
        "    #Sensitivity and Specificity\n",
        "    cm = confusion_matrix(y_test, y_pred)\n",
        "    sensitivity = cm[1,1]/(cm[1,1]+cm[1,0])\n",
        "    specificity = cm[0,0]/(cm[0,0]+cm[0,1])\n",
        "\n",
        "    test_knn_acc[features_subset[i]] = accuracy\n",
        "    test_knn_mcc[features_subset[i]] = mcc\n",
        "    test_knn_bas[features_subset[i]] = bas\n",
        "    test_knn_sensi[features_subset[i]] = sensitivity\n",
        "    test_knn_spec[features_subset[i]] = specificity\n",
        "\n",
        "    ## LDA ##\n",
        "    #train the model\n",
        "    lda_model = LinearDiscriminantAnalysis().fit(X_train,y_train)\n",
        "    \n",
        "    #make predictions\n",
        "    y_pred = lda_model.predict(X_test)\n",
        "\n",
        "    #get the accuracy of predictions on the test set for kNN\n",
        "    accuracy = metrics.accuracy_score(y_test, y_pred)\n",
        "\n",
        "    #Matthews correlation coefficient\n",
        "    mcc = metrics.matthews_corrcoef(y_test, y_pred)\n",
        "\n",
        "    #Balance Accuracy Score\n",
        "    bas = metrics.balanced_accuracy_score(y_test, y_pred)\n",
        "\n",
        "    #Sensitivity and Specificity\n",
        "    cm = confusion_matrix(y_test, y_pred)\n",
        "    sensitivity = cm[1,1]/(cm[1,1]+cm[1,0])\n",
        "    specificity = cm[0,0]/(cm[0,0]+cm[0,1])\n",
        "\n",
        "    test_lda_acc[features_subset[i]] = accuracy\n",
        "    test_lda_mcc[features_subset[i]] = mcc\n",
        "    test_lda_bas[features_subset[i]] = bas\n",
        "    test_lda_sensi[features_subset[i]] = sensitivity\n",
        "    test_lda_spec[features_subset[i]] = specificity\n",
        "\n",
        "    kfold = KFold(n_splits=splits, shuffle = True, random_state=1) # split the data into n_splits equal parts\n",
        "    cv_result_logreg = cross_val_score(logreg, X_scaled, y, cv = kfold, scoring = \"accuracy\")\n",
        "    cv_result_knn = cross_val_score(knn_model, X_scaled, y, cv = kfold, scoring = \"accuracy\")\n",
        "    cv_result_lda = cross_val_score(lda_model, X_scaled, y, cv = kfold, scoring = \"accuracy\")\n",
        "\n",
        "    kfold_lr_mean_acc[features_subset[i]] = cv_result_logreg.mean()\n",
        "    kfold_knn_mean_acc[features_subset[i]] = cv_result_knn.mean()\n",
        "    kfold_lda_mean_acc[features_subset[i]] = cv_result_lda.mean()\n"
      ],
      "execution_count": null,
      "outputs": [
        {
          "output_type": "stream",
          "text": [
            "Combinations of 1\n",
            "Feature subset: [(0,), (1,), (2,), (3,), (4,), (5,), (6,)]\n",
            "Combinations of 2\n",
            "Feature subset: [(0, 1), (0, 2), (0, 3), (0, 4), (0, 5), (0, 6), (1, 2), (1, 3), (1, 4), (1, 5), (1, 6), (2, 3), (2, 4), (2, 5), (2, 6), (3, 4), (3, 5), (3, 6), (4, 5), (4, 6), (5, 6)]\n",
            "Combinations of 3\n",
            "Feature subset: [(0, 1, 2), (0, 1, 3), (0, 1, 4), (0, 1, 5), (0, 1, 6), (0, 2, 3), (0, 2, 4), (0, 2, 5), (0, 2, 6), (0, 3, 4), (0, 3, 5), (0, 3, 6), (0, 4, 5), (0, 4, 6), (0, 5, 6), (1, 2, 3), (1, 2, 4), (1, 2, 5), (1, 2, 6), (1, 3, 4), (1, 3, 5), (1, 3, 6), (1, 4, 5), (1, 4, 6), (1, 5, 6), (2, 3, 4), (2, 3, 5), (2, 3, 6), (2, 4, 5), (2, 4, 6), (2, 5, 6), (3, 4, 5), (3, 4, 6), (3, 5, 6), (4, 5, 6)]\n",
            "Combinations of 4\n",
            "Feature subset: [(0, 1, 2, 3), (0, 1, 2, 4), (0, 1, 2, 5), (0, 1, 2, 6), (0, 1, 3, 4), (0, 1, 3, 5), (0, 1, 3, 6), (0, 1, 4, 5), (0, 1, 4, 6), (0, 1, 5, 6), (0, 2, 3, 4), (0, 2, 3, 5), (0, 2, 3, 6), (0, 2, 4, 5), (0, 2, 4, 6), (0, 2, 5, 6), (0, 3, 4, 5), (0, 3, 4, 6), (0, 3, 5, 6), (0, 4, 5, 6), (1, 2, 3, 4), (1, 2, 3, 5), (1, 2, 3, 6), (1, 2, 4, 5), (1, 2, 4, 6), (1, 2, 5, 6), (1, 3, 4, 5), (1, 3, 4, 6), (1, 3, 5, 6), (1, 4, 5, 6), (2, 3, 4, 5), (2, 3, 4, 6), (2, 3, 5, 6), (2, 4, 5, 6), (3, 4, 5, 6)]\n",
            "Combinations of 5\n",
            "Feature subset: [(0, 1, 2, 3, 4), (0, 1, 2, 3, 5), (0, 1, 2, 3, 6), (0, 1, 2, 4, 5), (0, 1, 2, 4, 6), (0, 1, 2, 5, 6), (0, 1, 3, 4, 5), (0, 1, 3, 4, 6), (0, 1, 3, 5, 6), (0, 1, 4, 5, 6), (0, 2, 3, 4, 5), (0, 2, 3, 4, 6), (0, 2, 3, 5, 6), (0, 2, 4, 5, 6), (0, 3, 4, 5, 6), (1, 2, 3, 4, 5), (1, 2, 3, 4, 6), (1, 2, 3, 5, 6), (1, 2, 4, 5, 6), (1, 3, 4, 5, 6), (2, 3, 4, 5, 6)]\n",
            "Combinations of 6\n",
            "Feature subset: [(0, 1, 2, 3, 4, 5), (0, 1, 2, 3, 4, 6), (0, 1, 2, 3, 5, 6), (0, 1, 2, 4, 5, 6), (0, 1, 3, 4, 5, 6), (0, 2, 3, 4, 5, 6), (1, 2, 3, 4, 5, 6)]\n"
          ],
          "name": "stdout"
        }
      ]
    },
    {
      "cell_type": "code",
      "metadata": {
        "id": "vfOLV4hiayNG",
        "colab": {
          "base_uri": "https://localhost:8080/"
        },
        "outputId": "4f03d78c-e2c5-41db-8fbf-0a7675ced5ba"
      },
      "source": [
        "#Sanity check: print all results to prevent bugs\n",
        "print(test_lr_acc)\n",
        "print(test_lr_mcc)\n",
        "print(test_lr_bas)\n",
        "print(test_knn_acc)\n",
        "print(test_knn_mcc)\n",
        "print(test_knn_bas)\n",
        "print(test_lda_acc)\n",
        "print(test_lda_mcc)\n",
        "print(test_lda_bas)\n",
        "\n",
        "feat = np.array(features)\n",
        "\n",
        "import operator\n",
        "print(\"\\n------ Logistic Regression ------\")\n",
        "print(\"The subset of attributes for wich the maximum accuracy was achieved\")\n",
        "print(max(test_lr_acc.items(), key=operator.itemgetter(1)))\n",
        "print(f'Best performing attributes: {feat[(list(max(test_lr_acc.items(), key=operator.itemgetter(1))[0]))]}\\n')\n",
        "\n",
        "print(\"The subset of attributes for wich the maximum MCC was achieved\")\n",
        "print(max(test_lr_mcc.items(), key=operator.itemgetter(1)))\n",
        "print(f'Best performing attributes: {feat[(list(max(test_lr_mcc.items(), key=operator.itemgetter(1))[0]))]}\\n')\n",
        "\n",
        "print(\"The subset of attributes for wich the maximum Balanced Accuracy was achieved\")\n",
        "print(max(test_lr_bas.items(), key=operator.itemgetter(1)))\n",
        "print(f'Best performing attributes: {feat[(list(max(test_lr_bas.items(), key=operator.itemgetter(1))[0]))]}\\n')\n",
        "\n",
        "print(\"The subset of attributes for wich the maximum Sensitivity was achieved\")\n",
        "print(max(test_lr_sensi.items(), key=operator.itemgetter(1)))\n",
        "print(f'Best performing attributes: {feat[(list(max(test_lr_sensi.items(), key=operator.itemgetter(1))[0]))]}\\n')\n",
        "\n",
        "print(\"The subset of attributes for wich the maximum Specificity was achieved\")\n",
        "print(max(test_lr_spec.items(), key=operator.itemgetter(1)))\n",
        "print(f'Best performing attributes: {feat[(list(max(test_lr_spec.items(), key=operator.itemgetter(1))[0]))]}\\n')\n",
        "\n",
        "print(\"The subset of attributes for wich the maximum Mean Accuracy was achieved with cross-validation\")\n",
        "print(max(kfold_lr_mean_acc.items(), key=operator.itemgetter(1)))\n",
        "print(f'Best performing attributes: {feat[(list(max(kfold_lr_mean_acc.items(), key=operator.itemgetter(1))[0]))]}\\n')\n",
        "\n",
        "\n",
        "print(\"------ kNN (k=5) ------\")\n",
        "print(\"The subset of attributes for wich the maximum accuracy was achieved\")\n",
        "print(max(test_knn_acc.items(), key=operator.itemgetter(1)))\n",
        "print(f'Best performing attributes: {feat[(list(max(test_knn_acc.items(), key=operator.itemgetter(1))[0]))]}\\n')\n",
        "\n",
        "print(\"The subset of attributes for wich the maximum MCC was achieved\")\n",
        "print(max(test_knn_mcc.items(), key=operator.itemgetter(1)))\n",
        "print(f'Best performing attributes: {feat[(list(max(test_knn_mcc.items(), key=operator.itemgetter(1))[0]))]}\\n')\n",
        "\n",
        "print(\"The subset of attributes for wich the maximum Balanced Accuracy was achieved\")\n",
        "print(max(test_knn_bas.items(), key=operator.itemgetter(1)))\n",
        "print(f'Best performing attributes: {feat[(list(max(test_knn_bas.items(), key=operator.itemgetter(1))[0]))]}\\n')\n",
        "\n",
        "print(\"The subset of attributes for wich the maximum Sensitivity was achieved\")\n",
        "print(max(test_knn_sensi.items(), key=operator.itemgetter(1)))\n",
        "print(f'Best performing attributes: {feat[(list(max(test_knn_sensi.items(), key=operator.itemgetter(1))[0]))]}\\n')\n",
        "\n",
        "print(\"The subset of attributes for wich the maximum Specificity was achieved\")\n",
        "print(max(test_knn_spec.items(), key=operator.itemgetter(1)))\n",
        "print(f'Best performing attributes: {feat[(list(max(test_knn_spec.items(), key=operator.itemgetter(1))[0]))]}\\n')\n",
        "\n",
        "print(\"The subset of attributes for wich the maximum Mean Accuracy was achieved with cross-validation\")\n",
        "print(max(kfold_knn_mean_acc.items(), key=operator.itemgetter(1)))\n",
        "print(f'Best performing attributes: {feat[(list(max(kfold_knn_mean_acc.items(), key=operator.itemgetter(1))[0]))]}\\n')\n",
        "\n",
        "\n",
        "print(\"\\n------ Linear Discriminat Analysis ------\")\n",
        "print(\"The subset of attributes for wich the maximum accuracy was achieved\")\n",
        "print(max(test_lda_acc.items(), key=operator.itemgetter(1)))\n",
        "print(f'Best performing attributes: {feat[(list(max(test_lda_acc.items(), key=operator.itemgetter(1))[0]))]}\\n')\n",
        "\n",
        "print(\"The subset of attributes for wich the maximum MCC was achieved\")\n",
        "print(max(test_lda_mcc.items(), key=operator.itemgetter(1)))\n",
        "print(f'Best performing attributes: {feat[(list(max(test_lda_mcc.items(), key=operator.itemgetter(1))[0]))]}\\n')\n",
        "\n",
        "print(\"The subset of attributes for wich the maximum Balanced Accuracy was achieved\")\n",
        "print(max(test_lda_bas.items(), key=operator.itemgetter(1)))\n",
        "print(f'Best performing attributes: {feat[(list(max(test_lda_bas.items(), key=operator.itemgetter(1))[0]))]}\\n')\n",
        "\n",
        "print(\"The subset of attributes for wich the maximum Sensitivity was achieved\")\n",
        "print(max(test_lda_sensi.items(), key=operator.itemgetter(1)))\n",
        "print(f'Best performing attributes: {feat[(list(max(test_lda_sensi.items(), key=operator.itemgetter(1))[0]))]}\\n')\n",
        "\n",
        "print(\"The subset of attributes for wich the maximum Specificity was achieved\")\n",
        "print(max(test_lda_spec.items(), key=operator.itemgetter(1)))\n",
        "print(f'Best performing attributes: {feat[(list(max(test_lda_spec.items(), key=operator.itemgetter(1))[0]))]}\\n')\n",
        "\n",
        "print(\"The subset of attributes for wich the maximum Mean Accuracy was achieved with cross-validation\")\n",
        "print(max(kfold_lda_mean_acc.items(), key=operator.itemgetter(1)))\n",
        "print(f'Best performing attributes: {feat[(list(max(kfold_lda_mean_acc.items(), key=operator.itemgetter(1))[0]))]}\\n')\n",
        "\n",
        "\n",
        "print(f'All attributes: {features}')"
      ],
      "execution_count": null,
      "outputs": [
        {
          "output_type": "stream",
          "text": [
            "{(0,): 0.726457399103139, (1,): 0.6278026905829597, (2,): 0.6188340807174888, (3,): 0.6860986547085202, (4,): 0.8116591928251121, (5,): 0.6278026905829597, (6,): 0.600896860986547, (0, 1): 0.726457399103139, (0, 2): 0.7309417040358744, (0, 3): 0.7174887892376681, (0, 4): 0.8116591928251121, (0, 5): 0.6816143497757847, (0, 6): 0.726457399103139, (1, 2): 0.6322869955156951, (1, 3): 0.7130044843049327, (1, 4): 0.820627802690583, (1, 5): 0.6278026905829597, (1, 6): 0.6053811659192825, (2, 3): 0.6860986547085202, (2, 4): 0.8116591928251121, (2, 5): 0.6233183856502242, (2, 6): 0.5964125560538116, (3, 4): 0.8116591928251121, (3, 5): 0.6905829596412556, (3, 6): 0.6771300448430493, (4, 5): 0.8116591928251121, (4, 6): 0.8116591928251121, (5, 6): 0.600896860986547, (0, 1, 2): 0.7309417040358744, (0, 1, 3): 0.7219730941704036, (0, 1, 4): 0.8295964125560538, (0, 1, 5): 0.695067264573991, (0, 1, 6): 0.726457399103139, (0, 2, 3): 0.7309417040358744, (0, 2, 4): 0.8161434977578476, (0, 2, 5): 0.7130044843049327, (0, 2, 6): 0.7309417040358744, (0, 3, 4): 0.8116591928251121, (0, 3, 5): 0.7040358744394619, (0, 3, 6): 0.7309417040358744, (0, 4, 5): 0.8295964125560538, (0, 4, 6): 0.8116591928251121, (0, 5, 6): 0.7174887892376681, (1, 2, 3): 0.7130044843049327, (1, 2, 4): 0.820627802690583, (1, 2, 5): 0.6502242152466368, (1, 2, 6): 0.6098654708520179, (1, 3, 4): 0.8295964125560538, (1, 3, 5): 0.7174887892376681, (1, 3, 6): 0.7040358744394619, (1, 4, 5): 0.820627802690583, (1, 4, 6): 0.820627802690583, (1, 5, 6): 0.6098654708520179, (2, 3, 4): 0.8116591928251121, (2, 3, 5): 0.7040358744394619, (2, 3, 6): 0.6816143497757847, (2, 4, 5): 0.8116591928251121, (2, 4, 6): 0.8116591928251121, (2, 5, 6): 0.6098654708520179, (3, 4, 5): 0.8116591928251121, (3, 4, 6): 0.8116591928251121, (3, 5, 6): 0.695067264573991, (4, 5, 6): 0.8116591928251121, (0, 1, 2, 3): 0.7174887892376681, (0, 1, 2, 4): 0.8340807174887892, (0, 1, 2, 5): 0.6816143497757847, (0, 1, 2, 6): 0.7309417040358744, (0, 1, 3, 4): 0.8295964125560538, (0, 1, 3, 5): 0.7040358744394619, (0, 1, 3, 6): 0.7219730941704036, (0, 1, 4, 5): 0.8430493273542601, (0, 1, 4, 6): 0.8295964125560538, (0, 1, 5, 6): 0.7130044843049327, (0, 2, 3, 4): 0.8161434977578476, (0, 2, 3, 5): 0.6995515695067265, (0, 2, 3, 6): 0.7354260089686099, (0, 2, 4, 5): 0.8295964125560538, (0, 2, 4, 6): 0.8161434977578476, (0, 2, 5, 6): 0.7219730941704036, (0, 3, 4, 5): 0.8251121076233184, (0, 3, 4, 6): 0.8116591928251121, (0, 3, 5, 6): 0.7085201793721974, (0, 4, 5, 6): 0.8295964125560538, (1, 2, 3, 4): 0.8295964125560538, (1, 2, 3, 5): 0.7174887892376681, (1, 2, 3, 6): 0.7040358744394619, (1, 2, 4, 5): 0.820627802690583, (1, 2, 4, 6): 0.820627802690583, (1, 2, 5, 6): 0.6053811659192825, (1, 3, 4, 5): 0.8430493273542601, (1, 3, 4, 6): 0.8295964125560538, (1, 3, 5, 6): 0.6816143497757847, (1, 4, 5, 6): 0.820627802690583, (2, 3, 4, 5): 0.8116591928251121, (2, 3, 4, 6): 0.8116591928251121, (2, 3, 5, 6): 0.6905829596412556, (2, 4, 5, 6): 0.8116591928251121, (3, 4, 5, 6): 0.8116591928251121, (0, 1, 2, 3, 4): 0.8340807174887892, (0, 1, 2, 3, 5): 0.7040358744394619, (0, 1, 2, 3, 6): 0.7309417040358744, (0, 1, 2, 4, 5): 0.8430493273542601, (0, 1, 2, 4, 6): 0.8340807174887892, (0, 1, 2, 5, 6): 0.7130044843049327, (0, 1, 3, 4, 5): 0.8430493273542601, (0, 1, 3, 4, 6): 0.8295964125560538, (0, 1, 3, 5, 6): 0.7219730941704036, (0, 1, 4, 5, 6): 0.8430493273542601, (0, 2, 3, 4, 5): 0.8340807174887892, (0, 2, 3, 4, 6): 0.8161434977578476, (0, 2, 3, 5, 6): 0.7354260089686099, (0, 2, 4, 5, 6): 0.8340807174887892, (0, 3, 4, 5, 6): 0.8340807174887892, (1, 2, 3, 4, 5): 0.8385650224215246, (1, 2, 3, 4, 6): 0.8295964125560538, (1, 2, 3, 5, 6): 0.6860986547085202, (1, 2, 4, 5, 6): 0.820627802690583, (1, 3, 4, 5, 6): 0.8430493273542601, (2, 3, 4, 5, 6): 0.8116591928251121, (0, 1, 2, 3, 4, 5): 0.8430493273542601, (0, 1, 2, 3, 4, 6): 0.8340807174887892, (0, 1, 2, 3, 5, 6): 0.7130044843049327, (0, 1, 2, 4, 5, 6): 0.8430493273542601, (0, 1, 3, 4, 5, 6): 0.8475336322869955, (0, 2, 3, 4, 5, 6): 0.8340807174887892, (1, 2, 3, 4, 5, 6): 0.8385650224215246}\n",
            "{(0,): 0.38697330060033064, (1,): 0.0, (2,): -0.07324768264103537, (3,): 0.2911630503159619, (4,): 0.5889260535336656, (5,): 0.0, (6,): -0.01441348876053857, (0, 1): 0.38697330060033064, (0, 2): 0.3979766178289625, (0, 3): 0.365178479917548, (0, 4): 0.5889260535336656, (0, 5): 0.29877036263361334, (0, 6): 0.38680910384728256, (1, 2): 0.07778871784081211, (1, 3): 0.35252288028478823, (1, 4): 0.6084472970165349, (1, 5): 0.0, (1, 6): -0.0023841031109700915, (2, 3): 0.2911630503159619, (2, 4): 0.5889260535336656, (2, 5): -0.05167714843649629, (2, 6): -0.017097319722393343, (3, 4): 0.5889260535336656, (3, 5): 0.30284420572761356, (3, 6): 0.27189591417794823, (4, 5): 0.5889260535336656, (4, 6): 0.5889260535336656, (5, 6): -0.01441348876053857, (0, 1, 2): 0.3979766178289625, (0, 1, 3): 0.3758888164910186, (0, 1, 4): 0.6285537519020133, (0, 1, 5): 0.3183143595393608, (0, 1, 6): 0.38680910384728256, (0, 2, 3): 0.3979505545384053, (0, 2, 4): 0.598616406140795, (0, 2, 5): 0.3526084571165562, (0, 2, 6): 0.3979505545384053, (0, 3, 4): 0.5889260535336656, (0, 3, 5): 0.3299635429142186, (0, 3, 6): 0.3979505545384053, (0, 4, 5): 0.6292538355093423, (0, 4, 6): 0.5889260535336656, (0, 5, 6): 0.36404688029377547, (1, 2, 3): 0.35252288028478823, (1, 2, 4): 0.6084472970165349, (1, 2, 5): 0.16732114118025224, (1, 2, 6): 0.03194785715631623, (1, 3, 4): 0.6285537519020133, (1, 3, 5): 0.36418197931284974, (1, 3, 6): 0.3307380019036683, (1, 4, 5): 0.6084472970165349, (1, 4, 6): 0.6084472970165349, (1, 5, 6): 0.02525027670654357, (2, 3, 4): 0.5883787055012727, (2, 3, 5): 0.33287347063147243, (2, 3, 6): 0.28145229635882746, (2, 4, 5): 0.5889260535336656, (2, 4, 6): 0.5889260535336656, (2, 5, 6): 0.03823835183630349, (3, 4, 5): 0.5889260535336656, (3, 4, 6): 0.5889260535336656, (3, 5, 6): 0.31630937526644226, (4, 5, 6): 0.5889260535336656, (0, 1, 2, 3): 0.3660014797048601, (0, 1, 2, 4): 0.6388415577061352, (0, 1, 2, 5): 0.29335677236177593, (0, 1, 2, 6): 0.3982558405235614, (0, 1, 3, 4): 0.6285537519020133, (0, 1, 3, 5): 0.3290941969679342, (0, 1, 3, 6): 0.3758888164910186, (0, 1, 4, 5): 0.6585856148422314, (0, 1, 4, 6): 0.6285537519020133, (0, 1, 5, 6): 0.3529953770079759, (0, 2, 3, 4): 0.598616406140795, (0, 2, 3, 5): 0.31819403968066506, (0, 2, 3, 6): 0.4093251596278945, (0, 2, 4, 5): 0.6292538355093423, (0, 2, 4, 6): 0.598616406140795, (0, 2, 5, 6): 0.37554637032682625, (0, 3, 4, 5): 0.6197486897418211, (0, 3, 4, 6): 0.5889260535336656, (0, 3, 5, 6): 0.3416103891553274, (0, 4, 5, 6): 0.6292538355093423, (1, 2, 3, 4): 0.6285537519020133, (1, 2, 3, 5): 0.36418197931284974, (1, 2, 3, 6): 0.3307380019036683, (1, 2, 4, 5): 0.6084472970165349, (1, 2, 4, 6): 0.6084472970165349, (1, 2, 5, 6): 0.027034782450225097, (1, 3, 4, 5): 0.6587250192762188, (1, 3, 4, 6): 0.6285537519020133, (1, 3, 5, 6): 0.2669771974956009, (1, 4, 5, 6): 0.6084472970165349, (2, 3, 4, 5): 0.5883787055012727, (2, 3, 4, 6): 0.5883787055012727, (2, 3, 5, 6): 0.30284420572761356, (2, 4, 5, 6): 0.5889260535336656, (3, 4, 5, 6): 0.5889260535336656, (0, 1, 2, 3, 4): 0.6388415577061352, (0, 1, 2, 3, 5): 0.3294083250647036, (0, 1, 2, 3, 6): 0.3979766178289625, (0, 1, 2, 4, 5): 0.6585856148422314, (0, 1, 2, 4, 6): 0.6388415577061352, (0, 1, 2, 5, 6): 0.3527090978044414, (0, 1, 3, 4, 5): 0.6585856148422314, (0, 1, 3, 4, 6): 0.6285537519020133, (0, 1, 3, 5, 6): 0.37554637032682625, (0, 1, 4, 5, 6): 0.6585856148422314, (0, 2, 3, 4, 5): 0.6388915450870007, (0, 2, 3, 4, 6): 0.598616406140795, (0, 2, 3, 5, 6): 0.40905212348574155, (0, 2, 4, 5, 6): 0.6388915450870007, (0, 3, 4, 5, 6): 0.6388915450870007, (1, 2, 3, 4, 5): 0.6486669981605075, (1, 2, 3, 4, 6): 0.6285537519020133, (1, 2, 3, 5, 6): 0.2800102480898766, (1, 2, 4, 5, 6): 0.6084472970165349, (1, 3, 4, 5, 6): 0.6587250192762188, (2, 3, 4, 5, 6): 0.5883787055012727, (0, 1, 2, 3, 4, 5): 0.6585856148422314, (0, 1, 2, 3, 4, 6): 0.6388415577061352, (0, 1, 2, 3, 5, 6): 0.3527090978044414, (0, 1, 2, 4, 5, 6): 0.6585856148422314, (0, 1, 3, 4, 5, 6): 0.6685806463694548, (0, 2, 3, 4, 5, 6): 0.6388915450870007, (1, 2, 3, 4, 5, 6): 0.6486669981605075}\n",
            "{(0,): 0.6619621342512909, (1,): 0.5, (2,): 0.4928571428571429, (3,): 0.6298192771084337, (4,): 0.7837779690189328, (5,): 0.5, (6,): 0.4957401032702238, (0, 1): 0.6619621342512909, (0, 2): 0.6728915662650603, (0, 3): 0.6597246127366609, (0, 4): 0.7837779690189328, (0, 5): 0.6434165232358003, (0, 6): 0.6668674698795181, (1, 2): 0.5158347676419965, (1, 3): 0.646342512908778, (1, 4): 0.7909208261617899, (1, 5): 0.5, (1, 6): 0.49931153184165233, (2, 3): 0.6298192771084337, (2, 4): 0.7837779690189328, (2, 5): 0.49642857142857144, (2, 6): 0.4946213425129088, (3, 4): 0.7837779690189328, (3, 5): 0.6358433734939759, (3, 6): 0.6226764199655765, (4, 5): 0.7837779690189328, (4, 6): 0.7837779690189328, (5, 6): 0.4957401032702238, (0, 1, 2): 0.6728915662650603, (0, 1, 3): 0.6632960413080895, (0, 1, 4): 0.798063683304647, (0, 1, 5): 0.6467728055077453, (0, 1, 6): 0.6668674698795181, (0, 2, 3): 0.6704388984509466, (0, 2, 4): 0.7873493975903614, (0, 2, 5): 0.6438898450946644, (0, 2, 6): 0.6704388984509466, (0, 3, 4): 0.7837779690189328, (0, 3, 5): 0.6391996557659209, (0, 3, 6): 0.6704388984509466, (0, 4, 5): 0.8054216867469879, (0, 4, 6): 0.7837779690189328, (0, 5, 6): 0.6523666092943201, (1, 2, 3): 0.646342512908778, (1, 2, 4): 0.7909208261617899, (1, 2, 5): 0.5374784853700516, (1, 2, 6): 0.5102409638554217, (1, 3, 4): 0.798063683304647, (1, 3, 5): 0.6548192771084338, (1, 3, 6): 0.6416523235800344, (1, 4, 5): 0.7909208261617899, (1, 4, 6): 0.7909208261617899, (1, 5, 6): 0.507788296041308, (2, 3, 4): 0.7813253012048194, (2, 3, 5): 0.6465576592082616, (2, 3, 6): 0.6262478485370051, (2, 4, 5): 0.7837779690189328, (2, 4, 6): 0.7837779690189328, (2, 5, 6): 0.5126936316695353, (3, 4, 5): 0.7837779690189328, (3, 4, 6): 0.7837779690189328, (3, 5, 6): 0.6443201376936316, (4, 5, 6): 0.7837779690189328, (0, 1, 2, 3): 0.6621772805507745, (0, 1, 2, 4): 0.8016351118760757, (0, 1, 2, 5): 0.6385111876075732, (0, 1, 2, 6): 0.6753442340791739, (0, 1, 3, 4): 0.798063683304647, (0, 1, 3, 5): 0.6342943201376936, (0, 1, 3, 6): 0.6632960413080895, (0, 1, 4, 5): 0.8161359724612736, (0, 1, 4, 6): 0.798063683304647, (0, 1, 5, 6): 0.6414371772805507, (0, 2, 3, 4): 0.7873493975903614, (0, 2, 3, 5): 0.6331755593803787, (0, 2, 3, 6): 0.6740103270223752, (0, 2, 4, 5): 0.8054216867469879, (0, 2, 4, 6): 0.7873493975903614, (0, 2, 5, 6): 0.6608433734939759, (0, 3, 4, 5): 0.8018502581755593, (0, 3, 4, 6): 0.7837779690189328, (0, 3, 5, 6): 0.645223752151463, (0, 4, 5, 6): 0.8054216867469879, (1, 2, 3, 4): 0.798063683304647, (1, 2, 3, 5): 0.6548192771084338, (1, 2, 3, 6): 0.6416523235800344, (1, 2, 4, 5): 0.7909208261617899, (1, 2, 4, 6): 0.7909208261617899, (1, 2, 5, 6): 0.5091222030981067, (1, 3, 4, 5): 0.8136833046471601, (1, 3, 4, 6): 0.798063683304647, (1, 3, 5, 6): 0.5992685025817556, (1, 4, 5, 6): 0.7909208261617899, (2, 3, 4, 5): 0.7813253012048194, (2, 3, 4, 6): 0.7813253012048194, (2, 3, 5, 6): 0.6358433734939759, (2, 4, 5, 6): 0.7837779690189328, (3, 4, 5, 6): 0.7837779690189328, (0, 1, 2, 3, 4): 0.8016351118760757, (0, 1, 2, 3, 5): 0.6367469879518073, (0, 1, 2, 3, 6): 0.6728915662650603, (0, 1, 2, 4, 5): 0.8161359724612736, (0, 1, 2, 4, 6): 0.8016351118760757, (0, 1, 2, 5, 6): 0.6487951807228916, (0, 1, 3, 4, 5): 0.8161359724612736, (0, 1, 3, 4, 6): 0.798063683304647, (0, 1, 3, 5, 6): 0.6608433734939759, (0, 1, 4, 5, 6): 0.8161359724612736, (0, 2, 3, 4, 5): 0.8089931153184164, (0, 2, 3, 4, 6): 0.7873493975903614, (0, 2, 3, 5, 6): 0.6764629948364889, (0, 2, 4, 5, 6): 0.8089931153184164, (0, 3, 4, 5, 6): 0.8089931153184164, (1, 2, 3, 4, 5): 0.812564543889845, (1, 2, 3, 4, 6): 0.798063683304647, (1, 2, 3, 5, 6): 0.6077452667814114, (1, 2, 4, 5, 6): 0.7909208261617899, (1, 3, 4, 5, 6): 0.8136833046471601, (2, 3, 4, 5, 6): 0.7813253012048194, (0, 1, 2, 3, 4, 5): 0.8161359724612736, (0, 1, 2, 3, 4, 6): 0.8016351118760757, (0, 1, 2, 3, 5, 6): 0.6487951807228916, (0, 1, 2, 4, 5, 6): 0.8161359724612736, (0, 1, 3, 4, 5, 6): 0.8221600688468158, (0, 2, 3, 4, 5, 6): 0.8089931153184164, (1, 2, 3, 4, 5, 6): 0.812564543889845}\n",
            "{(0,): 0.6905829596412556, (1,): 0.4125560538116592, (2,): 0.6547085201793722, (3,): 0.3452914798206278, (4,): 0.8116591928251121, (5,): 0.6322869955156951, (6,): 0.6233183856502242, (0, 1): 0.6905829596412556, (0, 2): 0.4080717488789238, (0, 3): 0.6188340807174888, (0, 4): 0.7982062780269058, (0, 5): 0.6502242152466368, (0, 6): 0.7219730941704036, (1, 2): 0.7354260089686099, (1, 3): 0.6681614349775785, (1, 4): 0.820627802690583, (1, 5): 0.4977578475336323, (1, 6): 0.6457399103139013, (2, 3): 0.7040358744394619, (2, 4): 0.8161434977578476, (2, 5): 0.57847533632287, (2, 6): 0.4125560538116592, (3, 4): 0.45739910313901344, (3, 5): 0.6816143497757847, (3, 6): 0.6636771300448431, (4, 5): 0.7802690582959642, (4, 6): 0.8116591928251121, (5, 6): 0.6053811659192825, (0, 1, 2): 0.7040358744394619, (0, 1, 3): 0.7219730941704036, (0, 1, 4): 0.8116591928251121, (0, 1, 5): 0.5022421524663677, (0, 1, 6): 0.6367713004484304, (0, 2, 3): 0.7354260089686099, (0, 2, 4): 0.7937219730941704, (0, 2, 5): 0.6860986547085202, (0, 2, 6): 0.6053811659192825, (0, 3, 4): 0.8026905829596412, (0, 3, 5): 0.7309417040358744, (0, 3, 6): 0.6591928251121076, (0, 4, 5): 0.820627802690583, (0, 4, 6): 0.8161434977578476, (0, 5, 6): 0.6995515695067265, (1, 2, 3): 0.7354260089686099, (1, 2, 4): 0.8116591928251121, (1, 2, 5): 0.47533632286995514, (1, 2, 6): 0.6412556053811659, (1, 3, 4): 0.7488789237668162, (1, 3, 5): 0.7040358744394619, (1, 3, 6): 0.7130044843049327, (1, 4, 5): 0.8251121076233184, (1, 4, 6): 0.8161434977578476, (1, 5, 6): 0.5426008968609866, (2, 3, 4): 0.8161434977578476, (2, 3, 5): 0.6905829596412556, (2, 3, 6): 0.6860986547085202, (2, 4, 5): 0.8026905829596412, (2, 4, 6): 0.8161434977578476, (2, 5, 6): 0.6278026905829597, (3, 4, 5): 0.7623318385650224, (3, 4, 6): 0.8116591928251121, (3, 5, 6): 0.6860986547085202, (4, 5, 6): 0.820627802690583, (0, 1, 2, 3): 0.7219730941704036, (0, 1, 2, 4): 0.8071748878923767, (0, 1, 2, 5): 0.7219730941704036, (0, 1, 2, 6): 0.6457399103139013, (0, 1, 3, 4): 0.8340807174887892, (0, 1, 3, 5): 0.7309417040358744, (0, 1, 3, 6): 0.6995515695067265, (0, 1, 4, 5): 0.820627802690583, (0, 1, 4, 6): 0.8251121076233184, (0, 1, 5, 6): 0.5695067264573991, (0, 2, 3, 4): 0.7892376681614349, (0, 2, 3, 5): 0.6995515695067265, (0, 2, 3, 6): 0.6995515695067265, (0, 2, 4, 5): 0.8295964125560538, (0, 2, 4, 6): 0.8251121076233184, (0, 2, 5, 6): 0.7085201793721974, (0, 3, 4, 5): 0.820627802690583, (0, 3, 4, 6): 0.8071748878923767, (0, 3, 5, 6): 0.7085201793721974, (0, 4, 5, 6): 0.8251121076233184, (1, 2, 3, 4): 0.8071748878923767, (1, 2, 3, 5): 0.7399103139013453, (1, 2, 3, 6): 0.6816143497757847, (1, 2, 4, 5): 0.8116591928251121, (1, 2, 4, 6): 0.820627802690583, (1, 2, 5, 6): 0.7174887892376681, (1, 3, 4, 5): 0.8161434977578476, (1, 3, 4, 6): 0.8161434977578476, (1, 3, 5, 6): 0.7085201793721974, (1, 4, 5, 6): 0.8385650224215246, (2, 3, 4, 5): 0.8026905829596412, (2, 3, 4, 6): 0.8026905829596412, (2, 3, 5, 6): 0.6771300448430493, (2, 4, 5, 6): 0.7713004484304933, (3, 4, 5, 6): 0.7847533632286996, (0, 1, 2, 3, 4): 0.8026905829596412, (0, 1, 2, 3, 5): 0.7354260089686099, (0, 1, 2, 3, 6): 0.6547085201793722, (0, 1, 2, 4, 5): 0.8340807174887892, (0, 1, 2, 4, 6): 0.8161434977578476, (0, 1, 2, 5, 6): 0.726457399103139, (0, 1, 3, 4, 5): 0.8295964125560538, (0, 1, 3, 4, 6): 0.8116591928251121, (0, 1, 3, 5, 6): 0.7085201793721974, (0, 1, 4, 5, 6): 0.8340807174887892, (0, 2, 3, 4, 5): 0.8116591928251121, (0, 2, 3, 4, 6): 0.8295964125560538, (0, 2, 3, 5, 6): 0.7219730941704036, (0, 2, 4, 5, 6): 0.8295964125560538, (0, 3, 4, 5, 6): 0.8295964125560538, (1, 2, 3, 4, 5): 0.8475336322869955, (1, 2, 3, 4, 6): 0.820627802690583, (1, 2, 3, 5, 6): 0.726457399103139, (1, 2, 4, 5, 6): 0.8295964125560538, (1, 3, 4, 5, 6): 0.8071748878923767, (2, 3, 4, 5, 6): 0.7892376681614349, (0, 1, 2, 3, 4, 5): 0.8251121076233184, (0, 1, 2, 3, 4, 6): 0.8071748878923767, (0, 1, 2, 3, 5, 6): 0.7443946188340808, (0, 1, 2, 4, 5, 6): 0.8430493273542601, (0, 1, 3, 4, 5, 6): 0.8385650224215246, (0, 2, 3, 4, 5, 6): 0.8340807174887892, (1, 2, 3, 4, 5, 6): 0.8116591928251121}\n",
            "{(0,): 0.3649365115839894, (1,): 0.06884097732926138, (2,): 0.18276635962436583, (3,): -0.229261254932767, (4,): 0.5889260535336656, (5,): 0.14098011577895803, (6,): 0.10132525632321157, (0, 1): 0.3649365115839894, (0, 2): 0.10139762313241979, (0, 3): 0.044287559701841325, (0, 4): 0.5575510199780507, (0, 5): 0.2238547864793225, (0, 6): 0.37554637032682625, (1, 2): 0.4125384822392001, (1, 3): 0.25062871359510625, (1, 4): 0.6084472970165349, (1, 5): 0.08390529424233965, (1, 6): 0.144916048711442, (2, 3): 0.35248143843126867, (2, 4): 0.598616406140795, (2, 5): 0.0058045519835190065, (2, 6): -0.01771957322978887, (3, 4): 0.04121264072493598, (3, 5): 0.2723411990675547, (3, 6): 0.21729096273231716, (4, 5): 0.5286877042395118, (4, 6): 0.5889260535336656, (5, 6): 0.12268004512364977, (0, 1, 2): 0.3949429559649541, (0, 1, 3): 0.3772477174958883, (0, 1, 4): 0.5934409559328039, (0, 1, 5): 0.059208261806691975, (0, 1, 6): 0.3200416383626257, (0, 2, 3): 0.45839177350777166, (0, 2, 4): 0.5470937217508568, (0, 2, 5): 0.3250626189997, (0, 2, 6): 0.18087086202329977, (0, 3, 4): 0.5676986702309178, (0, 3, 5): 0.39876888429086993, (0, 3, 6): 0.22127420712541118, (0, 4, 5): 0.6089085671910397, (0, 4, 6): 0.6064992803587509, (0, 5, 6): 0.31717210124181267, (1, 2, 3): 0.41143017072361976, (1, 2, 4): 0.5889260535336656, (1, 2, 5): 0.01712564543889845, (1, 2, 6): 0.17390871242261538, (1, 3, 4): 0.4583652678819774, (1, 3, 5): 0.33287347063147243, (1, 3, 6): 0.35380101515307466, (1, 4, 5): 0.6186061423746072, (1, 4, 6): 0.5982741224455206, (1, 5, 6): 0.11105952352485958, (2, 3, 4): 0.598616406140795, (2, 3, 5): 0.3010359742863004, (2, 3, 6): 0.30479457956386063, (2, 4, 5): 0.5686778571427092, (2, 4, 6): 0.598616406140795, (2, 5, 6): 0.13108156526995943, (3, 4, 5): 0.47626048224996614, (3, 4, 6): 0.5889260535336656, (3, 5, 6): 0.3316525024348267, (4, 5, 6): 0.6084472970165349, (0, 1, 2, 3): 0.424752084816577, (0, 1, 2, 4): 0.5809390275218334, (0, 1, 2, 5): 0.3876927903486514, (0, 1, 2, 6): 0.22572457623526057, (0, 1, 3, 4): 0.6388915450870007, (0, 1, 3, 5): 0.4004322025585313, (0, 1, 3, 6): 0.319038798997805, (0, 1, 4, 5): 0.6084472970165349, (0, 1, 4, 6): 0.6185189232741141, (0, 1, 5, 6): 0.13322816160532822, (0, 2, 3, 4): 0.5372283855460296, (0, 2, 3, 5): 0.3242361150963997, (0, 2, 3, 6): 0.35248255108907456, (0, 2, 4, 5): 0.628515888531797, (0, 2, 4, 6): 0.6186061423746072, (0, 2, 5, 6): 0.3411204599872203, (0, 3, 4, 5): 0.6094843785751941, (0, 3, 4, 6): 0.5778891801032924, (0, 3, 5, 6): 0.3611280854349166, (0, 4, 5, 6): 0.6237228462594056, (1, 2, 3, 4): 0.5815444347800655, (1, 2, 3, 5): 0.4200644191669064, (1, 2, 3, 6): 0.2723411990675547, (1, 2, 4, 5): 0.5944029501998284, (1, 2, 4, 6): 0.6088397017426129, (1, 2, 5, 6): 0.36418197931284974, (1, 3, 4, 5): 0.600047484066493, (1, 3, 4, 6): 0.600047484066493, (1, 3, 5, 6): 0.34232306457036454, (1, 4, 5, 6): 0.6490232924434904, (2, 3, 4, 5): 0.5678489070886097, (2, 3, 4, 6): 0.5711003034400275, (2, 3, 5, 6): 0.3057733789685842, (2, 4, 5, 6): 0.4980242020395776, (3, 4, 5, 6): 0.5304065508386017, (0, 1, 2, 3, 4): 0.5676405935822673, (0, 1, 2, 3, 5): 0.41143017072361976, (0, 1, 2, 3, 6): 0.229261254932767, (0, 1, 2, 4, 5): 0.6394117551333851, (0, 1, 2, 4, 6): 0.5982741224455206, (0, 1, 2, 5, 6): 0.3876566481777133, (0, 1, 3, 4, 5): 0.6287533499515602, (0, 1, 3, 4, 6): 0.5888489031642823, (0, 1, 3, 5, 6): 0.34867440596892263, (0, 1, 4, 5, 6): 0.6394498954171491, (0, 2, 3, 4, 5): 0.5883787055012727, (0, 2, 3, 4, 6): 0.6295135156711007, (0, 2, 3, 5, 6): 0.3920203522995649, (0, 2, 4, 5, 6): 0.6285537519020133, (0, 3, 4, 5, 6): 0.6292538355093423, (1, 2, 3, 4, 5): 0.6700242287438437, (1, 2, 3, 4, 6): 0.6088397017426129, (1, 2, 3, 5, 6): 0.3987190438026739, (1, 2, 4, 5, 6): 0.628515888531797, (1, 3, 4, 5, 6): 0.5787788767361454, (2, 3, 4, 5, 6): 0.5367735687204177, (0, 1, 2, 3, 4, 5): 0.6190512979689947, (0, 1, 2, 3, 4, 6): 0.5778891801032924, (0, 1, 2, 3, 5, 6): 0.4467918141577017, (0, 1, 2, 4, 5, 6): 0.6585856148422314, (0, 1, 3, 4, 5, 6): 0.6501184641511617, (0, 2, 3, 4, 5, 6): 0.6388415577061352, (1, 2, 3, 4, 5, 6): 0.5880838553597443}\n",
            "{(0,): 0.6873493975903614, (1,): 0.5198795180722892, (2,): 0.560671256454389, (3,): 0.3927280550774527, (4,): 0.7837779690189328, (5,): 0.5575301204819277, (6,): 0.5381239242685025, (0, 1): 0.6873493975903614, (0, 2): 0.5236660929432014, (0, 3): 0.5124784853700517, (0, 4): 0.7632530120481928, (0, 5): 0.6061531841652323, (0, 6): 0.6608433734939759, (1, 2): 0.6911790017211704, (1, 3): 0.6130808950086059, (1, 4): 0.7909208261617899, (1, 5): 0.5411359724612737, (1, 6): 0.5363597246127366, (2, 3): 0.6710843373493975, (2, 4): 0.7873493975903614, (2, 5): 0.5024096385542169, (2, 6): 0.4929001721170396, (3, 4): 0.5188037865748709, (3, 5): 0.6139845094664371, (3, 6): 0.5580034423407917, (4, 5): 0.76368330464716, (4, 6): 0.7837779690189328, (5, 6): 0.5581755593803787, (0, 1, 2): 0.7029690189328743, (0, 1, 3): 0.6682013769363166, (0, 1, 4): 0.7935886402753873, (0, 1, 5): 0.5299913941480207, (0, 1, 6): 0.6641135972461274, (0, 2, 3): 0.7353270223752152, (0, 2, 4): 0.754776247848537, (0, 2, 5): 0.6617039586919105, (0, 2, 6): 0.592512908777969, (0, 3, 4): 0.7643717728055077, (0, 3, 5): 0.6777969018932875, (0, 3, 6): 0.5961273666092943, (0, 4, 5): 0.7835628227194492, (0, 4, 6): 0.7652753872633391, (0, 5, 6): 0.6282702237521515, (1, 2, 3): 0.6887263339070568, (1, 2, 4): 0.7837779690189328, (1, 2, 5): 0.5085628227194492, (1, 2, 6): 0.5744836488812393, (1, 3, 4): 0.6724612736660929, (1, 3, 5): 0.6465576592082616, (1, 3, 6): 0.6537005163511187, (1, 4, 5): 0.7969449225473322, (1, 4, 6): 0.7848967297762479, (1, 5, 6): 0.5572289156626506, (2, 3, 4): 0.7873493975903614, (2, 3, 5): 0.6333907056798622, (2, 3, 6): 0.6445352839931153, (2, 4, 5): 0.7594664371772806, (2, 4, 6): 0.7873493975903614, (2, 5, 6): 0.5539586919104992, (3, 4, 5): 0.7248709122203099, (3, 4, 6): 0.7837779690189328, (3, 5, 6): 0.6666092943201377, (4, 5, 6): 0.7909208261617899, (0, 1, 2, 3): 0.7172547332185887, (0, 1, 2, 4): 0.7605851979345954, (0, 1, 2, 5): 0.6853700516351119, (0, 1, 2, 6): 0.6099397590361446, (0, 1, 3, 4): 0.8089931153184164, (0, 1, 3, 5): 0.6827022375215146, (0, 1, 3, 6): 0.6356282271944922, (0, 1, 4, 5): 0.7909208261617899, (0, 1, 4, 6): 0.792039586919105, (0, 1, 5, 6): 0.5688468158347677, (0, 2, 3, 4): 0.753657487091222, (0, 2, 3, 5): 0.6454388984509466, (0, 2, 3, 6): 0.6748709122203098, (0, 2, 4, 5): 0.8005163511187607, (0, 2, 4, 6): 0.7969449225473322, (0, 2, 5, 6): 0.6427710843373494, (0, 3, 4, 5): 0.7958261617900173, (0, 3, 4, 6): 0.77039586919105, (0, 3, 5, 6): 0.6746557659208261, (0, 4, 5, 6): 0.779776247848537, (1, 2, 3, 4): 0.7851118760757315, (1, 2, 3, 5): 0.682487091222031, (1, 2, 3, 6): 0.6139845094664371, (1, 2, 4, 5): 0.7617039586919105, (1, 2, 4, 6): 0.7933734939759036, (1, 2, 5, 6): 0.6548192771084338, (1, 3, 4, 5): 0.7922547332185886, (1, 3, 4, 6): 0.7922547332185886, (1, 3, 5, 6): 0.6476764199655766, (1, 4, 5, 6): 0.8150172117039587, (2, 3, 4, 5): 0.7692771084337349, (2, 3, 4, 6): 0.7790877796901894, (2, 3, 5, 6): 0.6521084337349398, (2, 4, 5, 6): 0.7148450946643717, (3, 4, 5, 6): 0.7574440619621343, (0, 1, 2, 3, 4): 0.7668244406196214, (0, 1, 2, 3, 5): 0.6887263339070568, (0, 1, 2, 3, 6): 0.6072719449225473, (0, 1, 2, 4, 5): 0.7991824440619621, (0, 1, 2, 4, 6): 0.7848967297762479, (0, 1, 2, 5, 6): 0.6717728055077452, (0, 1, 3, 4, 5): 0.8029690189328744, (0, 1, 3, 4, 6): 0.7715146299483648, (0, 1, 3, 5, 6): 0.6599397590361445, (0, 1, 4, 5, 6): 0.8114457831325301, (0, 2, 3, 4, 5): 0.7813253012048194, (0, 2, 3, 4, 6): 0.7931583476764199, (0, 2, 3, 5, 6): 0.6902753872633391, (0, 2, 4, 5, 6): 0.798063683304647, (0, 3, 4, 5, 6): 0.8054216867469879, (1, 2, 3, 4, 5): 0.8295180722891566, (1, 2, 3, 4, 6): 0.7933734939759036, (1, 2, 3, 5, 6): 0.691394148020654, (1, 2, 4, 5, 6): 0.8005163511187607, (1, 3, 4, 5, 6): 0.7654905335628228, (2, 3, 4, 5, 6): 0.7487521514629949, (0, 1, 2, 3, 4, 5): 0.7993975903614459, (0, 1, 2, 3, 4, 6): 0.77039586919105, (0, 1, 2, 3, 5, 6): 0.7203958691910499, (0, 1, 2, 4, 5, 6): 0.8161359724612736, (0, 1, 3, 4, 5, 6): 0.8027538726333907, (0, 2, 3, 4, 5, 6): 0.8016351118760757, (1, 2, 3, 4, 5, 6): 0.7788726333907057}\n",
            "{(0,): 0.726457399103139, (1,): 0.6278026905829597, (2,): 0.6188340807174888, (3,): 0.6860986547085202, (4,): 0.8116591928251121, (5,): 0.6278026905829597, (6,): 0.600896860986547, (0, 1): 0.726457399103139, (0, 2): 0.7309417040358744, (0, 3): 0.7174887892376681, (0, 4): 0.8116591928251121, (0, 5): 0.6816143497757847, (0, 6): 0.726457399103139, (1, 2): 0.6322869955156951, (1, 3): 0.7085201793721974, (1, 4): 0.8161434977578476, (1, 5): 0.6278026905829597, (1, 6): 0.6053811659192825, (2, 3): 0.6860986547085202, (2, 4): 0.8116591928251121, (2, 5): 0.6233183856502242, (2, 6): 0.5964125560538116, (3, 4): 0.8116591928251121, (3, 5): 0.6905829596412556, (3, 6): 0.6771300448430493, (4, 5): 0.8116591928251121, (4, 6): 0.8116591928251121, (5, 6): 0.600896860986547, (0, 1, 2): 0.7309417040358744, (0, 1, 3): 0.7219730941704036, (0, 1, 4): 0.820627802690583, (0, 1, 5): 0.695067264573991, (0, 1, 6): 0.726457399103139, (0, 2, 3): 0.7309417040358744, (0, 2, 4): 0.8161434977578476, (0, 2, 5): 0.7130044843049327, (0, 2, 6): 0.7309417040358744, (0, 3, 4): 0.8116591928251121, (0, 3, 5): 0.6995515695067265, (0, 3, 6): 0.7309417040358744, (0, 4, 5): 0.820627802690583, (0, 4, 6): 0.8116591928251121, (0, 5, 6): 0.7174887892376681, (1, 2, 3): 0.7130044843049327, (1, 2, 4): 0.8161434977578476, (1, 2, 5): 0.6502242152466368, (1, 2, 6): 0.6098654708520179, (1, 3, 4): 0.820627802690583, (1, 3, 5): 0.7174887892376681, (1, 3, 6): 0.7040358744394619, (1, 4, 5): 0.8161434977578476, (1, 4, 6): 0.8161434977578476, (1, 5, 6): 0.6098654708520179, (2, 3, 4): 0.8161434977578476, (2, 3, 5): 0.7040358744394619, (2, 3, 6): 0.6816143497757847, (2, 4, 5): 0.8116591928251121, (2, 4, 6): 0.8116591928251121, (2, 5, 6): 0.6098654708520179, (3, 4, 5): 0.8116591928251121, (3, 4, 6): 0.8116591928251121, (3, 5, 6): 0.695067264573991, (4, 5, 6): 0.8116591928251121, (0, 1, 2, 3): 0.7174887892376681, (0, 1, 2, 4): 0.820627802690583, (0, 1, 2, 5): 0.6816143497757847, (0, 1, 2, 6): 0.7309417040358744, (0, 1, 3, 4): 0.820627802690583, (0, 1, 3, 5): 0.7040358744394619, (0, 1, 3, 6): 0.7219730941704036, (0, 1, 4, 5): 0.8385650224215246, (0, 1, 4, 6): 0.820627802690583, (0, 1, 5, 6): 0.7219730941704036, (0, 2, 3, 4): 0.8161434977578476, (0, 2, 3, 5): 0.6995515695067265, (0, 2, 3, 6): 0.7354260089686099, (0, 2, 4, 5): 0.820627802690583, (0, 2, 4, 6): 0.8161434977578476, (0, 2, 5, 6): 0.7219730941704036, (0, 3, 4, 5): 0.8161434977578476, (0, 3, 4, 6): 0.8116591928251121, (0, 3, 5, 6): 0.7085201793721974, (0, 4, 5, 6): 0.820627802690583, (1, 2, 3, 4): 0.8251121076233184, (1, 2, 3, 5): 0.7174887892376681, (1, 2, 3, 6): 0.7040358744394619, (1, 2, 4, 5): 0.8161434977578476, (1, 2, 4, 6): 0.8161434977578476, (1, 2, 5, 6): 0.6053811659192825, (1, 3, 4, 5): 0.8161434977578476, (1, 3, 4, 6): 0.820627802690583, (1, 3, 5, 6): 0.7174887892376681, (1, 4, 5, 6): 0.8161434977578476, (2, 3, 4, 5): 0.8161434977578476, (2, 3, 4, 6): 0.8161434977578476, (2, 3, 5, 6): 0.6905829596412556, (2, 4, 5, 6): 0.8116591928251121, (3, 4, 5, 6): 0.8116591928251121, (0, 1, 2, 3, 4): 0.820627802690583, (0, 1, 2, 3, 5): 0.7040358744394619, (0, 1, 2, 3, 6): 0.7309417040358744, (0, 1, 2, 4, 5): 0.8340807174887892, (0, 1, 2, 4, 6): 0.820627802690583, (0, 1, 2, 5, 6): 0.7174887892376681, (0, 1, 3, 4, 5): 0.8385650224215246, (0, 1, 3, 4, 6): 0.820627802690583, (0, 1, 3, 5, 6): 0.7174887892376681, (0, 1, 4, 5, 6): 0.8385650224215246, (0, 2, 3, 4, 5): 0.8161434977578476, (0, 2, 3, 4, 6): 0.8161434977578476, (0, 2, 3, 5, 6): 0.7219730941704036, (0, 2, 4, 5, 6): 0.8161434977578476, (0, 3, 4, 5, 6): 0.820627802690583, (1, 2, 3, 4, 5): 0.8161434977578476, (1, 2, 3, 4, 6): 0.8251121076233184, (1, 2, 3, 5, 6): 0.7219730941704036, (1, 2, 4, 5, 6): 0.8161434977578476, (1, 3, 4, 5, 6): 0.820627802690583, (2, 3, 4, 5, 6): 0.8116591928251121, (0, 1, 2, 3, 4, 5): 0.8385650224215246, (0, 1, 2, 3, 4, 6): 0.8251121076233184, (0, 1, 2, 3, 5, 6): 0.7219730941704036, (0, 1, 2, 4, 5, 6): 0.8385650224215246, (0, 1, 3, 4, 5, 6): 0.8385650224215246, (0, 2, 3, 4, 5, 6): 0.8161434977578476, (1, 2, 3, 4, 5, 6): 0.820627802690583}\n",
            "{(0,): 0.38697330060033064, (1,): 0.0, (2,): -0.07324768264103537, (3,): 0.2911630503159619, (4,): 0.5889260535336656, (5,): 0.0, (6,): -0.01441348876053857, (0, 1): 0.38697330060033064, (0, 2): 0.3979766178289625, (0, 3): 0.365178479917548, (0, 4): 0.5889260535336656, (0, 5): 0.29877036263361334, (0, 6): 0.38680910384728256, (1, 2): 0.07778871784081211, (1, 3): 0.3411204599872203, (1, 4): 0.598616406140795, (1, 5): 0.0, (1, 6): -0.0023841031109700915, (2, 3): 0.2911630503159619, (2, 4): 0.5889260535336656, (2, 5): -0.05167714843649629, (2, 6): -0.017097319722393343, (3, 4): 0.5889260535336656, (3, 5): 0.30284420572761356, (3, 6): 0.27189591417794823, (4, 5): 0.5889260535336656, (4, 6): 0.5889260535336656, (5, 6): -0.01441348876053857, (0, 1, 2): 0.3979766178289625, (0, 1, 3): 0.3758888164910186, (0, 1, 4): 0.6084472970165349, (0, 1, 5): 0.3183143595393608, (0, 1, 6): 0.38680910384728256, (0, 2, 3): 0.3979505545384053, (0, 2, 4): 0.598616406140795, (0, 2, 5): 0.3526084571165562, (0, 2, 6): 0.3979505545384053, (0, 3, 4): 0.5889260535336656, (0, 3, 5): 0.319038798997805, (0, 3, 6): 0.3979505545384053, (0, 4, 5): 0.6094843785751941, (0, 4, 6): 0.5889260535336656, (0, 5, 6): 0.36404688029377547, (1, 2, 3): 0.35252288028478823, (1, 2, 4): 0.598616406140795, (1, 2, 5): 0.16732114118025224, (1, 2, 6): 0.03194785715631623, (1, 3, 4): 0.6084472970165349, (1, 3, 5): 0.36418197931284974, (1, 3, 6): 0.3307380019036683, (1, 4, 5): 0.598616406140795, (1, 4, 6): 0.598616406140795, (1, 5, 6): 0.02525027670654357, (2, 3, 4): 0.598616406140795, (2, 3, 5): 0.33287347063147243, (2, 3, 6): 0.28145229635882746, (2, 4, 5): 0.5889260535336656, (2, 4, 6): 0.5889260535336656, (2, 5, 6): 0.03823835183630349, (3, 4, 5): 0.5889260535336656, (3, 4, 6): 0.5889260535336656, (3, 5, 6): 0.31630937526644226, (4, 5, 6): 0.5889260535336656, (0, 1, 2, 3): 0.3660014797048601, (0, 1, 2, 4): 0.6084472970165349, (0, 1, 2, 5): 0.29335677236177593, (0, 1, 2, 6): 0.3982558405235614, (0, 1, 3, 4): 0.6084472970165349, (0, 1, 3, 5): 0.3290941969679342, (0, 1, 3, 6): 0.3758888164910186, (0, 1, 4, 5): 0.6487887001731478, (0, 1, 4, 6): 0.6084472970165349, (0, 1, 5, 6): 0.37563743550487283, (0, 2, 3, 4): 0.598616406140795, (0, 2, 3, 5): 0.31819403968066506, (0, 2, 3, 6): 0.4093251596278945, (0, 2, 4, 5): 0.6088397017426129, (0, 2, 4, 6): 0.598616406140795, (0, 2, 5, 6): 0.37554637032682625, (0, 3, 4, 5): 0.598616406140795, (0, 3, 4, 6): 0.5889260535336656, (0, 3, 5, 6): 0.3416103891553274, (0, 4, 5, 6): 0.6088397017426129, (1, 2, 3, 4): 0.6184244213890867, (1, 2, 3, 5): 0.36418197931284974, (1, 2, 3, 6): 0.3307380019036683, (1, 2, 4, 5): 0.598616406140795, (1, 2, 4, 6): 0.598616406140795, (1, 2, 5, 6): 0.027034782450225097, (1, 3, 4, 5): 0.598616406140795, (1, 3, 4, 6): 0.6084472970165349, (1, 3, 5, 6): 0.36418197931284974, (1, 4, 5, 6): 0.598616406140795, (2, 3, 4, 5): 0.598616406140795, (2, 3, 4, 6): 0.598616406140795, (2, 3, 5, 6): 0.30284420572761356, (2, 4, 5, 6): 0.5889260535336656, (3, 4, 5, 6): 0.5889260535336656, (0, 1, 2, 3, 4): 0.6084472970165349, (0, 1, 2, 3, 5): 0.3294083250647036, (0, 1, 2, 3, 6): 0.3979766178289625, (0, 1, 2, 4, 5): 0.6385958786084193, (0, 1, 2, 4, 6): 0.6084472970165349, (0, 1, 2, 5, 6): 0.36418514625242315, (0, 1, 3, 4, 5): 0.6487887001731478, (0, 1, 3, 4, 6): 0.6084472970165349, (0, 1, 3, 5, 6): 0.36418197931284974, (0, 1, 4, 5, 6): 0.6487887001731478, (0, 2, 3, 4, 5): 0.5992110508509888, (0, 2, 3, 4, 6): 0.598616406140795, (0, 2, 3, 5, 6): 0.37554637032682625, (0, 2, 4, 5, 6): 0.600047484066493, (0, 3, 4, 5, 6): 0.6088397017426129, (1, 2, 3, 4, 5): 0.598616406140795, (1, 2, 3, 4, 6): 0.6184244213890867, (1, 2, 3, 5, 6): 0.37545465269466416, (1, 2, 4, 5, 6): 0.598616406140795, (1, 3, 4, 5, 6): 0.6088397017426129, (2, 3, 4, 5, 6): 0.5883787055012727, (0, 1, 2, 3, 4, 5): 0.6485844800470592, (0, 1, 2, 3, 4, 6): 0.6184244213890867, (0, 1, 2, 3, 5, 6): 0.3758888164910186, (0, 1, 2, 4, 5, 6): 0.6485844800470592, (0, 1, 3, 4, 5, 6): 0.6485844800470592, (0, 2, 3, 4, 5, 6): 0.5992110508509888, (1, 2, 3, 4, 5, 6): 0.6084472970165349}\n",
            "{(0,): 0.6619621342512909, (1,): 0.5, (2,): 0.4928571428571429, (3,): 0.6298192771084337, (4,): 0.7837779690189328, (5,): 0.5, (6,): 0.4957401032702238, (0, 1): 0.6619621342512909, (0, 2): 0.6728915662650603, (0, 3): 0.6597246127366609, (0, 4): 0.7837779690189328, (0, 5): 0.6434165232358003, (0, 6): 0.6668674698795181, (1, 2): 0.5158347676419965, (1, 3): 0.6427710843373494, (1, 4): 0.7873493975903614, (1, 5): 0.5, (1, 6): 0.49931153184165233, (2, 3): 0.6298192771084337, (2, 4): 0.7837779690189328, (2, 5): 0.49642857142857144, (2, 6): 0.4946213425129088, (3, 4): 0.7837779690189328, (3, 5): 0.6358433734939759, (3, 6): 0.6226764199655765, (4, 5): 0.7837779690189328, (4, 6): 0.7837779690189328, (5, 6): 0.4957401032702238, (0, 1, 2): 0.6728915662650603, (0, 1, 3): 0.6632960413080895, (0, 1, 4): 0.7909208261617899, (0, 1, 5): 0.6467728055077453, (0, 1, 6): 0.6668674698795181, (0, 2, 3): 0.6704388984509466, (0, 2, 4): 0.7873493975903614, (0, 2, 5): 0.6438898450946644, (0, 2, 6): 0.6704388984509466, (0, 3, 4): 0.7837779690189328, (0, 3, 5): 0.6356282271944922, (0, 3, 6): 0.6704388984509466, (0, 4, 5): 0.7958261617900173, (0, 4, 6): 0.7837779690189328, (0, 5, 6): 0.6523666092943201, (1, 2, 3): 0.646342512908778, (1, 2, 4): 0.7873493975903614, (1, 2, 5): 0.5374784853700516, (1, 2, 6): 0.5102409638554217, (1, 3, 4): 0.7909208261617899, (1, 3, 5): 0.6548192771084338, (1, 3, 6): 0.6416523235800344, (1, 4, 5): 0.7873493975903614, (1, 4, 6): 0.7873493975903614, (1, 5, 6): 0.507788296041308, (2, 3, 4): 0.7873493975903614, (2, 3, 5): 0.6465576592082616, (2, 3, 6): 0.6262478485370051, (2, 4, 5): 0.7837779690189328, (2, 4, 6): 0.7837779690189328, (2, 5, 6): 0.5126936316695353, (3, 4, 5): 0.7837779690189328, (3, 4, 6): 0.7837779690189328, (3, 5, 6): 0.6443201376936316, (4, 5, 6): 0.7837779690189328, (0, 1, 2, 3): 0.6621772805507745, (0, 1, 2, 4): 0.7909208261617899, (0, 1, 2, 5): 0.6385111876075732, (0, 1, 2, 6): 0.6753442340791739, (0, 1, 3, 4): 0.7909208261617899, (0, 1, 3, 5): 0.6342943201376936, (0, 1, 3, 6): 0.6632960413080895, (0, 1, 4, 5): 0.8076592082616179, (0, 1, 4, 6): 0.7909208261617899, (0, 1, 5, 6): 0.6559380378657487, (0, 2, 3, 4): 0.7873493975903614, (0, 2, 3, 5): 0.6331755593803787, (0, 2, 3, 6): 0.6740103270223752, (0, 2, 4, 5): 0.7933734939759036, (0, 2, 4, 6): 0.7873493975903614, (0, 2, 5, 6): 0.6608433734939759, (0, 3, 4, 5): 0.7873493975903614, (0, 3, 4, 6): 0.7837779690189328, (0, 3, 5, 6): 0.645223752151463, (0, 4, 5, 6): 0.7933734939759036, (1, 2, 3, 4): 0.7944922547332185, (1, 2, 3, 5): 0.6548192771084338, (1, 2, 3, 6): 0.6416523235800344, (1, 2, 4, 5): 0.7873493975903614, (1, 2, 4, 6): 0.7873493975903614, (1, 2, 5, 6): 0.5091222030981067, (1, 3, 4, 5): 0.7873493975903614, (1, 3, 4, 6): 0.7909208261617899, (1, 3, 5, 6): 0.6548192771084338, (1, 4, 5, 6): 0.7873493975903614, (2, 3, 4, 5): 0.7873493975903614, (2, 3, 4, 6): 0.7873493975903614, (2, 3, 5, 6): 0.6358433734939759, (2, 4, 5, 6): 0.7837779690189328, (3, 4, 5, 6): 0.7837779690189328, (0, 1, 2, 3, 4): 0.7909208261617899, (0, 1, 2, 3, 5): 0.6367469879518073, (0, 1, 2, 3, 6): 0.6728915662650603, (0, 1, 2, 4, 5): 0.806540447504303, (0, 1, 2, 4, 6): 0.7909208261617899, (0, 1, 2, 5, 6): 0.6499139414802065, (0, 1, 3, 4, 5): 0.8076592082616179, (0, 1, 3, 4, 6): 0.7909208261617899, (0, 1, 3, 5, 6): 0.6548192771084338, (0, 1, 4, 5, 6): 0.8076592082616179, (0, 2, 3, 4, 5): 0.7898020654044751, (0, 2, 3, 4, 6): 0.7873493975903614, (0, 2, 3, 5, 6): 0.6608433734939759, (0, 2, 4, 5, 6): 0.7922547332185886, (0, 3, 4, 5, 6): 0.7933734939759036, (1, 2, 3, 4, 5): 0.7873493975903614, (1, 2, 3, 4, 6): 0.7944922547332185, (1, 2, 3, 5, 6): 0.6583907056798624, (1, 2, 4, 5, 6): 0.7873493975903614, (1, 3, 4, 5, 6): 0.7933734939759036, (2, 3, 4, 5, 6): 0.7813253012048194, (0, 1, 2, 3, 4, 5): 0.8101118760757315, (0, 1, 2, 3, 4, 6): 0.7944922547332185, (0, 1, 2, 3, 5, 6): 0.6632960413080895, (0, 1, 2, 4, 5, 6): 0.8101118760757315, (0, 1, 3, 4, 5, 6): 0.8101118760757315, (0, 2, 3, 4, 5, 6): 0.7898020654044751, (1, 2, 3, 4, 5, 6): 0.7909208261617899}\n",
            "\n",
            "------ Logistic Regression ------\n",
            "The subset of attributes for wich the maximum accuracy was achieved\n",
            "((0, 1, 3, 4, 5, 6), 0.8475336322869955)\n",
            "Best performing attributes: ['Pclass' 'SibSp' 'FareType' 'SexCode' 'Age_cat' 'Embarked_code']\n",
            "\n",
            "The subset of attributes for wich the maximum MCC was achieved\n",
            "((0, 1, 3, 4, 5, 6), 0.6685806463694548)\n",
            "Best performing attributes: ['Pclass' 'SibSp' 'FareType' 'SexCode' 'Age_cat' 'Embarked_code']\n",
            "\n",
            "The subset of attributes for wich the maximum Balanced Accuracy was achieved\n",
            "((0, 1, 3, 4, 5, 6), 0.8221600688468158)\n",
            "Best performing attributes: ['Pclass' 'SibSp' 'FareType' 'SexCode' 'Age_cat' 'Embarked_code']\n",
            "\n",
            "The subset of attributes for wich the maximum Sensitivity was achieved\n",
            "((0, 1, 3, 4, 5, 6), 0.7228915662650602)\n",
            "Best performing attributes: ['Pclass' 'SibSp' 'FareType' 'SexCode' 'Age_cat' 'Embarked_code']\n",
            "\n",
            "The subset of attributes for wich the maximum Specificity was achieved\n",
            "((1,), 1.0)\n",
            "Best performing attributes: ['SibSp']\n",
            "\n",
            "The subset of attributes for wich the maximum Mean Accuracy was achieved with cross-validation\n",
            "((0, 1, 4, 5, 6), 0.8080911430544221)\n",
            "Best performing attributes: ['Pclass' 'SibSp' 'SexCode' 'Age_cat' 'Embarked_code']\n",
            "\n",
            "------ kNN (k=5) ------\n",
            "The subset of attributes for wich the maximum accuracy was achieved\n",
            "((1, 2, 3, 4, 5), 0.8475336322869955)\n",
            "Best performing attributes: ['SibSp' 'Parch' 'FareType' 'SexCode' 'Age_cat']\n",
            "\n",
            "The subset of attributes for wich the maximum MCC was achieved\n",
            "((1, 2, 3, 4, 5), 0.6700242287438437)\n",
            "Best performing attributes: ['SibSp' 'Parch' 'FareType' 'SexCode' 'Age_cat']\n",
            "\n",
            "The subset of attributes for wich the maximum Balanced Accuracy was achieved\n",
            "((1, 2, 3, 4, 5), 0.8295180722891566)\n",
            "Best performing attributes: ['SibSp' 'Parch' 'FareType' 'SexCode' 'Age_cat']\n",
            "\n",
            "The subset of attributes for wich the maximum Sensitivity was achieved\n",
            "((0, 2), 0.9759036144578314)\n",
            "Best performing attributes: ['Pclass' 'Parch']\n",
            "\n",
            "The subset of attributes for wich the maximum Specificity was achieved\n",
            "((3, 6), 0.9714285714285714)\n",
            "Best performing attributes: ['FareType' 'Embarked_code']\n",
            "\n",
            "The subset of attributes for wich the maximum Mean Accuracy was achieved with cross-validation\n",
            "((0, 3, 4, 5), 0.8148578243675851)\n",
            "Best performing attributes: ['Pclass' 'FareType' 'SexCode' 'Age_cat']\n",
            "\n",
            "\n",
            "------ Linear Discriminat Analysis ------\n",
            "The subset of attributes for wich the maximum accuracy was achieved\n",
            "((0, 1, 4, 5), 0.8385650224215246)\n",
            "Best performing attributes: ['Pclass' 'SibSp' 'SexCode' 'Age_cat']\n",
            "\n",
            "The subset of attributes for wich the maximum MCC was achieved\n",
            "((0, 1, 4, 5), 0.6487887001731478)\n",
            "Best performing attributes: ['Pclass' 'SibSp' 'SexCode' 'Age_cat']\n",
            "\n",
            "The subset of attributes for wich the maximum Balanced Accuracy was achieved\n",
            "((0, 1, 2, 3, 4, 5), 0.8101118760757315)\n",
            "Best performing attributes: ['Pclass' 'SibSp' 'Parch' 'FareType' 'SexCode' 'Age_cat']\n",
            "\n",
            "The subset of attributes for wich the maximum Sensitivity was achieved\n",
            "((0, 4, 5), 0.6987951807228916)\n",
            "Best performing attributes: ['Pclass' 'SexCode' 'Age_cat']\n",
            "\n",
            "The subset of attributes for wich the maximum Specificity was achieved\n",
            "((1,), 1.0)\n",
            "Best performing attributes: ['SibSp']\n",
            "\n",
            "The subset of attributes for wich the maximum Mean Accuracy was achieved with cross-validation\n",
            "((0, 1, 2, 4, 5, 6), 0.7946142740568704)\n",
            "Best performing attributes: ['Pclass' 'SibSp' 'Parch' 'SexCode' 'Age_cat' 'Embarked_code']\n",
            "\n",
            "All attributes: ['Pclass', 'SibSp', 'Parch', 'FareType', 'SexCode', 'Age_cat', 'Embarked_code']\n"
          ],
          "name": "stdout"
        }
      ]
    },
    {
      "cell_type": "markdown",
      "metadata": {
        "id": "DI0OzsJfn7iK"
      },
      "source": [
        "### 3.2.1 Best metrics by algorithm type and metrics used for comparison"
      ]
    },
    {
      "cell_type": "code",
      "metadata": {
        "id": "DJUgGzKun71U",
        "colab": {
          "base_uri": "https://localhost:8080/",
          "height": 422
        },
        "outputId": "388c6808-bc15-4a33-8a0f-49b440e1bdf0"
      },
      "source": [
        "lr_metrics = [max(test_lr_acc.items(), key=operator.itemgetter(1))[1], max(test_lr_mcc.items(), key=operator.itemgetter(1))[1], max(test_lr_bas.items(), key=operator.itemgetter(1))[1], max(kfold_lr_mean_acc.items(), key=operator.itemgetter(1))[1], max(test_lr_sensi.items(), key=operator.itemgetter(1))[1], max(test_lr_spec.items(), key=operator.itemgetter(1))[1]]\n",
        "knn_metrics = [max(test_knn_acc.items(), key=operator.itemgetter(1))[1], max(test_knn_mcc.items(), key=operator.itemgetter(1))[1], max(test_knn_bas.items(), key=operator.itemgetter(1))[1], max(kfold_knn_mean_acc.items(), key=operator.itemgetter(1))[1], max(test_knn_sensi.items(), key=operator.itemgetter(1))[1], max(test_knn_spec.items(), key=operator.itemgetter(1))[1]] \n",
        "lda_metrics = [max(test_lda_acc.items(), key=operator.itemgetter(1))[1], max(test_lda_mcc.items(), key=operator.itemgetter(1))[1], max(test_lda_bas.items(), key=operator.itemgetter(1))[1], max(kfold_lda_mean_acc.items(), key=operator.itemgetter(1))[1], max(test_lda_sensi.items(), key=operator.itemgetter(1))[1], max(test_lda_spec.items(), key=operator.itemgetter(1))[1]] \n",
        "\n",
        "#x = np.linspace(0, 5, 6)\n",
        "x = ['Mean acc', 'Matthews', 'Balanced acc', 'Cross val mean acc', 'Sensitivity', 'Specificity']\n",
        "\n",
        "fig = plt.figure(figsize=(12,6))\n",
        "\n",
        "plt.xlabel('Metric type')\n",
        "plt.ylabel('Metric value')\n",
        "plt.ylim(0.5, 1.1)\n",
        "\n",
        "plt.title('Performance metrics for LR, kNN and LDA for the best combination of attributes')\n",
        "\n",
        "plt.plot(x,lr_metrics, 'gx', label='Logistic Regression')\n",
        "plt.plot(x,knn_metrics, 'b*', label='kNN')\n",
        "plt.plot(x,lda_metrics, 'r+', label='LDA')\n",
        "\n",
        "plt.legend(loc='upper left')\n"
      ],
      "execution_count": null,
      "outputs": [
        {
          "output_type": "execute_result",
          "data": {
            "text/plain": [
              "<matplotlib.legend.Legend at 0x7fad29d0d748>"
            ]
          },
          "metadata": {
            "tags": []
          },
          "execution_count": 171
        },
        {
          "output_type": "display_data",
          "data": {
            "image/png": "[encoded data removed]",
            "text/plain": [
              "<Figure size 864x432 with 1 Axes>"
            ]
          },
          "metadata": {
            "tags": [],
            "needs_background": "light"
          }
        }
      ]
    },
    {
      "cell_type": "markdown",
      "metadata": {
        "id": "y_GvzE8Bntos"
      },
      "source": [
        "### 3.3 Effect of threshold selection ###\n",
        "\n",
        "At this point we know:  \n",
        "- what is the optimum number of folds (fom section 3.1)\n",
        "- what are the best attributes to train our model on (from section 3.2)\n",
        "\n",
        "Next we want to find out what is the best **threshold**.\n"
      ]
    },
    {
      "cell_type": "code",
      "metadata": {
        "id": "OjMcSBm_oCOQ"
      },
      "source": [
        "features = ['Pclass', 'SibSp', 'Parch', 'FareType', 'SexCode', 'Age_cat', 'Embarked_code']\n",
        "feat = np.array(features)\n",
        "selected_features = feat[(list(max(test_lr_acc.items(), key=operator.itemgetter(1))[0]))]\n",
        "\n",
        "X_train_sub = X_train_cleaned.iloc[:,list(max(test_lr_acc.items(), key=operator.itemgetter(1))[0])]\n",
        "\n",
        "#Scale features to unit variance\n",
        "stdscale=StandardScaler()\n",
        "X_scaled = stdscale.fit_transform(X_train_sub)\n",
        "\n",
        "y = train_cleaned.Survived.copy()\n",
        "\n",
        "#Perform the usual train-test split \n",
        "#Select 75% of our data for training and leave 25% out for testing our model\n",
        "X_train, X_test, y_train, y_test = train_test_split(X_scaled, y, test_size=0.25, random_state=5)\n",
        "\n",
        "## Logistic Regression ##\n",
        "#fit the model\n",
        "logreg=LogisticRegression()\n",
        "logreg.fit(X_train, y_train)\n",
        "\n",
        "s_array = np.arange(0.1,0.9,0.01)\n",
        "idx = 0\n",
        "sensitivity = []\n",
        "specificity = []\n",
        "sensitivity1 = []\n",
        "specificity1 = []\n",
        "pos = []\n",
        "neg = []\n",
        "for s in s_array:\n",
        "  y_pred_s = np.where(logreg.predict_proba(X_test)[:,1] > s, 1, 0)\n",
        "  cm = confusion_matrix(y_test, y_pred_s)\n",
        "  '''\n",
        "  true negatives is :math:`C_{0,0}`, \n",
        "  false negatives is :math:`C_{1,0}`, \n",
        "   \n",
        "  true positives is :math:`C_{1,1}`\n",
        "  false positives is :math:`C_{0,1}`\n",
        "  '''\n",
        "  #sensitivity.append(cm[0,1]/(cm[0,1]+cm[1,0])) #wrong\n",
        "  #specificity.append(cm[0,0]/(cm[0,0]+cm[1,1])) #wrong\n",
        "\n",
        "  sensitivity.append(cm[1,1]/(cm[1,1]+cm[1,0]))\n",
        "  specificity.append(cm[0,0]/(cm[0,0]+cm[0,1]))\n",
        "  \n",
        "  pos.append(sum(y_pred_s==1))\n",
        "  neg.append(sum(y_pred_s==0))\n",
        "  #print(cm)\n",
        "\n",
        "#sanity checks\n",
        "y_pred = logreg.predict(X_test)  #predict for default 0.5 threshold\n",
        "y_pred_prob = logreg.predict_proba(X_test) #get the probabilities of predictions"
      ],
      "execution_count": null,
      "outputs": []
    },
    {
      "cell_type": "markdown",
      "metadata": {
        "id": "X2YKA3JZEKCo"
      },
      "source": [
        "### 3.3.1 Specificity / Sensitivity as a function of threshold ###"
      ]
    },
    {
      "cell_type": "code",
      "metadata": {
        "id": "wj-kkBc7oEwG",
        "colab": {
          "base_uri": "https://localhost:8080/",
          "height": 366
        },
        "outputId": "186c0bab-433a-46d4-8d19-31fe5b5e3f58"
      },
      "source": [
        "#Mihaela: This is not required, I was looking at this out of curiosity\n",
        "fig = plt.figure()\n",
        "\n",
        "axes = fig.add_axes([0.0, 0.0, 1, 1]) # left, bottom, width, height (range 0 to 1)\n",
        "\n",
        "axes.plot(s_array, sensitivity, 'b', label='sensitivity')\n",
        "axes.plot(s_array, specificity, 'r', label='specificity')\n",
        "axes.legend()\n",
        "axes.set_xlabel('Threshold')\n",
        "axes.set_ylabel('Value')\n",
        "axes.set_title('Sensitivity and specificity as a function of threshold')\n",
        "plt.show()"
      ],
      "execution_count": null,
      "outputs": [
        {
          "output_type": "display_data",
          "data": {
            "image/png": "[encoded data removed]",
            "text/plain": [
              "<Figure size 432x288 with 1 Axes>"
            ]
          },
          "metadata": {
            "tags": [],
            "needs_background": "light"
          }
        }
      ]
    },
    {
      "cell_type": "markdown",
      "metadata": {
        "id": "lY-b_HUmEPNF"
      },
      "source": [
        "### 3.3.2 Examining the score distributions for the two classes ###"
      ]
    },
    {
      "cell_type": "code",
      "metadata": {
        "id": "MOuOuCrwEQNK",
        "colab": {
          "base_uri": "https://localhost:8080/",
          "height": 71
        },
        "outputId": "09c3bebb-e1ae-45c7-e98b-3faa29994eee"
      },
      "source": [
        "#Mihaela: \n",
        "import warnings\n",
        "warnings.filterwarnings(\"ignore\")\n",
        "\n",
        "scores_for_negatives = y_pred_prob[y_test==1][:,0]\n",
        "scores_for_positives = y_pred_prob[y_test==0][:,0]\n",
        "\n",
        "#sns.set_style(style='darkgrid')\n",
        "plt.figure(figsize=(6,3))\n",
        "plt.xlabel('Score')\n",
        "plt.ylabel('Frequency')\n",
        "plt.title('Distribution plots for positive and negative scores')\n",
        "\n",
        "sns.distplot(scores_for_positives, label='Positives', hist=False)\n",
        "sns.distplot(scores_for_negatives, label='Negatives', hist=False)\n",
        "plt.legend(loc='best')"
      ],
      "execution_count": null,
      "outputs": [
        {
          "output_type": "execute_result",
          "data": {
            "text/plain": [
              "<matplotlib.legend.Legend at 0x7fb1a4e15cc0>"
            ]
          },
          "metadata": {
            "tags": []
          },
          "execution_count": 72
        },
        {
          "output_type": "display_data",
          "data": {
            "image/png": "[encoded data removed]",
            "text/plain": [
              "<Figure size 432x216 with 1 Axes>"
            ]
          },
          "metadata": {
            "tags": [],
            "needs_background": "light"
          }
        }
      ]
    },
    {
      "cell_type": "markdown",
      "metadata": {
        "id": "J3ZlAAIldmob"
      },
      "source": [
        "## Selecting k for k-Fold Cross Validation "
      ]
    },
    {
      "cell_type": "code",
      "metadata": {
        "id": "o7FnX-Dpdmor",
        "colab": {
          "base_uri": "https://localhost:8080/"
        },
        "outputId": "ddf620ac-588d-4cff-c8d0-8c352e519d1a"
      },
      "source": [
        "#Kfold\n",
        "logreg = LogisticRegression()\n",
        "knn_model = KNeighborsClassifier(n_neighbors=5)\n",
        "lda = LinearDiscriminantAnalysis()\n",
        "\n",
        "lr_df = X_train_cleaned[['Pclass', 'SibSp', 'FareType', 'SexCode', 'Age_cat', 'Embarked_code']].values\n",
        "knn_df = X_train_cleaned[['SibSp', 'Parch', 'FareType', 'SexCode', 'Age_cat']].values\n",
        "lda_df = X_train_cleaned[['Pclass', 'SibSp', 'SexCode', 'Age_cat']].values\n",
        "\n",
        "\n",
        "kfold = KFold(n_splits=5, shuffle = True, random_state=1) # k=10, split the data into 10 equal parts\n",
        "cv_result_logreg = cross_val_score(logreg, lr_df, y, cv = kfold, scoring = \"accuracy\")\n",
        "cv_result_knn = cross_val_score(knn_model, knn_df, y, cv = kfold, scoring = \"accuracy\")\n",
        "cv_result_lda = cross_val_score(lda, lda_df, y, cv = kfold, scoring = \"accuracy\")\n",
        "\n",
        "print(cv_result_logreg.mean()) # mean accuracy of kfold\n",
        "print(cv_result_knn.mean()) # mean accuracy of kfold\n",
        "print(cv_result_lda.mean()) # mean accuracy of kfold\n",
        "\n",
        "\n",
        "fig=plt.subplot()\n",
        "ax=plt.gca()\n",
        "y_pred = cross_val_predict(logreg,X_test,y_test,cv=kfold)\n",
        "sns.heatmap(confusion_matrix(y_test,y_pred),annot=True,fmt='2.0f')\n",
        "ax.set_title('Matrix for Logistic Regression')\n",
        "ax.set_ylabel('Actual Value')\n",
        "ax.set_xlabel('Predicted Value')"
      ],
      "execution_count": null,
      "outputs": [
        {
          "output_type": "stream",
          "text": [
            "0.8013432929508506\n",
            "0.7766618542464377\n",
            "0.7878727010231625\n"
          ],
          "name": "stdout"
        },
        {
          "output_type": "execute_result",
          "data": {
            "text/plain": [
              "Text(0.5, 15.0, 'Predicted Value')"
            ]
          },
          "metadata": {
            "tags": []
          },
          "execution_count": 73
        },
        {
          "output_type": "display_data",
          "data": {
            "image/png": "[encoded data removed]",
            "text/plain": [
              "<Figure size 432x288 with 2 Axes>"
            ]
          },
          "metadata": {
            "tags": [],
            "needs_background": "light"
          }
        }
      ]
    },
    {
      "cell_type": "markdown",
      "metadata": {
        "id": "OYT6oQHA8TOi"
      },
      "source": [
        "### ROC curve"
      ]
    },
    {
      "cell_type": "code",
      "metadata": {
        "id": "EZzOtMIEAU3X",
        "colab": {
          "base_uri": "https://localhost:8080/"
        },
        "outputId": "e234609b-db56-4d1d-c93b-b59641563936"
      },
      "source": [
        "\n",
        "X_train_sub = X_train_cleaned.iloc[:,list(max(test_lr_mcc.items(), key=operator.itemgetter(1))[0])]\n",
        "\n",
        "#Scale features to unit variance\n",
        "stdscale=StandardScaler()\n",
        "X_scaled = stdscale.fit_transform(X_train_sub)\n",
        "\n",
        "y = train_cleaned.Survived.copy()\n",
        "\n",
        "#Perform the usual train-test split \n",
        "#Select 75% of our data for training and leave 25% out for testing our model\n",
        "X_train, X_test, y_train, y_test = train_test_split(X_scaled, y, test_size=0.25, random_state=5)\n",
        "\n",
        "logreg.fit(X_train, y_train)\n",
        "metrics.plot_roc_curve(logreg, X_test, y_test)\n",
        "plt.show()  "
      ],
      "execution_count": null,
      "outputs": [
        {
          "output_type": "display_data",
          "data": {
            "image/png": "[encoded data removed]",
            "text/plain": [
              "<Figure size 432x288 with 1 Axes>"
            ]
          },
          "metadata": {
            "tags": [],
            "needs_background": "light"
          }
        }
      ]
    },
    {
      "cell_type": "code",
      "metadata": {
        "id": "uilBzpGNG5Fx",
        "colab": {
          "base_uri": "https://localhost:8080/"
        },
        "outputId": "699fc416-ffce-4b22-aad0-2a6958324897"
      },
      "source": [
        "X_train_sub = X_train_cleaned.iloc[:,list(max(test_knn_mcc.items(), key=operator.itemgetter(1))[0])]\n",
        "\n",
        "#Scale features to unit variance\n",
        "stdscale=StandardScaler()\n",
        "X_scaled = stdscale.fit_transform(X_train_sub)\n",
        "\n",
        "y = train_cleaned.Survived.copy()\n",
        "\n",
        "#Perform the usual train-test split \n",
        "#Select 75% of our data for training and leave 25% out for testing our model\n",
        "X_train, X_test, y_train, y_test = train_test_split(X_scaled, y, test_size=0.25, random_state=5)\n",
        "\n",
        "knn_model.fit(X_train, y_train)\n",
        "metrics.plot_roc_curve(knn_model, X_test, y_test)\n",
        "plt.show() "
      ],
      "execution_count": null,
      "outputs": [
        {
          "output_type": "display_data",
          "data": {
            "image/png": "[encoded data removed]",
            "text/plain": [
              "<Figure size 432x288 with 1 Axes>"
            ]
          },
          "metadata": {
            "tags": [],
            "needs_background": "light"
          }
        }
      ]
    },
    {
      "cell_type": "code",
      "metadata": {
        "id": "_JgLePhlJOkU",
        "colab": {
          "base_uri": "https://localhost:8080/"
        },
        "outputId": "5b740cdd-feec-4d39-a470-950d933d9b31"
      },
      "source": [
        "X_train_sub = X_train_cleaned.iloc[:,list(max(test_lda_mcc.items(), key=operator.itemgetter(1))[0])]\n",
        "\n",
        "#Scale features to unit variance\n",
        "stdscale=StandardScaler()\n",
        "X_scaled = stdscale.fit_transform(X_train_sub)\n",
        "\n",
        "y = train_cleaned.Survived.copy()\n",
        "\n",
        "#Perform the usual train-test split \n",
        "#Select 75% of our data for training and leave 25% out for testing our model\n",
        "X_train, X_test, y_train, y_test = train_test_split(X_scaled, y, test_size=0.25, random_state=5)\n",
        "\n",
        "lda.fit(X_train, y_train)\n",
        "metrics.plot_roc_curve(lda, X_test, y_test)\n",
        "plt.show() "
      ],
      "execution_count": null,
      "outputs": [
        {
          "output_type": "display_data",
          "data": {
            "image/png": "[encoded data removed]",
            "text/plain": [
              "<Figure size 432x288 with 1 Axes>"
            ]
          },
          "metadata": {
            "tags": [],
            "needs_background": "light"
          }
        }
      ]
    },
    {
      "cell_type": "code",
      "metadata": {
        "id": "PTrlPSVW_HM_",
        "colab": {
          "base_uri": "https://localhost:8080/"
        },
        "outputId": "13c2300d-5be3-4857-ea95-8801a3f2d253"
      },
      "source": [
        "train_cleaned.groupby(by=[\"Survived\"]).count()"
      ],
      "execution_count": null,
      "outputs": [
        {
          "output_type": "execute_result",
          "data": {
            "text/html": [
              "<div>\n",
              "<style scoped>\n",
              "    .dataframe tbody tr th:only-of-type {\n",
              "        vertical-align: middle;\n",
              "    }\n",
              "\n",
              "    .dataframe tbody tr th {\n",
              "        vertical-align: top;\n",
              "    }\n",
              "\n",
              "    .dataframe thead th {\n",
              "        text-align: right;\n",
              "    }\n",
              "</style>\n",
              "<table border=\"1\" class=\"dataframe\">\n",
              "  <thead>\n",
              "    <tr style=\"text-align: right;\">\n",
              "      <th></th>\n",
              "      <th>Pclass</th>\n",
              "      <th>SibSp</th>\n",
              "      <th>Parch</th>\n",
              "      <th>FareType</th>\n",
              "      <th>SexCode</th>\n",
              "      <th>Age_cat</th>\n",
              "      <th>Embarked_code</th>\n",
              "    </tr>\n",
              "    <tr>\n",
              "      <th>Survived</th>\n",
              "      <th></th>\n",
              "      <th></th>\n",
              "      <th></th>\n",
              "      <th></th>\n",
              "      <th></th>\n",
              "      <th></th>\n",
              "      <th></th>\n",
              "    </tr>\n",
              "  </thead>\n",
              "  <tbody>\n",
              "    <tr>\n",
              "      <th>0</th>\n",
              "      <td>549</td>\n",
              "      <td>549</td>\n",
              "      <td>549</td>\n",
              "      <td>549</td>\n",
              "      <td>549</td>\n",
              "      <td>549</td>\n",
              "      <td>549</td>\n",
              "    </tr>\n",
              "    <tr>\n",
              "      <th>1</th>\n",
              "      <td>342</td>\n",
              "      <td>342</td>\n",
              "      <td>342</td>\n",
              "      <td>342</td>\n",
              "      <td>342</td>\n",
              "      <td>342</td>\n",
              "      <td>342</td>\n",
              "    </tr>\n",
              "  </tbody>\n",
              "</table>\n",
              "</div>"
            ],
            "text/plain": [
              "          Pclass  SibSp  Parch  FareType  SexCode  Age_cat  Embarked_code\n",
              "Survived                                                                 \n",
              "0            549    549    549       549      549      549            549\n",
              "1            342    342    342       342      342      342            342"
            ]
          },
          "metadata": {
            "tags": []
          },
          "execution_count": 77
        }
      ]
    }
  ]
}