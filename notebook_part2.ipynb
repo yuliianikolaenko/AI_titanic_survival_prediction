{
  "nbformat": 4,
  "nbformat_minor": 0,
  "metadata": {
    "colab": {
      "name": "Titanic AI project 2 ipynb",
      "provenance": [],
      "collapsed_sections": []
    },
    "kernelspec": {
      "name": "python3",
      "display_name": "Python 3"
    }
  },
  "cells": [
    {
      "cell_type": "markdown",
      "metadata": {
        "id": "30u6zmW4ewGW"
      },
      "source": [
        "## Titanic Project Part 2"
      ]
    },
    {
      "cell_type": "markdown",
      "metadata": {
        "id": "JQ37t-31CK50"
      },
      "source": [
        "**Questions to answer:**\n",
        "\n",
        "What error rate can we expect on the test set?\n",
        "\n",
        "What is the best model?\n",
        "\n",
        "What are the most important variables to predict the outcome?\n",
        "\n",
        "\n"
      ]
    },
    {
      "cell_type": "markdown",
      "metadata": {
        "id": "NIoMIaXZCqgJ"
      },
      "source": [
        "**Classify Titanic passengers using:**\n",
        "\n",
        "k-Nearest Neighbors classifier (kNN)\n",
        "\n",
        "Discriminant Analysis\n",
        "\n",
        "Logistic Regression"
      ]
    },
    {
      "cell_type": "code",
      "metadata": {
        "id": "K_y-VeMyCp63"
      },
      "source": [
        "from google.colab import drive\n",
        "import numpy as np \n",
        "import pandas as pd \n",
        "from sklearn import preprocessing\n",
        "import matplotlib.pyplot as plt \n",
        "import seaborn as sns"
      ],
      "execution_count": null,
      "outputs": []
    },
    {
      "cell_type": "markdown",
      "metadata": {
        "id": "uAcVeDSzZ391"
      },
      "source": [
        "# Data pre-processing"
      ]
    },
    {
      "cell_type": "code",
      "metadata": {
        "id": "nguYahAaaBKm"
      },
      "source": [
        "url1 = 'https://raw.githubusercontent.com/julelnik/titanic_AI/main/train.csv'\n",
        "url2 = 'https://raw.githubusercontent.com/julelnik/titanic_AI/main/test.csv'\n",
        "train=pd.read_csv(url1)\n",
        "test=pd.read_csv(url2)"
      ],
      "execution_count": null,
      "outputs": []
    },
    {
      "cell_type": "code",
      "metadata": {
        "id": "aLustkuPp80y",
        "colab": {
          "base_uri": "https://localhost:8080/",
          "height": 204
        },
        "outputId": "cedd1a76-4956-4fc1-9e68-0576205b9d9b"
      },
      "source": [
        "train.head(5)"
      ],
      "execution_count": null,
      "outputs": [
        {
          "output_type": "execute_result",
          "data": {
            "text/html": [
              "<div>\n",
              "<style scoped>\n",
              "    .dataframe tbody tr th:only-of-type {\n",
              "        vertical-align: middle;\n",
              "    }\n",
              "\n",
              "    .dataframe tbody tr th {\n",
              "        vertical-align: top;\n",
              "    }\n",
              "\n",
              "    .dataframe thead th {\n",
              "        text-align: right;\n",
              "    }\n",
              "</style>\n",
              "<table border=\"1\" class=\"dataframe\">\n",
              "  <thead>\n",
              "    <tr style=\"text-align: right;\">\n",
              "      <th></th>\n",
              "      <th>PassengerId</th>\n",
              "      <th>Survived</th>\n",
              "      <th>Pclass</th>\n",
              "      <th>Name</th>\n",
              "      <th>Sex</th>\n",
              "      <th>Age</th>\n",
              "      <th>SibSp</th>\n",
              "      <th>Parch</th>\n",
              "      <th>Ticket</th>\n",
              "      <th>Fare</th>\n",
              "      <th>Cabin</th>\n",
              "      <th>Embarked</th>\n",
              "    </tr>\n",
              "  </thead>\n",
              "  <tbody>\n",
              "    <tr>\n",
              "      <th>0</th>\n",
              "      <td>1</td>\n",
              "      <td>0</td>\n",
              "      <td>3</td>\n",
              "      <td>Braund, Mr. Owen Harris</td>\n",
              "      <td>male</td>\n",
              "      <td>22.0</td>\n",
              "      <td>1</td>\n",
              "      <td>0</td>\n",
              "      <td>A/5 21171</td>\n",
              "      <td>7.2500</td>\n",
              "      <td>NaN</td>\n",
              "      <td>S</td>\n",
              "    </tr>\n",
              "    <tr>\n",
              "      <th>1</th>\n",
              "      <td>2</td>\n",
              "      <td>1</td>\n",
              "      <td>1</td>\n",
              "      <td>Cumings, Mrs. John Bradley (Florence Briggs Th...</td>\n",
              "      <td>female</td>\n",
              "      <td>38.0</td>\n",
              "      <td>1</td>\n",
              "      <td>0</td>\n",
              "      <td>PC 17599</td>\n",
              "      <td>71.2833</td>\n",
              "      <td>C85</td>\n",
              "      <td>C</td>\n",
              "    </tr>\n",
              "    <tr>\n",
              "      <th>2</th>\n",
              "      <td>3</td>\n",
              "      <td>1</td>\n",
              "      <td>3</td>\n",
              "      <td>Heikkinen, Miss. Laina</td>\n",
              "      <td>female</td>\n",
              "      <td>26.0</td>\n",
              "      <td>0</td>\n",
              "      <td>0</td>\n",
              "      <td>STON/O2. 3101282</td>\n",
              "      <td>7.9250</td>\n",
              "      <td>NaN</td>\n",
              "      <td>S</td>\n",
              "    </tr>\n",
              "    <tr>\n",
              "      <th>3</th>\n",
              "      <td>4</td>\n",
              "      <td>1</td>\n",
              "      <td>1</td>\n",
              "      <td>Futrelle, Mrs. Jacques Heath (Lily May Peel)</td>\n",
              "      <td>female</td>\n",
              "      <td>35.0</td>\n",
              "      <td>1</td>\n",
              "      <td>0</td>\n",
              "      <td>113803</td>\n",
              "      <td>53.1000</td>\n",
              "      <td>C123</td>\n",
              "      <td>S</td>\n",
              "    </tr>\n",
              "    <tr>\n",
              "      <th>4</th>\n",
              "      <td>5</td>\n",
              "      <td>0</td>\n",
              "      <td>3</td>\n",
              "      <td>Allen, Mr. William Henry</td>\n",
              "      <td>male</td>\n",
              "      <td>35.0</td>\n",
              "      <td>0</td>\n",
              "      <td>0</td>\n",
              "      <td>373450</td>\n",
              "      <td>8.0500</td>\n",
              "      <td>NaN</td>\n",
              "      <td>S</td>\n",
              "    </tr>\n",
              "  </tbody>\n",
              "</table>\n",
              "</div>"
            ],
            "text/plain": [
              "   PassengerId  Survived  Pclass  ...     Fare Cabin  Embarked\n",
              "0            1         0       3  ...   7.2500   NaN         S\n",
              "1            2         1       1  ...  71.2833   C85         C\n",
              "2            3         1       3  ...   7.9250   NaN         S\n",
              "3            4         1       1  ...  53.1000  C123         S\n",
              "4            5         0       3  ...   8.0500   NaN         S\n",
              "\n",
              "[5 rows x 12 columns]"
            ]
          },
          "metadata": {
            "tags": []
          },
          "execution_count": 3
        }
      ]
    },
    {
      "cell_type": "markdown",
      "metadata": {
        "id": "1X1Urb-rHLW-"
      },
      "source": [
        "# Tasks for data pre-pocessing:\n",
        "\n",
        "to deal with missing values;\n",
        "\n",
        "to recode the variables into categories;\n",
        "\n",
        "to define the features for the models what will show the highest accuracy scores.\n",
        "\n",
        "\n",
        "\n",
        "\n",
        "\n",
        "\n",
        "\n"
      ]
    },
    {
      "cell_type": "code",
      "metadata": {
        "id": "-dfgQD_ysA8r",
        "colab": {
          "base_uri": "https://localhost:8080/",
          "height": 296
        },
        "outputId": "14afc011-472f-4a63-8808-eaf9c4f90813"
      },
      "source": [
        "import seaborn as sb\n",
        "sb.boxplot(x='Pclass',y='Age',data=train,palette='winter')"
      ],
      "execution_count": null,
      "outputs": [
        {
          "output_type": "execute_result",
          "data": {
            "text/plain": [
              "<matplotlib.axes._subplots.AxesSubplot at 0x7f26829f7518>"
            ]
          },
          "metadata": {
            "tags": []
          },
          "execution_count": 4
        },
        {
          "output_type": "display_data",
          "data": {
            "image/png": "[encoded data removed]",
            "text/plain": [
              "<Figure size 432x288 with 1 Axes>"
            ]
          },
          "metadata": {
            "tags": [],
            "needs_background": "light"
          }
        }
      ]
    },
    {
      "cell_type": "markdown",
      "metadata": {
        "id": "hyOYUvaOsI6C"
      },
      "source": [
        "From this graph we can find out the mean age for each of the Pclass"
      ]
    },
    {
      "cell_type": "code",
      "metadata": {
        "id": "NHEon2XIbXVa"
      },
      "source": [
        "#filling the missing values in age varible based on the relation that has both features : 'Age' and 'Pclass'\n",
        "def impute(cols):\n",
        "    Age = cols[0]\n",
        "    Pclass=cols[1]\n",
        "    \n",
        "    if pd.isnull(Age):\n",
        "        if Pclass == 1:\n",
        "            return 38\n",
        "        elif Pclass == 2:\n",
        "            return 29\n",
        "        else:\n",
        "            return 24\n",
        "        \n",
        "    else:\n",
        "        return Age"
      ],
      "execution_count": null,
      "outputs": []
    },
    {
      "cell_type": "code",
      "metadata": {
        "id": "rU0RAoXPboUK"
      },
      "source": [
        "# applying to dataset\n",
        "train['Age']=train[['Age','Pclass']].apply(impute,axis=1)\n",
        "test['Age']=test[['Age','Pclass']].apply(impute,axis=1)"
      ],
      "execution_count": null,
      "outputs": []
    },
    {
      "cell_type": "code",
      "metadata": {
        "id": "uG1lEynXcHP9",
        "colab": {
          "base_uri": "https://localhost:8080/",
          "height": 111
        },
        "outputId": "34f00f3f-0a8a-4bb4-9fe0-7e986ecaced8"
      },
      "source": [
        "#missings in embarked filling \n",
        "train[train['Embarked'].isnull()]"
      ],
      "execution_count": null,
      "outputs": [
        {
          "output_type": "execute_result",
          "data": {
            "text/html": [
              "<div>\n",
              "<style scoped>\n",
              "    .dataframe tbody tr th:only-of-type {\n",
              "        vertical-align: middle;\n",
              "    }\n",
              "\n",
              "    .dataframe tbody tr th {\n",
              "        vertical-align: top;\n",
              "    }\n",
              "\n",
              "    .dataframe thead th {\n",
              "        text-align: right;\n",
              "    }\n",
              "</style>\n",
              "<table border=\"1\" class=\"dataframe\">\n",
              "  <thead>\n",
              "    <tr style=\"text-align: right;\">\n",
              "      <th></th>\n",
              "      <th>PassengerId</th>\n",
              "      <th>Survived</th>\n",
              "      <th>Pclass</th>\n",
              "      <th>Name</th>\n",
              "      <th>Sex</th>\n",
              "      <th>Age</th>\n",
              "      <th>SibSp</th>\n",
              "      <th>Parch</th>\n",
              "      <th>Ticket</th>\n",
              "      <th>Fare</th>\n",
              "      <th>Cabin</th>\n",
              "      <th>Embarked</th>\n",
              "    </tr>\n",
              "  </thead>\n",
              "  <tbody>\n",
              "    <tr>\n",
              "      <th>61</th>\n",
              "      <td>62</td>\n",
              "      <td>1</td>\n",
              "      <td>1</td>\n",
              "      <td>Icard, Miss. Amelie</td>\n",
              "      <td>female</td>\n",
              "      <td>38.0</td>\n",
              "      <td>0</td>\n",
              "      <td>0</td>\n",
              "      <td>113572</td>\n",
              "      <td>80.0</td>\n",
              "      <td>B28</td>\n",
              "      <td>NaN</td>\n",
              "    </tr>\n",
              "    <tr>\n",
              "      <th>829</th>\n",
              "      <td>830</td>\n",
              "      <td>1</td>\n",
              "      <td>1</td>\n",
              "      <td>Stone, Mrs. George Nelson (Martha Evelyn)</td>\n",
              "      <td>female</td>\n",
              "      <td>62.0</td>\n",
              "      <td>0</td>\n",
              "      <td>0</td>\n",
              "      <td>113572</td>\n",
              "      <td>80.0</td>\n",
              "      <td>B28</td>\n",
              "      <td>NaN</td>\n",
              "    </tr>\n",
              "  </tbody>\n",
              "</table>\n",
              "</div>"
            ],
            "text/plain": [
              "     PassengerId  Survived  Pclass  ...  Fare Cabin  Embarked\n",
              "61            62         1       1  ...  80.0   B28       NaN\n",
              "829          830         1       1  ...  80.0   B28       NaN\n",
              "\n",
              "[2 rows x 12 columns]"
            ]
          },
          "metadata": {
            "tags": []
          },
          "execution_count": 7
        }
      ]
    },
    {
      "cell_type": "markdown",
      "metadata": {
        "id": "x584QiaeMP4J"
      },
      "source": [
        "From the dataset we can see that 2 missing values were 2 females in 1 class travelling together so we can fill in the missing values with the most frequant value for this type of the passenger."
      ]
    },
    {
      "cell_type": "code",
      "metadata": {
        "id": "mSpqFIX5e1Cx"
      },
      "source": [
        "train['Embarked'] = train['Embarked'].fillna('S')"
      ],
      "execution_count": null,
      "outputs": []
    },
    {
      "cell_type": "markdown",
      "metadata": {
        "id": "REYStPCJMkEW"
      },
      "source": [
        "# Recoding the values\n",
        "\n",
        "First let's take a look at the fare variable."
      ]
    },
    {
      "cell_type": "code",
      "metadata": {
        "id": "b7fCRZXHMs_8",
        "colab": {
          "base_uri": "https://localhost:8080/",
          "height": 282
        },
        "outputId": "92747d55-a6c4-421f-a56c-d973c0724505"
      },
      "source": [
        "train.Fare.plot(kind='hist')"
      ],
      "execution_count": null,
      "outputs": [
        {
          "output_type": "execute_result",
          "data": {
            "text/plain": [
              "<matplotlib.axes._subplots.AxesSubplot at 0x7f26824312e8>"
            ]
          },
          "metadata": {
            "tags": []
          },
          "execution_count": 9
        },
        {
          "output_type": "display_data",
          "data": {
            "image/png": "[encoded data removed]",
            "text/plain": [
              "<Figure size 432x288 with 1 Axes>"
            ]
          },
          "metadata": {
            "tags": [],
            "needs_background": "light"
          }
        }
      ]
    },
    {
      "cell_type": "code",
      "metadata": {
        "id": "vAMk6-dhO8zW",
        "colab": {
          "base_uri": "https://localhost:8080/"
        },
        "outputId": "66af7253-a59b-4436-8a95-d8a72bc263f3"
      },
      "source": [
        "train.Fare.describe()"
      ],
      "execution_count": null,
      "outputs": [
        {
          "output_type": "execute_result",
          "data": {
            "text/plain": [
              "count    891.000000\n",
              "mean      32.204208\n",
              "std       49.693429\n",
              "min        0.000000\n",
              "25%        7.910400\n",
              "50%       14.454200\n",
              "75%       31.000000\n",
              "max      512.329200\n",
              "Name: Fare, dtype: float64"
            ]
          },
          "metadata": {
            "tags": []
          },
          "execution_count": 10
        }
      ]
    },
    {
      "cell_type": "code",
      "metadata": {
        "id": "GkHV38fqacAf"
      },
      "source": [
        "# recoding the Fare into 4 categories from 0 to 3 based of the price range quartiles.\n",
        "def categorize(fare):\n",
        "    if fare <= 7:\n",
        "        return 0\n",
        "    elif fare <= 14:\n",
        "        return 1\n",
        "    elif fare <= 31:\n",
        "        return 2\n",
        "    else:\n",
        "        return 3"
      ],
      "execution_count": null,
      "outputs": []
    },
    {
      "cell_type": "code",
      "metadata": {
        "id": "r-uvJjchawd-"
      },
      "source": [
        "#aplying to data sets\n",
        "test[\"FareType\"]= test[\"Fare\"].apply(categorize)\n",
        "train[\"FareType\"]= train[\"Fare\"].apply(categorize)"
      ],
      "execution_count": null,
      "outputs": []
    },
    {
      "cell_type": "code",
      "metadata": {
        "id": "fAPz_XE6bDSU"
      },
      "source": [
        "# recording sex as binary variable 1 for female and 0 for male\n",
        "def encodeSex(x):\n",
        "    if x==\"male\":\n",
        "        return 0\n",
        "    if x==\"female\":\n",
        "        return 1"
      ],
      "execution_count": null,
      "outputs": []
    },
    {
      "cell_type": "code",
      "metadata": {
        "id": "FVXF2fB4bLQ2"
      },
      "source": [
        "#applying to datasets\n",
        "train['SexCode'] = train['Sex'].apply(encodeSex)\n",
        "test['SexCode'] = test['Sex'].apply(encodeSex)"
      ],
      "execution_count": null,
      "outputs": []
    },
    {
      "cell_type": "markdown",
      "metadata": {
        "id": "OEwZfu4VNaUx"
      },
      "source": [
        "Let's record the age variable into categories based on...."
      ]
    },
    {
      "cell_type": "code",
      "metadata": {
        "id": "gKnbB6nir0f6",
        "colab": {
          "base_uri": "https://localhost:8080/"
        },
        "outputId": "7622c9ff-7648-4aae-e69c-0972dd906fb5"
      },
      "source": [
        "train['Age'].describe()"
      ],
      "execution_count": null,
      "outputs": [
        {
          "output_type": "execute_result",
          "data": {
            "text/plain": [
              "count    891.000000\n",
              "mean      29.100079\n",
              "std       13.265936\n",
              "min        0.420000\n",
              "25%       22.000000\n",
              "50%       26.000000\n",
              "75%       37.000000\n",
              "max       80.000000\n",
              "Name: Age, dtype: float64"
            ]
          },
          "metadata": {
            "tags": []
          },
          "execution_count": 15
        }
      ]
    },
    {
      "cell_type": "code",
      "metadata": {
        "id": "9X23TQQAPPVO",
        "colab": {
          "base_uri": "https://localhost:8080/",
          "height": 204
        },
        "outputId": "f38ab2a4-f681-469e-c74a-e42a91ed5102"
      },
      "source": [
        "#Added by Eduardo \n",
        "train['AgeBand'] = pd.cut(train['Age'], 5)\n",
        "train[['AgeBand', 'Survived']].groupby(['AgeBand'], as_index=False).mean().sort_values(by='AgeBand', ascending=True)"
      ],
      "execution_count": null,
      "outputs": [
        {
          "output_type": "execute_result",
          "data": {
            "text/html": [
              "<div>\n",
              "<style scoped>\n",
              "    .dataframe tbody tr th:only-of-type {\n",
              "        vertical-align: middle;\n",
              "    }\n",
              "\n",
              "    .dataframe tbody tr th {\n",
              "        vertical-align: top;\n",
              "    }\n",
              "\n",
              "    .dataframe thead th {\n",
              "        text-align: right;\n",
              "    }\n",
              "</style>\n",
              "<table border=\"1\" class=\"dataframe\">\n",
              "  <thead>\n",
              "    <tr style=\"text-align: right;\">\n",
              "      <th></th>\n",
              "      <th>AgeBand</th>\n",
              "      <th>Survived</th>\n",
              "    </tr>\n",
              "  </thead>\n",
              "  <tbody>\n",
              "    <tr>\n",
              "      <th>0</th>\n",
              "      <td>(0.34, 16.336]</td>\n",
              "      <td>0.550000</td>\n",
              "    </tr>\n",
              "    <tr>\n",
              "      <th>1</th>\n",
              "      <td>(16.336, 32.252]</td>\n",
              "      <td>0.336714</td>\n",
              "    </tr>\n",
              "    <tr>\n",
              "      <th>2</th>\n",
              "      <td>(32.252, 48.168]</td>\n",
              "      <td>0.412844</td>\n",
              "    </tr>\n",
              "    <tr>\n",
              "      <th>3</th>\n",
              "      <td>(48.168, 64.084]</td>\n",
              "      <td>0.434783</td>\n",
              "    </tr>\n",
              "    <tr>\n",
              "      <th>4</th>\n",
              "      <td>(64.084, 80.0]</td>\n",
              "      <td>0.090909</td>\n",
              "    </tr>\n",
              "  </tbody>\n",
              "</table>\n",
              "</div>"
            ],
            "text/plain": [
              "            AgeBand  Survived\n",
              "0    (0.34, 16.336]  0.550000\n",
              "1  (16.336, 32.252]  0.336714\n",
              "2  (32.252, 48.168]  0.412844\n",
              "3  (48.168, 64.084]  0.434783\n",
              "4    (64.084, 80.0]  0.090909"
            ]
          },
          "metadata": {
            "tags": []
          },
          "execution_count": 16
        }
      ]
    },
    {
      "cell_type": "code",
      "metadata": {
        "id": "Qi1q58nwqOLy"
      },
      "source": [
        "# recoding the age into 4 categories based of the age range for survived\n",
        "def categorize_Age(x):\n",
        "    if x <= 16:\n",
        "        return 0\n",
        "    elif x <= 32:\n",
        "        return 1\n",
        "    elif x <= 48:\n",
        "        return 2\n",
        "    elif x <= 64:\n",
        "        return 3\n",
        "    elif x <= 80:\n",
        "        return 4"
      ],
      "execution_count": null,
      "outputs": []
    },
    {
      "cell_type": "code",
      "metadata": {
        "id": "9ApzQsk0rDiH"
      },
      "source": [
        "#applying to dataset\n",
        "train['Age_cat']=train['Age'].apply(categorize_Age)\n",
        "test['Age_cat']=test['Age'].apply(categorize_Age)"
      ],
      "execution_count": null,
      "outputs": []
    },
    {
      "cell_type": "markdown",
      "metadata": {
        "id": "tKAxTfKzNkDK"
      },
      "source": [
        "Recoding Embarked to int categories from 0 to 2 based on the % of survived from each port (from less to more)."
      ]
    },
    {
      "cell_type": "code",
      "metadata": {
        "id": "lJ2yVAc_No_z",
        "colab": {
          "base_uri": "https://localhost:8080/"
        },
        "outputId": "522943fb-c7bb-42d3-f7e4-4b47f96a6c60"
      },
      "source": [
        "train.groupby(by=[\"Embarked\"])[\"Survived\"].value_counts()"
      ],
      "execution_count": null,
      "outputs": [
        {
          "output_type": "execute_result",
          "data": {
            "text/plain": [
              "Embarked  Survived\n",
              "C         1            93\n",
              "          0            75\n",
              "Q         0            47\n",
              "          1            30\n",
              "S         0           427\n",
              "          1           219\n",
              "Name: Survived, dtype: int64"
            ]
          },
          "metadata": {
            "tags": []
          },
          "execution_count": 19
        }
      ]
    },
    {
      "cell_type": "code",
      "metadata": {
        "id": "XrtirS9Ahsgf"
      },
      "source": [
        "train['Embarked_code'] = train['Embarked'].map( {'Q': 0, 'C': 1, 'S': 2} ).astype(int)\n",
        "test['Embarked_code'] = test['Embarked'].map( {'Q': 0, 'C': 1, 'S': 2} ).astype(int)"
      ],
      "execution_count": null,
      "outputs": []
    },
    {
      "cell_type": "code",
      "metadata": {
        "id": "RxaKtfwufxJn",
        "colab": {
          "base_uri": "https://localhost:8080/"
        },
        "outputId": "0c8718de-c358-4771-ab12-90460a1c01c5"
      },
      "source": [
        "#final data set for analysis\n",
        "train_cleaned = train.drop(['PassengerId','Name','Sex', 'Age', 'Fare', 'Ticket', 'Embarked', 'Cabin'], axis=1)\n",
        "train_cleaned.shape"
      ],
      "execution_count": null,
      "outputs": [
        {
          "output_type": "execute_result",
          "data": {
            "text/plain": [
              "(891, 9)"
            ]
          },
          "metadata": {
            "tags": []
          },
          "execution_count": 21
        }
      ]
    },
    {
      "cell_type": "code",
      "metadata": {
        "id": "sbT8wJSVnwdo",
        "colab": {
          "base_uri": "https://localhost:8080/",
          "height": 419
        },
        "outputId": "5fe66c99-f5c3-44f9-e3e4-c71584fba266"
      },
      "source": [
        "train_cleaned"
      ],
      "execution_count": null,
      "outputs": [
        {
          "output_type": "execute_result",
          "data": {
            "text/html": [
              "<div>\n",
              "<style scoped>\n",
              "    .dataframe tbody tr th:only-of-type {\n",
              "        vertical-align: middle;\n",
              "    }\n",
              "\n",
              "    .dataframe tbody tr th {\n",
              "        vertical-align: top;\n",
              "    }\n",
              "\n",
              "    .dataframe thead th {\n",
              "        text-align: right;\n",
              "    }\n",
              "</style>\n",
              "<table border=\"1\" class=\"dataframe\">\n",
              "  <thead>\n",
              "    <tr style=\"text-align: right;\">\n",
              "      <th></th>\n",
              "      <th>Survived</th>\n",
              "      <th>Pclass</th>\n",
              "      <th>SibSp</th>\n",
              "      <th>Parch</th>\n",
              "      <th>FareType</th>\n",
              "      <th>SexCode</th>\n",
              "      <th>AgeBand</th>\n",
              "      <th>Age_cat</th>\n",
              "      <th>Embarked_code</th>\n",
              "    </tr>\n",
              "  </thead>\n",
              "  <tbody>\n",
              "    <tr>\n",
              "      <th>0</th>\n",
              "      <td>0</td>\n",
              "      <td>3</td>\n",
              "      <td>1</td>\n",
              "      <td>0</td>\n",
              "      <td>1</td>\n",
              "      <td>0</td>\n",
              "      <td>(16.336, 32.252]</td>\n",
              "      <td>1</td>\n",
              "      <td>2</td>\n",
              "    </tr>\n",
              "    <tr>\n",
              "      <th>1</th>\n",
              "      <td>1</td>\n",
              "      <td>1</td>\n",
              "      <td>1</td>\n",
              "      <td>0</td>\n",
              "      <td>3</td>\n",
              "      <td>1</td>\n",
              "      <td>(32.252, 48.168]</td>\n",
              "      <td>2</td>\n",
              "      <td>1</td>\n",
              "    </tr>\n",
              "    <tr>\n",
              "      <th>2</th>\n",
              "      <td>1</td>\n",
              "      <td>3</td>\n",
              "      <td>0</td>\n",
              "      <td>0</td>\n",
              "      <td>1</td>\n",
              "      <td>1</td>\n",
              "      <td>(16.336, 32.252]</td>\n",
              "      <td>1</td>\n",
              "      <td>2</td>\n",
              "    </tr>\n",
              "    <tr>\n",
              "      <th>3</th>\n",
              "      <td>1</td>\n",
              "      <td>1</td>\n",
              "      <td>1</td>\n",
              "      <td>0</td>\n",
              "      <td>3</td>\n",
              "      <td>1</td>\n",
              "      <td>(32.252, 48.168]</td>\n",
              "      <td>2</td>\n",
              "      <td>2</td>\n",
              "    </tr>\n",
              "    <tr>\n",
              "      <th>4</th>\n",
              "      <td>0</td>\n",
              "      <td>3</td>\n",
              "      <td>0</td>\n",
              "      <td>0</td>\n",
              "      <td>1</td>\n",
              "      <td>0</td>\n",
              "      <td>(32.252, 48.168]</td>\n",
              "      <td>2</td>\n",
              "      <td>2</td>\n",
              "    </tr>\n",
              "    <tr>\n",
              "      <th>...</th>\n",
              "      <td>...</td>\n",
              "      <td>...</td>\n",
              "      <td>...</td>\n",
              "      <td>...</td>\n",
              "      <td>...</td>\n",
              "      <td>...</td>\n",
              "      <td>...</td>\n",
              "      <td>...</td>\n",
              "      <td>...</td>\n",
              "    </tr>\n",
              "    <tr>\n",
              "      <th>886</th>\n",
              "      <td>0</td>\n",
              "      <td>2</td>\n",
              "      <td>0</td>\n",
              "      <td>0</td>\n",
              "      <td>1</td>\n",
              "      <td>0</td>\n",
              "      <td>(16.336, 32.252]</td>\n",
              "      <td>1</td>\n",
              "      <td>2</td>\n",
              "    </tr>\n",
              "    <tr>\n",
              "      <th>887</th>\n",
              "      <td>1</td>\n",
              "      <td>1</td>\n",
              "      <td>0</td>\n",
              "      <td>0</td>\n",
              "      <td>2</td>\n",
              "      <td>1</td>\n",
              "      <td>(16.336, 32.252]</td>\n",
              "      <td>1</td>\n",
              "      <td>2</td>\n",
              "    </tr>\n",
              "    <tr>\n",
              "      <th>888</th>\n",
              "      <td>0</td>\n",
              "      <td>3</td>\n",
              "      <td>1</td>\n",
              "      <td>2</td>\n",
              "      <td>2</td>\n",
              "      <td>1</td>\n",
              "      <td>(16.336, 32.252]</td>\n",
              "      <td>1</td>\n",
              "      <td>2</td>\n",
              "    </tr>\n",
              "    <tr>\n",
              "      <th>889</th>\n",
              "      <td>1</td>\n",
              "      <td>1</td>\n",
              "      <td>0</td>\n",
              "      <td>0</td>\n",
              "      <td>2</td>\n",
              "      <td>0</td>\n",
              "      <td>(16.336, 32.252]</td>\n",
              "      <td>1</td>\n",
              "      <td>1</td>\n",
              "    </tr>\n",
              "    <tr>\n",
              "      <th>890</th>\n",
              "      <td>0</td>\n",
              "      <td>3</td>\n",
              "      <td>0</td>\n",
              "      <td>0</td>\n",
              "      <td>1</td>\n",
              "      <td>0</td>\n",
              "      <td>(16.336, 32.252]</td>\n",
              "      <td>1</td>\n",
              "      <td>0</td>\n",
              "    </tr>\n",
              "  </tbody>\n",
              "</table>\n",
              "<p>891 rows × 9 columns</p>\n",
              "</div>"
            ],
            "text/plain": [
              "     Survived  Pclass  SibSp  ...           AgeBand  Age_cat  Embarked_code\n",
              "0           0       3      1  ...  (16.336, 32.252]        1              2\n",
              "1           1       1      1  ...  (32.252, 48.168]        2              1\n",
              "2           1       3      0  ...  (16.336, 32.252]        1              2\n",
              "3           1       1      1  ...  (32.252, 48.168]        2              2\n",
              "4           0       3      0  ...  (32.252, 48.168]        2              2\n",
              "..        ...     ...    ...  ...               ...      ...            ...\n",
              "886         0       2      0  ...  (16.336, 32.252]        1              2\n",
              "887         1       1      0  ...  (16.336, 32.252]        1              2\n",
              "888         0       3      1  ...  (16.336, 32.252]        1              2\n",
              "889         1       1      0  ...  (16.336, 32.252]        1              1\n",
              "890         0       3      0  ...  (16.336, 32.252]        1              0\n",
              "\n",
              "[891 rows x 9 columns]"
            ]
          },
          "metadata": {
            "tags": []
          },
          "execution_count": 22
        }
      ]
    },
    {
      "cell_type": "code",
      "metadata": {
        "id": "4mZJRoNEkIxF",
        "colab": {
          "base_uri": "https://localhost:8080/"
        },
        "outputId": "18da8adb-da0d-43d5-df7d-49f0ffdc7632"
      },
      "source": [
        "test_cleaned = test.drop(['PassengerId','Name','Sex', 'Age', 'Fare', 'Ticket', 'Embarked', 'Cabin'], axis=1)\n",
        "test_cleaned.shape"
      ],
      "execution_count": null,
      "outputs": [
        {
          "output_type": "execute_result",
          "data": {
            "text/plain": [
              "(418, 7)"
            ]
          },
          "metadata": {
            "tags": []
          },
          "execution_count": 23
        }
      ]
    },
    {
      "cell_type": "code",
      "metadata": {
        "id": "29v3wtM7nxjq",
        "colab": {
          "base_uri": "https://localhost:8080/",
          "height": 419
        },
        "outputId": "36f49add-0349-4d74-d9ec-2836f0c6a37a"
      },
      "source": [
        "test_cleaned"
      ],
      "execution_count": null,
      "outputs": [
        {
          "output_type": "execute_result",
          "data": {
            "text/html": [
              "<div>\n",
              "<style scoped>\n",
              "    .dataframe tbody tr th:only-of-type {\n",
              "        vertical-align: middle;\n",
              "    }\n",
              "\n",
              "    .dataframe tbody tr th {\n",
              "        vertical-align: top;\n",
              "    }\n",
              "\n",
              "    .dataframe thead th {\n",
              "        text-align: right;\n",
              "    }\n",
              "</style>\n",
              "<table border=\"1\" class=\"dataframe\">\n",
              "  <thead>\n",
              "    <tr style=\"text-align: right;\">\n",
              "      <th></th>\n",
              "      <th>Pclass</th>\n",
              "      <th>SibSp</th>\n",
              "      <th>Parch</th>\n",
              "      <th>FareType</th>\n",
              "      <th>SexCode</th>\n",
              "      <th>Age_cat</th>\n",
              "      <th>Embarked_code</th>\n",
              "    </tr>\n",
              "  </thead>\n",
              "  <tbody>\n",
              "    <tr>\n",
              "      <th>0</th>\n",
              "      <td>3</td>\n",
              "      <td>0</td>\n",
              "      <td>0</td>\n",
              "      <td>1</td>\n",
              "      <td>0</td>\n",
              "      <td>2</td>\n",
              "      <td>0</td>\n",
              "    </tr>\n",
              "    <tr>\n",
              "      <th>1</th>\n",
              "      <td>3</td>\n",
              "      <td>1</td>\n",
              "      <td>0</td>\n",
              "      <td>0</td>\n",
              "      <td>1</td>\n",
              "      <td>2</td>\n",
              "      <td>2</td>\n",
              "    </tr>\n",
              "    <tr>\n",
              "      <th>2</th>\n",
              "      <td>2</td>\n",
              "      <td>0</td>\n",
              "      <td>0</td>\n",
              "      <td>1</td>\n",
              "      <td>0</td>\n",
              "      <td>3</td>\n",
              "      <td>0</td>\n",
              "    </tr>\n",
              "    <tr>\n",
              "      <th>3</th>\n",
              "      <td>3</td>\n",
              "      <td>0</td>\n",
              "      <td>0</td>\n",
              "      <td>1</td>\n",
              "      <td>0</td>\n",
              "      <td>1</td>\n",
              "      <td>2</td>\n",
              "    </tr>\n",
              "    <tr>\n",
              "      <th>4</th>\n",
              "      <td>3</td>\n",
              "      <td>1</td>\n",
              "      <td>1</td>\n",
              "      <td>1</td>\n",
              "      <td>1</td>\n",
              "      <td>1</td>\n",
              "      <td>2</td>\n",
              "    </tr>\n",
              "    <tr>\n",
              "      <th>...</th>\n",
              "      <td>...</td>\n",
              "      <td>...</td>\n",
              "      <td>...</td>\n",
              "      <td>...</td>\n",
              "      <td>...</td>\n",
              "      <td>...</td>\n",
              "      <td>...</td>\n",
              "    </tr>\n",
              "    <tr>\n",
              "      <th>413</th>\n",
              "      <td>3</td>\n",
              "      <td>0</td>\n",
              "      <td>0</td>\n",
              "      <td>1</td>\n",
              "      <td>0</td>\n",
              "      <td>1</td>\n",
              "      <td>2</td>\n",
              "    </tr>\n",
              "    <tr>\n",
              "      <th>414</th>\n",
              "      <td>1</td>\n",
              "      <td>0</td>\n",
              "      <td>0</td>\n",
              "      <td>3</td>\n",
              "      <td>1</td>\n",
              "      <td>2</td>\n",
              "      <td>1</td>\n",
              "    </tr>\n",
              "    <tr>\n",
              "      <th>415</th>\n",
              "      <td>3</td>\n",
              "      <td>0</td>\n",
              "      <td>0</td>\n",
              "      <td>1</td>\n",
              "      <td>0</td>\n",
              "      <td>2</td>\n",
              "      <td>2</td>\n",
              "    </tr>\n",
              "    <tr>\n",
              "      <th>416</th>\n",
              "      <td>3</td>\n",
              "      <td>0</td>\n",
              "      <td>0</td>\n",
              "      <td>1</td>\n",
              "      <td>0</td>\n",
              "      <td>1</td>\n",
              "      <td>2</td>\n",
              "    </tr>\n",
              "    <tr>\n",
              "      <th>417</th>\n",
              "      <td>3</td>\n",
              "      <td>1</td>\n",
              "      <td>1</td>\n",
              "      <td>2</td>\n",
              "      <td>0</td>\n",
              "      <td>1</td>\n",
              "      <td>1</td>\n",
              "    </tr>\n",
              "  </tbody>\n",
              "</table>\n",
              "<p>418 rows × 7 columns</p>\n",
              "</div>"
            ],
            "text/plain": [
              "     Pclass  SibSp  Parch  FareType  SexCode  Age_cat  Embarked_code\n",
              "0         3      0      0         1        0        2              0\n",
              "1         3      1      0         0        1        2              2\n",
              "2         2      0      0         1        0        3              0\n",
              "3         3      0      0         1        0        1              2\n",
              "4         3      1      1         1        1        1              2\n",
              "..      ...    ...    ...       ...      ...      ...            ...\n",
              "413       3      0      0         1        0        1              2\n",
              "414       1      0      0         3        1        2              1\n",
              "415       3      0      0         1        0        2              2\n",
              "416       3      0      0         1        0        1              2\n",
              "417       3      1      1         2        0        1              1\n",
              "\n",
              "[418 rows x 7 columns]"
            ]
          },
          "metadata": {
            "tags": []
          },
          "execution_count": 24
        }
      ]
    },
    {
      "cell_type": "markdown",
      "metadata": {
        "id": "_taFdLrkhqJN"
      },
      "source": [
        "# Logistic Regression"
      ]
    },
    {
      "cell_type": "code",
      "metadata": {
        "id": "i4dqDj0Ehnie"
      },
      "source": [
        "from sklearn.linear_model import LogisticRegression\n",
        "from sklearn.metrics import mean_absolute_error, accuracy_score\n",
        "from sklearn.model_selection import train_test_split\n",
        "from sklearn.preprocessing import StandardScaler\n",
        "from sklearn.metrics import classification_report, confusion_matrix\n",
        "from sklearn.metrics import ConfusionMatrixDisplay\n",
        "from sklearn.metrics import accuracy_score\n",
        "from sklearn.metrics import confusion_matrix \n",
        "from sklearn.model_selection import KFold, StratifiedKFold #for K-fold cross validation\n",
        "from sklearn.model_selection import cross_val_score #score evaluation: CROSS VALIDATION\n",
        "from sklearn.model_selection import cross_val_predict #prediction\n",
        "from sklearn.metrics import precision_score\n",
        "from sklearn.metrics import accuracy_score\n"
      ],
      "execution_count": null,
      "outputs": []
    },
    {
      "cell_type": "code",
      "metadata": {
        "id": "ySutA6O7PkH3",
        "colab": {
          "base_uri": "https://localhost:8080/",
          "height": 393
        },
        "outputId": "42776cbd-29cb-43bd-eeae-cb73415be192"
      },
      "source": [
        "# to choose the varibles for predictive model let's see the correlation \n",
        "plt.subplots(figsize=(8, 5))\n",
        "sns.heatmap(train_cleaned.corr(), annot=True, cmap=\"RdYlGn\")\n",
        "plt.show()"
      ],
      "execution_count": null,
      "outputs": [
        {
          "output_type": "display_data",
          "data": {
            "image/png": "[encoded data removed]",
            "text/plain": [
              "<Figure size 576x360 with 2 Axes>"
            ]
          },
          "metadata": {
            "tags": [],
            "needs_background": "light"
          }
        }
      ]
    },
    {
      "cell_type": "markdown",
      "metadata": {
        "id": "ajlqbKW4EPoU"
      },
      "source": [
        "The feautures for the model are passenager class, number of siblings , parents, parnters on board, type of the fare, sex, age, Embarked port"
      ]
    },
    {
      "cell_type": "code",
      "metadata": {
        "id": "E-obiTpcYpJR"
      },
      "source": [
        "#defining the features and response for the model \n",
        "X = train_cleaned.drop(['Survived', 'AgeBand'], axis=1)\n",
        "stdscale=StandardScaler()\n",
        "X_scaled = stdscale.fit_transform(X)\n",
        "y = train.Survived.copy()\n",
        "X_train, X_test, y_train, y_test = train_test_split(X_scaled, y, test_size=0.25, random_state=5)\n",
        "logreg=LogisticRegression()"
      ],
      "execution_count": null,
      "outputs": []
    },
    {
      "cell_type": "code",
      "metadata": {
        "id": "hvHyL_rya8f1"
      },
      "source": [
        "logreg.fit(X_train, y_train)\n",
        "y_pred = logreg.predict(X_test)\n",
        "accuracy =logreg.score(X_test, y_test) "
      ],
      "execution_count": null,
      "outputs": []
    },
    {
      "cell_type": "code",
      "metadata": {
        "id": "_5nAypybhK4M",
        "colab": {
          "base_uri": "https://localhost:8080/"
        },
        "outputId": "16b44aad-b95e-4724-b5b8-8645c3198886"
      },
      "source": [
        "print(classification_report(y_test, predictions))"
      ],
      "execution_count": null,
      "outputs": [
        {
          "output_type": "stream",
          "text": [
            "              precision    recall  f1-score   support\n",
            "\n",
            "           0       0.84      0.93      0.88       140\n",
            "           1       0.86      0.71      0.78        83\n",
            "\n",
            "    accuracy                           0.85       223\n",
            "   macro avg       0.85      0.82      0.83       223\n",
            "weighted avg       0.85      0.85      0.84       223\n",
            "\n"
          ],
          "name": "stdout"
        }
      ]
    },
    {
      "cell_type": "markdown",
      "metadata": {
        "id": "BDdYe_GBfLFO"
      },
      "source": [
        "The model predict the survival level at 85% level.\n",
        "\n",
        "\n"
      ]
    },
    {
      "cell_type": "code",
      "metadata": {
        "id": "Ll2QqhS2aG2e",
        "colab": {
          "base_uri": "https://localhost:8080/",
          "height": 312
        },
        "outputId": "2bbc2f8e-7bc3-430d-cdad-c6d2613a6852"
      },
      "source": [
        "#Kfold\n",
        "kfold = KFold(n_splits=10) # k=10, split the data into 10 equal parts\n",
        "cv_result = cross_val_score(logreg, X_scaled, y, cv = kfold, scoring = \"accuracy\")\n",
        "cv_result.mean() # mean accuracy of kfold\n",
        "\n",
        "fig=plt.subplot()\n",
        "ax=plt.gca()\n",
        "y_pred = cross_val_predict(logreg,X_scaled,y,cv=kfold)\n",
        "sns.heatmap(confusion_matrix(y,y_pred),annot=True,fmt='2.0f')\n",
        "ax.set_title('Matrix for Logistic Regression')\n",
        "ax.set_ylabel('Actual Value')\n",
        "ax.set_xlabel('Predicted Value')"
      ],
      "execution_count": null,
      "outputs": [
        {
          "output_type": "execute_result",
          "data": {
            "text/plain": [
              "Text(0.5, 15.0, 'Predicted Value')"
            ]
          },
          "metadata": {
            "tags": []
          },
          "execution_count": 31
        },
        {
          "output_type": "display_data",
          "data": {
            "image/png": "[encoded data removed]",
            "text/plain": [
              "<Figure size 432x288 with 2 Axes>"
            ]
          },
          "metadata": {
            "tags": [],
            "needs_background": "light"
          }
        }
      ]
    },
    {
      "cell_type": "markdown",
      "metadata": {
        "id": "3HAHjDA8bNRi"
      },
      "source": [
        "The number of correct predictions for not survived are 475 and for survived 237."
      ]
    },
    {
      "cell_type": "code",
      "metadata": {
        "id": "zWJo1W0tm6SS",
        "colab": {
          "base_uri": "https://localhost:8080/"
        },
        "outputId": "d9297cfd-816b-48b4-daf8-9904eb10f11f"
      },
      "source": [
        "# I tried this package to see details about model\n",
        "import statsmodels.api as sm"
      ],
      "execution_count": null,
      "outputs": [
        {
          "output_type": "stream",
          "text": [
            "/usr/local/lib/python3.6/dist-packages/statsmodels/tools/_testing.py:19: FutureWarning: pandas.util.testing is deprecated. Use the functions in the public API at pandas.testing instead.\n",
            "  import pandas.util.testing as tm\n"
          ],
          "name": "stderr"
        }
      ]
    },
    {
      "cell_type": "code",
      "metadata": {
        "id": "DfSdt8pmm7gW",
        "colab": {
          "base_uri": "https://localhost:8080/",
          "height": 408
        },
        "outputId": "ba9fc1c1-a2b3-476f-8b45-1a424daef24b"
      },
      "source": [
        "model = sm.Logit(y_test, X_test)\n",
        "result = model.fit(method='newton')\n",
        "result.summary()\n"
      ],
      "execution_count": null,
      "outputs": [
        {
          "output_type": "stream",
          "text": [
            "Optimization terminated successfully.\n",
            "         Current function value: 0.412976\n",
            "         Iterations 6\n"
          ],
          "name": "stdout"
        },
        {
          "output_type": "execute_result",
          "data": {
            "text/html": [
              "<table class=\"simpletable\">\n",
              "<tr>\n",
              "        <td>Model:</td>              <td>Logit</td>      <td>Pseudo R-squared:</td>    <td>0.374</td>  \n",
              "</tr>\n",
              "<tr>\n",
              "  <td>Dependent Variable:</td>     <td>Survived</td>           <td>AIC:</td>         <td>198.1874</td> \n",
              "</tr>\n",
              "<tr>\n",
              "         <td>Date:</td>        <td>2020-10-29 13:50</td>       <td>BIC:</td>         <td>222.0376</td> \n",
              "</tr>\n",
              "<tr>\n",
              "   <td>No. Observations:</td>         <td>223</td>        <td>Log-Likelihood:</td>    <td>-92.094</td> \n",
              "</tr>\n",
              "<tr>\n",
              "       <td>Df Model:</td>              <td>6</td>            <td>LL-Null:</td>        <td>-147.21</td> \n",
              "</tr>\n",
              "<tr>\n",
              "     <td>Df Residuals:</td>           <td>216</td>         <td>LLR p-value:</td>    <td>1.8299e-21</td>\n",
              "</tr>\n",
              "<tr>\n",
              "      <td>Converged:</td>           <td>1.0000</td>           <td>Scale:</td>         <td>1.0000</td>  \n",
              "</tr>\n",
              "<tr>\n",
              "    <td>No. Iterations:</td>        <td>6.0000</td>              <td></td>               <td></td>     \n",
              "</tr>\n",
              "</table>\n",
              "<table class=\"simpletable\">\n",
              "<tr>\n",
              "   <td></td>   <th>Coef.</th>  <th>Std.Err.</th>    <th>z</th>     <th>P>|z|</th> <th>[0.025</th>  <th>0.975]</th> \n",
              "</tr>\n",
              "<tr>\n",
              "  <th>x1</th> <td>-0.5856</td>  <td>0.2811</td>  <td>-2.0837</td> <td>0.0372</td> <td>-1.1365</td> <td>-0.0348</td>\n",
              "</tr>\n",
              "<tr>\n",
              "  <th>x2</th> <td>-0.7066</td>  <td>0.2677</td>  <td>-2.6392</td> <td>0.0083</td> <td>-1.2314</td> <td>-0.1819</td>\n",
              "</tr>\n",
              "<tr>\n",
              "  <th>x3</th> <td>-0.1319</td>  <td>0.2376</td>  <td>-0.5550</td> <td>0.5789</td> <td>-0.5976</td> <td>0.3339</td> \n",
              "</tr>\n",
              "<tr>\n",
              "  <th>x4</th> <td>0.8467</td>   <td>0.2885</td>  <td>2.9347</td>  <td>0.0033</td> <td>0.2812</td>  <td>1.4122</td> \n",
              "</tr>\n",
              "<tr>\n",
              "  <th>x5</th> <td>1.4867</td>   <td>0.2134</td>  <td>6.9665</td>  <td>0.0000</td> <td>1.0684</td>  <td>1.9049</td> \n",
              "</tr>\n",
              "<tr>\n",
              "  <th>x6</th> <td>-0.4975</td>  <td>0.2326</td>  <td>-2.1393</td> <td>0.0324</td> <td>-0.9533</td> <td>-0.0417</td>\n",
              "</tr>\n",
              "<tr>\n",
              "  <th>x7</th> <td>-0.0407</td>  <td>0.1895</td>  <td>-0.2147</td> <td>0.8300</td> <td>-0.4121</td> <td>0.3307</td> \n",
              "</tr>\n",
              "</table>"
            ],
            "text/plain": [
              "<class 'statsmodels.iolib.summary2.Summary'>\n",
              "\"\"\"\n",
              "                         Results: Logit\n",
              "=================================================================\n",
              "Model:              Logit            Pseudo R-squared: 0.374     \n",
              "Dependent Variable: Survived         AIC:              198.1874  \n",
              "Date:               2020-10-29 13:50 BIC:              222.0376  \n",
              "No. Observations:   223              Log-Likelihood:   -92.094   \n",
              "Df Model:           6                LL-Null:          -147.21   \n",
              "Df Residuals:       216              LLR p-value:      1.8299e-21\n",
              "Converged:          1.0000           Scale:            1.0000    \n",
              "No. Iterations:     6.0000                                       \n",
              "--------------------------------------------------------------------\n",
              "       Coef.     Std.Err.       z       P>|z|      [0.025     0.975]\n",
              "--------------------------------------------------------------------\n",
              "x1    -0.5856      0.2811    -2.0837    0.0372    -1.1365    -0.0348\n",
              "x2    -0.7066      0.2677    -2.6392    0.0083    -1.2314    -0.1819\n",
              "x3    -0.1319      0.2376    -0.5550    0.5789    -0.5976     0.3339\n",
              "x4     0.8467      0.2885     2.9347    0.0033     0.2812     1.4122\n",
              "x5     1.4867      0.2134     6.9665    0.0000     1.0684     1.9049\n",
              "x6    -0.4975      0.2326    -2.1393    0.0324    -0.9533    -0.0417\n",
              "x7    -0.0407      0.1895    -0.2147    0.8300    -0.4121     0.3307\n",
              "=================================================================\n",
              "\n",
              "\"\"\""
            ]
          },
          "metadata": {
            "tags": []
          },
          "execution_count": 60
        }
      ]
    },
    {
      "cell_type": "markdown",
      "metadata": {
        "id": "knDLDCl3b1D-"
      },
      "source": [
        "### LDA Eduardo"
      ]
    },
    {
      "cell_type": "code",
      "metadata": {
        "id": "1TwcljjJb31H"
      },
      "source": [
        "import matplotlib.pyplot as plt\n",
        "from sklearn.discriminant_analysis import LinearDiscriminantAnalysis"
      ],
      "execution_count": null,
      "outputs": []
    },
    {
      "cell_type": "code",
      "metadata": {
        "id": "8zXRYu_jNq78",
        "colab": {
          "base_uri": "https://localhost:8080/",
          "height": 147
        },
        "outputId": "6b7f14dc-bb33-4c32-99f4-3a1bd09743b2"
      },
      "source": [
        "\"\"\"\n",
        "X = train_cleaned.drop(['Survived'], axis=1)\n",
        "stdscale=StandardScaler()\n",
        "X_scaled = stdscale.fit_transform(X)\n",
        "y = train.Survived.copy()\n",
        "X_train, X_test, y_train, y_test = train_test_split(X_scaled, y, test_size=0.25, random_state=5)\n"
      ],
      "execution_count": null,
      "outputs": [
        {
          "output_type": "error",
          "ename": "SyntaxError",
          "evalue": "ignored",
          "traceback": [
            "\u001b[0;36m  File \u001b[0;32m\"<ipython-input-35-afa6286003ef>\"\u001b[0;36m, line \u001b[0;32m6\u001b[0m\n\u001b[0;31m    X_train, X_test, y_train, y_test = train_test_split(X_scaled, y, test_size=0.25, random_state=5)\u001b[0m\n\u001b[0m                                                                                                    \n^\u001b[0m\n\u001b[0;31mSyntaxError\u001b[0m\u001b[0;31m:\u001b[0m EOF while scanning triple-quoted string literal\n"
          ]
        }
      ]
    },
    {
      "cell_type": "code",
      "metadata": {
        "id": "P6CnjcVhduD2"
      },
      "source": [
        "lda = LinearDiscriminantAnalysis()\n",
        "lda.fit(X_train, y_train)\n",
        "Y_pred = lda.predict(X_test)\n",
        "acc_lda = round(lda.score(X_train,y_train) * 100, 2)\n",
        "acc_lda"
      ],
      "execution_count": null,
      "outputs": []
    },
    {
      "cell_type": "code",
      "metadata": {
        "id": "UeeWt6plvZX5",
        "colab": {
          "base_uri": "https://localhost:8080/",
          "height": 147
        },
        "outputId": "46311380-f7ef-4cf5-8ece-f9f337c7b477"
      },
      "source": [
        "\"\"\"\n",
        "plt.figure()\n",
        "colors = ['navy', 'turquoise', 'darkorange']\n",
        "\n",
        "plt.figure()\n",
        "plt.scatter(X[y == i, 0], X[y == i, 1], alpha=.8, color=colors,\n",
        "                label=target_name)\n",
        "plt.legend(loc='best', shadow=False, scatterpoints=1)\n",
        "plt.title('LDA of Titanic dataset')\n",
        "\n",
        "plt.show()"
      ],
      "execution_count": null,
      "outputs": [
        {
          "output_type": "error",
          "ename": "SyntaxError",
          "evalue": "ignored",
          "traceback": [
            "\u001b[0;36m  File \u001b[0;32m\"<ipython-input-36-c813091d6958>\"\u001b[0;36m, line \u001b[0;32m11\u001b[0m\n\u001b[0;31m    plt.show()\u001b[0m\n\u001b[0m              \n^\u001b[0m\n\u001b[0;31mSyntaxError\u001b[0m\u001b[0;31m:\u001b[0m EOF while scanning triple-quoted string literal\n"
          ]
        }
      ]
    },
    {
      "cell_type": "code",
      "metadata": {
        "id": "iZz5E4XHOcOZ",
        "colab": {
          "base_uri": "https://localhost:8080/"
        },
        "outputId": "a3a6e733-0b74-4ba0-c4a7-48cd160a757d"
      },
      "source": [
        "X = train_cleaned[['Pclass', 'SibSp', 'Parch', 'FareType', 'SexCode', 'Age_cat', 'Embarked_code']].values\n",
        "y = train_cleaned['Survived'].values\n",
        "\n",
        "from sklearn import metrics\n",
        "from sklearn.model_selection import train_test_split\n",
        "X_train, X_test, y_train, y_test = train_test_split( X, y, test_size=0.2, random_state=4)\n",
        "print ('Train set:', X_train.shape,  y_train.shape)\n",
        "print ('Test set:', X_test.shape,  y_test.shape)"
      ],
      "execution_count": null,
      "outputs": [
        {
          "output_type": "stream",
          "text": [
            "Train set: (712, 7) (712,)\n",
            "Test set: (179, 7) (179,)\n"
          ],
          "name": "stdout"
        }
      ]
    },
    {
      "cell_type": "code",
      "metadata": {
        "id": "43EpJi7yOcgh",
        "colab": {
          "base_uri": "https://localhost:8080/"
        },
        "outputId": "d8f09b96-a708-45ef-d61f-7830dcca6698"
      },
      "source": [
        "from sklearn.discriminant_analysis import LinearDiscriminantAnalysis\n",
        "ldaModel = LinearDiscriminantAnalysis().fit(X_train,y_train)\n",
        "yhat = ldaModel.predict(X_test)\n",
        "\n",
        "print(\"Train set Accuracy: \", metrics.accuracy_score(y_train, ldaModel.predict(X_train)))\n",
        "print(\"Test set Accuracy: \", metrics.accuracy_score(y_test, yhat))"
      ],
      "execution_count": null,
      "outputs": [
        {
          "output_type": "stream",
          "text": [
            "Train set Accuracy:  0.7879213483146067\n",
            "Test set Accuracy:  0.8212290502793296\n"
          ],
          "name": "stdout"
        }
      ]
    },
    {
      "cell_type": "code",
      "metadata": {
        "id": "7BHJXzbnhQzy",
        "colab": {
          "base_uri": "https://localhost:8080/",
          "height": 312
        },
        "outputId": "abfa5780-7b7c-4867-81b4-39640ef68284"
      },
      "source": [
        "kfold = KFold(n_splits=10) # k=10, split the data into 10 equal parts\n",
        "cv_result = cross_val_score(ldaModel, X_scaled, y, cv = kfold, scoring = \"accuracy\")\n",
        "cv_result.mean() # mean accuracy of kfold\n",
        "\n",
        "fig=plt.subplot()\n",
        "ax=plt.gca()\n",
        "y_pred = cross_val_predict(ldaModel,X_scaled,y,cv=kfold)\n",
        "sns.heatmap(confusion_matrix(y,y_pred),annot=True,fmt='2.0f')\n",
        "ax.set_title('Matrix for LDA')\n",
        "ax.set_ylabel('Actual Value')\n",
        "ax.set_xlabel('Predicted Value')"
      ],
      "execution_count": null,
      "outputs": [
        {
          "output_type": "execute_result",
          "data": {
            "text/plain": [
              "Text(0.5, 15.0, 'Predicted Value')"
            ]
          },
          "metadata": {
            "tags": []
          },
          "execution_count": 40
        },
        {
          "output_type": "display_data",
          "data": {
            "image/png": "[encoded data removed]",
            "text/plain": [
              "<Figure size 432x288 with 2 Axes>"
            ]
          },
          "metadata": {
            "tags": [],
            "needs_background": "light"
          }
        }
      ]
    },
    {
      "cell_type": "code",
      "metadata": {
        "id": "CtzRCtAqv-Tu",
        "colab": {
          "base_uri": "https://localhost:8080/"
        },
        "outputId": "f42019be-4ee6-4e05-fc9a-141136da7487"
      },
      "source": [
        "from sklearn.discriminant_analysis import QuadraticDiscriminantAnalysis\n",
        "qdaModel = QuadraticDiscriminantAnalysis().fit(X_train,y_train)\n",
        "yhat = qdaModel.predict(X_test)\n",
        "\n",
        "print(\"Train set Accuracy: \", metrics.accuracy_score(y_train, qdaModel.predict(X_train)))\n",
        "print(\"Test set Accuracy: \", metrics.accuracy_score(y_test, yhat))"
      ],
      "execution_count": null,
      "outputs": [
        {
          "output_type": "stream",
          "text": [
            "Train set Accuracy:  0.7935393258426966\n",
            "Test set Accuracy:  0.8268156424581006\n"
          ],
          "name": "stdout"
        }
      ]
    },
    {
      "cell_type": "markdown",
      "metadata": {
        "id": "ZHogi7frkOCs"
      },
      "source": [
        "## k-Nearest Neighbors classifier (kNN) - Gabriel Pérez"
      ]
    },
    {
      "cell_type": "code",
      "metadata": {
        "id": "23fSQGrjkR_Q",
        "colab": {
          "base_uri": "https://localhost:8080/",
          "height": 206
        },
        "outputId": "9a6724b9-f86b-4375-9fb0-b6ef4f63d943"
      },
      "source": [
        "train_cleaned.head(5)"
      ],
      "execution_count": null,
      "outputs": [
        {
          "output_type": "execute_result",
          "data": {
            "text/html": [
              "<div>\n",
              "<style scoped>\n",
              "    .dataframe tbody tr th:only-of-type {\n",
              "        vertical-align: middle;\n",
              "    }\n",
              "\n",
              "    .dataframe tbody tr th {\n",
              "        vertical-align: top;\n",
              "    }\n",
              "\n",
              "    .dataframe thead th {\n",
              "        text-align: right;\n",
              "    }\n",
              "</style>\n",
              "<table border=\"1\" class=\"dataframe\">\n",
              "  <thead>\n",
              "    <tr style=\"text-align: right;\">\n",
              "      <th></th>\n",
              "      <th>Survived</th>\n",
              "      <th>Pclass</th>\n",
              "      <th>SibSp</th>\n",
              "      <th>Parch</th>\n",
              "      <th>FareType</th>\n",
              "      <th>SexCode</th>\n",
              "      <th>AgeBand</th>\n",
              "      <th>Age_cat</th>\n",
              "      <th>Embarked_code</th>\n",
              "    </tr>\n",
              "  </thead>\n",
              "  <tbody>\n",
              "    <tr>\n",
              "      <th>0</th>\n",
              "      <td>0</td>\n",
              "      <td>3</td>\n",
              "      <td>1</td>\n",
              "      <td>0</td>\n",
              "      <td>1</td>\n",
              "      <td>0</td>\n",
              "      <td>(16.336, 32.252]</td>\n",
              "      <td>1</td>\n",
              "      <td>2</td>\n",
              "    </tr>\n",
              "    <tr>\n",
              "      <th>1</th>\n",
              "      <td>1</td>\n",
              "      <td>1</td>\n",
              "      <td>1</td>\n",
              "      <td>0</td>\n",
              "      <td>3</td>\n",
              "      <td>1</td>\n",
              "      <td>(32.252, 48.168]</td>\n",
              "      <td>3</td>\n",
              "      <td>1</td>\n",
              "    </tr>\n",
              "    <tr>\n",
              "      <th>2</th>\n",
              "      <td>1</td>\n",
              "      <td>3</td>\n",
              "      <td>0</td>\n",
              "      <td>0</td>\n",
              "      <td>1</td>\n",
              "      <td>1</td>\n",
              "      <td>(16.336, 32.252]</td>\n",
              "      <td>1</td>\n",
              "      <td>2</td>\n",
              "    </tr>\n",
              "    <tr>\n",
              "      <th>3</th>\n",
              "      <td>1</td>\n",
              "      <td>1</td>\n",
              "      <td>1</td>\n",
              "      <td>0</td>\n",
              "      <td>3</td>\n",
              "      <td>1</td>\n",
              "      <td>(32.252, 48.168]</td>\n",
              "      <td>2</td>\n",
              "      <td>2</td>\n",
              "    </tr>\n",
              "    <tr>\n",
              "      <th>4</th>\n",
              "      <td>0</td>\n",
              "      <td>3</td>\n",
              "      <td>0</td>\n",
              "      <td>0</td>\n",
              "      <td>1</td>\n",
              "      <td>0</td>\n",
              "      <td>(32.252, 48.168]</td>\n",
              "      <td>2</td>\n",
              "      <td>2</td>\n",
              "    </tr>\n",
              "  </tbody>\n",
              "</table>\n",
              "</div>"
            ],
            "text/plain": [
              "   Survived  Pclass  SibSp  ...           AgeBand  Age_cat  Embarked_code\n",
              "0         0       3      1  ...  (16.336, 32.252]        1              2\n",
              "1         1       1      1  ...  (32.252, 48.168]        3              1\n",
              "2         1       3      0  ...  (16.336, 32.252]        1              2\n",
              "3         1       1      1  ...  (32.252, 48.168]        2              2\n",
              "4         0       3      0  ...  (32.252, 48.168]        2              2\n",
              "\n",
              "[5 rows x 9 columns]"
            ]
          },
          "metadata": {
            "tags": []
          },
          "execution_count": 240
        }
      ]
    },
    {
      "cell_type": "code",
      "metadata": {
        "id": "_MquaPLmkkGv",
        "colab": {
          "base_uri": "https://localhost:8080/"
        },
        "outputId": "5003b202-0424-4f8f-9433-e1a597dfb0e7"
      },
      "source": [
        "train_cleaned.columns"
      ],
      "execution_count": null,
      "outputs": [
        {
          "output_type": "execute_result",
          "data": {
            "text/plain": [
              "Index(['Survived', 'Pclass', 'SibSp', 'Parch', 'FareType', 'SexCode',\n",
              "       'AgeBand', 'Age_cat', 'Embarked_code'],\n",
              "      dtype='object')"
            ]
          },
          "metadata": {
            "tags": []
          },
          "execution_count": 241
        }
      ]
    },
    {
      "cell_type": "code",
      "metadata": {
        "id": "UCFKihjHlO68",
        "colab": {
          "base_uri": "https://localhost:8080/"
        },
        "outputId": "9dd86625-45c1-4a2f-fc4e-2202b17628e5"
      },
      "source": [
        "X = train_cleaned[['Pclass', 'SibSp', 'Parch', 'FareType', 'SexCode', 'Age_cat', 'Embarked_code']].values\n",
        "X[:5]"
      ],
      "execution_count": null,
      "outputs": [
        {
          "output_type": "execute_result",
          "data": {
            "text/plain": [
              "array([[3, 1, 0, 1, 0, 1, 2],\n",
              "       [1, 1, 0, 3, 1, 3, 1],\n",
              "       [3, 0, 0, 1, 1, 1, 2],\n",
              "       [1, 1, 0, 3, 1, 2, 2],\n",
              "       [3, 0, 0, 1, 0, 2, 2]])"
            ]
          },
          "metadata": {
            "tags": []
          },
          "execution_count": 242
        }
      ]
    },
    {
      "cell_type": "code",
      "metadata": {
        "id": "J082ib9clZY6",
        "colab": {
          "base_uri": "https://localhost:8080/"
        },
        "outputId": "6b2d0761-5374-4b49-c53a-7d11bde8b1f3"
      },
      "source": [
        "y = train_cleaned['Survived'].values\n",
        "y[:5]"
      ],
      "execution_count": null,
      "outputs": [
        {
          "output_type": "execute_result",
          "data": {
            "text/plain": [
              "array([0, 1, 1, 1, 0])"
            ]
          },
          "metadata": {
            "tags": []
          },
          "execution_count": 243
        }
      ]
    },
    {
      "cell_type": "code",
      "metadata": {
        "id": "_c9T3Tzgly5P"
      },
      "source": [
        "from sklearn import preprocessing"
      ],
      "execution_count": null,
      "outputs": []
    },
    {
      "cell_type": "markdown",
      "metadata": {
        "id": "K9lbEuYYybMZ"
      },
      "source": [
        "Data Standardization give data zero mean and unit variance, it is good practice, especially for algorithms such as KNN which is based on distance. But In this case it decreases the performance of the model."
      ]
    },
    {
      "cell_type": "code",
      "metadata": {
        "id": "W-qsGk1tl6vw"
      },
      "source": [
        "#X = preprocessing.StandardScaler().fit(X).transform(X.astype(float))\n",
        "#X[0:5]"
      ],
      "execution_count": null,
      "outputs": []
    },
    {
      "cell_type": "code",
      "metadata": {
        "id": "bKdxLkM4l-uH",
        "colab": {
          "base_uri": "https://localhost:8080/"
        },
        "outputId": "92517122-96d2-4b12-fd8a-32e1539a6c13"
      },
      "source": [
        "from sklearn.model_selection import train_test_split\n",
        "X_train, X_test, y_train, y_test = train_test_split( X, y, test_size=0.2, random_state=4)\n",
        "print ('Train set:', X_train.shape,  y_train.shape)\n",
        "print ('Test set:', X_test.shape,  y_test.shape)"
      ],
      "execution_count": null,
      "outputs": [
        {
          "output_type": "stream",
          "text": [
            "Train set: (712, 7) (712,)\n",
            "Test set: (179, 7) (179,)\n"
          ],
          "name": "stdout"
        }
      ]
    },
    {
      "cell_type": "code",
      "metadata": {
        "id": "su6eYr-FmP3M"
      },
      "source": [
        "from sklearn.neighbors import KNeighborsClassifier\n",
        "from sklearn import metrics"
      ],
      "execution_count": null,
      "outputs": []
    },
    {
      "cell_type": "markdown",
      "metadata": {
        "id": "px64ePqhlxTg"
      },
      "source": [
        "We can calculate the accuracy of KNN for different Ks. Essentially, it calculates how closely the actual labels and predicted labels are matched in the test set."
      ]
    },
    {
      "cell_type": "code",
      "metadata": {
        "id": "f-3LI8rjmV89",
        "colab": {
          "base_uri": "https://localhost:8080/",
          "height": 297
        },
        "outputId": "70e06e45-bdb6-463d-e485-0956c833d2bf"
      },
      "source": [
        "N = 18\n",
        "train_accuracy = []\n",
        "test_accuracy = []\n",
        "for k in range(1,N):\n",
        "    neigh = KNeighborsClassifier(n_neighbors = k).fit(X_train,y_train)\n",
        "    y_hat = neigh.predict(X_test)\n",
        "    train_accuracy.append(metrics.accuracy_score(y_train, neigh.predict(X_train)))\n",
        "    test_accuracy.append(metrics.accuracy_score(y_test, y_hat))\n",
        "\n",
        "plt.plot(range(1,N), train_accuracy, label='train')\n",
        "plt.plot(range(1,N), test_accuracy, label='test')\n",
        "plt.legend(loc='best')\n",
        "plt.xlabel('Value of k')\n",
        "plt.ylabel('Accuracy of model')\n",
        "plt.tight_layout()\n",
        "plt.show()"
      ],
      "execution_count": null,
      "outputs": [
        {
          "output_type": "display_data",
          "data": {
            "image/png": "[encoded data removed]",
            "text/plain": [
              "<Figure size 432x288 with 1 Axes>"
            ]
          },
          "metadata": {
            "tags": [],
            "needs_background": "light"
          }
        }
      ]
    },
    {
      "cell_type": "code",
      "metadata": {
        "id": "6YHGoRD_neCM",
        "colab": {
          "base_uri": "https://localhost:8080/"
        },
        "outputId": "6c71024a-df59-4205-da5d-26c02f61b87d"
      },
      "source": [
        "Ks = 10\n",
        "mean_acc = np.zeros((Ks-1))\n",
        "std_acc = np.zeros((Ks-1))\n",
        "ConfustionMx = [];\n",
        "for n in range(1,Ks):\n",
        "    \n",
        "    #Train Model and Predict  \n",
        "    neigh = KNeighborsClassifier(n_neighbors = n).fit(X_train,y_train)\n",
        "    yhat=neigh.predict(X_test)\n",
        "    mean_acc[n-1] = metrics.accuracy_score(y_test, yhat)\n",
        "\n",
        "    std_acc[n-1]=np.std(yhat==y_test)/np.sqrt(yhat.shape[0])\n",
        "\n",
        "mean_acc"
      ],
      "execution_count": null,
      "outputs": [
        {
          "output_type": "execute_result",
          "data": {
            "text/plain": [
              "array([0.76, 0.82, 0.84, 0.84, 0.83, 0.83, 0.83, 0.84, 0.83])"
            ]
          },
          "metadata": {
            "tags": []
          },
          "execution_count": 249
        }
      ]
    },
    {
      "cell_type": "code",
      "metadata": {
        "id": "6rlM6neqnpPj",
        "colab": {
          "base_uri": "https://localhost:8080/",
          "height": 297
        },
        "outputId": "6dd3ed11-8fb8-46c3-c0be-0b469affbc9e"
      },
      "source": [
        "plt.plot(range(1,Ks),mean_acc,'g')\n",
        "plt.fill_between(range(1,Ks),mean_acc - 1 * std_acc,mean_acc + 1 * std_acc, alpha=0.10)\n",
        "plt.legend(('Accuracy ', '+/- std'))\n",
        "plt.ylabel('Accuracy ')\n",
        "plt.xlabel('Number of Nabors (K)')\n",
        "plt.tight_layout()\n",
        "plt.show()"
      ],
      "execution_count": null,
      "outputs": [
        {
          "output_type": "display_data",
          "data": {
            "image/png": "[encoded data removed]",
            "text/plain": [
              "<Figure size 432x288 with 1 Axes>"
            ]
          },
          "metadata": {
            "tags": [],
            "needs_background": "light"
          }
        }
      ]
    },
    {
      "cell_type": "code",
      "metadata": {
        "id": "WNHMn6khntNv",
        "colab": {
          "base_uri": "https://localhost:8080/"
        },
        "outputId": "a218165b-18b0-46cd-acf8-13be7c5a292b"
      },
      "source": [
        "print( \"The best accuracy was\", mean_acc.max(), \"with k=\", mean_acc.argmax()+1) "
      ],
      "execution_count": null,
      "outputs": [
        {
          "output_type": "stream",
          "text": [
            "The best accuracy was 0.8435754189944135 with k= 8\n"
          ],
          "name": "stdout"
        }
      ]
    },
    {
      "cell_type": "code",
      "metadata": {
        "id": "XEB38avPkLsx",
        "colab": {
          "base_uri": "https://localhost:8080/"
        },
        "outputId": "19f34d8b-2b2c-442f-b1da-fa1a311907b4"
      },
      "source": [
        "k = 8\n",
        "#Train Model and Predict  \n",
        "knn_model = KNeighborsClassifier(n_neighbors = k).fit(X_train,y_train)\n",
        "knn_model"
      ],
      "execution_count": null,
      "outputs": [
        {
          "output_type": "execute_result",
          "data": {
            "text/plain": [
              "KNeighborsClassifier(algorithm='auto', leaf_size=30, metric='minkowski',\n",
              "                     metric_params=None, n_jobs=None, n_neighbors=8, p=2,\n",
              "                     weights='uniform')"
            ]
          },
          "metadata": {
            "tags": []
          },
          "execution_count": 252
        }
      ]
    },
    {
      "cell_type": "code",
      "metadata": {
        "id": "Kit3gs25kL7V",
        "colab": {
          "base_uri": "https://localhost:8080/"
        },
        "outputId": "e7e9b630-2314-466a-b2a5-d4de8029d900"
      },
      "source": [
        "yhat = knn_model.predict(X_test)\n",
        "yhat[0:5]"
      ],
      "execution_count": null,
      "outputs": [
        {
          "output_type": "execute_result",
          "data": {
            "text/plain": [
              "array([0, 0, 1, 0, 0])"
            ]
          },
          "metadata": {
            "tags": []
          },
          "execution_count": 253
        }
      ]
    },
    {
      "cell_type": "code",
      "metadata": {
        "id": "SXaBGgBZkLpN",
        "colab": {
          "base_uri": "https://localhost:8080/"
        },
        "outputId": "4b1fa505-7f6d-4797-c6d2-849327ab284f"
      },
      "source": [
        "print(\"Train set Accuracy: \", metrics.accuracy_score(y_train, knn_model.predict(X_train)))\n",
        "print(\"Test set Accuracy: \", metrics.accuracy_score(y_test, yhat))"
      ],
      "execution_count": null,
      "outputs": [
        {
          "output_type": "stream",
          "text": [
            "Train set Accuracy:  0.8258426966292135\n",
            "Test set Accuracy:  0.8435754189944135\n"
          ],
          "name": "stdout"
        }
      ]
    },
    {
      "cell_type": "code",
      "metadata": {
        "id": "u_gYXyxVkfJI",
        "colab": {
          "base_uri": "https://localhost:8080/"
        },
        "outputId": "936a7d9e-fc0e-4db4-ad50-3d2f8051e5fc"
      },
      "source": [
        "from sklearn.metrics import classification_report, confusion_matrix\n",
        "import itertools\n",
        "def plot_confusion_matrix(cm, classes,\n",
        "                          normalize=False,\n",
        "                          title='Confusion matrix',\n",
        "                          cmap=plt.cm.Blues):\n",
        "    \"\"\"\n",
        "    This function prints and plots the confusion matrix.\n",
        "    Normalization can be applied by setting `normalize=True`.\n",
        "    \"\"\"\n",
        "    if normalize:\n",
        "        cm = cm.astype('float') / cm.sum(axis=1)[:, np.newaxis]\n",
        "        print(\"Normalized confusion matrix\")\n",
        "    else:\n",
        "        print('Confusion matrix, without normalization')\n",
        "\n",
        "    print(cm)\n",
        "\n",
        "    plt.imshow(cm, interpolation='nearest', cmap=cmap)\n",
        "    plt.title(title)\n",
        "    plt.colorbar()\n",
        "    tick_marks = np.arange(len(classes))\n",
        "    plt.xticks(tick_marks, classes, rotation=45)\n",
        "    plt.yticks(tick_marks, classes)\n",
        "\n",
        "    fmt = '.2f' if normalize else 'd'\n",
        "    thresh = cm.max() / 2.\n",
        "    for i, j in itertools.product(range(cm.shape[0]), range(cm.shape[1])):\n",
        "        plt.text(j, i, format(cm[i, j], fmt),\n",
        "                 horizontalalignment=\"center\",\n",
        "                 color=\"white\" if cm[i, j] > thresh else \"black\")\n",
        "\n",
        "    plt.tight_layout()\n",
        "    plt.ylabel('True label')\n",
        "    plt.xlabel('Predicted label')\n",
        "print(confusion_matrix(y_test, yhat, labels=[1,0]))"
      ],
      "execution_count": null,
      "outputs": [
        {
          "output_type": "stream",
          "text": [
            "[[ 40  20]\n",
            " [  8 111]]\n"
          ],
          "name": "stdout"
        }
      ]
    },
    {
      "cell_type": "code",
      "metadata": {
        "id": "zFmnUin3kfNS",
        "colab": {
          "base_uri": "https://localhost:8080/",
          "height": 363
        },
        "outputId": "2b993923-04ab-47e9-93cb-0cd7e2a07945"
      },
      "source": [
        "# Compute confusion matrix\n",
        "cnf_matrix = confusion_matrix(y_test, yhat, labels=[1,0])\n",
        "np.set_printoptions(precision=2)\n",
        "\n",
        "\n",
        "# Plot non-normalized confusion matrix\n",
        "plt.figure()\n",
        "plot_confusion_matrix(cnf_matrix, classes=['Survived=1','NoSurvived=0'],normalize= False,  title='Confusion matrix')"
      ],
      "execution_count": null,
      "outputs": [
        {
          "output_type": "stream",
          "text": [
            "Confusion matrix, without normalization\n",
            "[[ 40  20]\n",
            " [  8 111]]\n"
          ],
          "name": "stdout"
        },
        {
          "output_type": "display_data",
          "data": {
            "image/png": "[encoded data removed]",
            "text/plain": [
              "<Figure size 432x288 with 2 Axes>"
            ]
          },
          "metadata": {
            "tags": [],
            "needs_background": "light"
          }
        }
      ]
    },
    {
      "cell_type": "markdown",
      "metadata": {
        "id": "wEG5_TXtlFPc"
      },
      "source": [
        "Matthews Correlation Coefitient confirm that k = 8 gives the best results"
      ]
    },
    {
      "cell_type": "code",
      "metadata": {
        "id": "kUZhTm17wBcq",
        "colab": {
          "base_uri": "https://localhost:8080/",
          "height": 297
        },
        "outputId": "b127069f-26a8-43a6-f67b-7b30d4e05793"
      },
      "source": [
        "N = 18\n",
        "train_mcc = []\n",
        "test_mcc = []\n",
        "for k in range(1,N):\n",
        "    neigh = KNeighborsClassifier(n_neighbors = k).fit(X_train,y_train)\n",
        "    y_hat = neigh.predict(X_test)\n",
        "    train_mcc.append(metrics.matthews_corrcoef(y_train, neigh.predict(X_train)))\n",
        "    test_mcc.append(metrics.matthews_corrcoef(y_test, y_hat))\n",
        "\n",
        "plt.plot(range(1,N), train_mcc, label='train')\n",
        "plt.plot(range(1,N), test_mcc, label='test')\n",
        "plt.legend(loc='best')\n",
        "plt.xlabel('Value of k')\n",
        "plt.ylabel('Accuracy of model')\n",
        "plt.tight_layout()\n",
        "plt.show()"
      ],
      "execution_count": null,
      "outputs": [
        {
          "output_type": "display_data",
          "data": {
            "image/png": "[encoded data removed]",
            "text/plain": [
              "<Figure size 432x288 with 1 Axes>"
            ]
          },
          "metadata": {
            "tags": [],
            "needs_background": "light"
          }
        }
      ]
    },
    {
      "cell_type": "markdown",
      "metadata": {
        "id": "IVuhx4Nj08bK"
      },
      "source": [
        "## Model Comparison"
      ]
    },
    {
      "cell_type": "code",
      "metadata": {
        "id": "3j5E8rn91AWV"
      },
      "source": [
        "from sklearn.metrics import jaccard_similarity_score\n",
        "from sklearn.metrics import f1_score"
      ],
      "execution_count": null,
      "outputs": []
    },
    {
      "cell_type": "code",
      "metadata": {
        "id": "pTIV8u4F1BWf"
      },
      "source": [
        "y_KNN_hat = knn_model.predict(X_test)\n",
        "y_LDA_hat = ldaModel.predict(X_test)\n",
        "y_QDA_hat = qdaModel.predict(X_test)\n",
        "y_LR_hat = logreg.predict(X_test)"
      ],
      "execution_count": null,
      "outputs": []
    },
    {
      "cell_type": "code",
      "metadata": {
        "id": "u5xgXJE63JDQ",
        "colab": {
          "base_uri": "https://localhost:8080/"
        },
        "outputId": "7f7be444-13fd-4b11-cba3-3547d05bcf1d"
      },
      "source": [
        "print(\"F1 of KNN: \", f1_score(y_test, y_KNN_hat, average='weighted'))\n",
        "print(\"F1 of LDA: \", f1_score(y_test, y_LDA_hat, average='weighted'))\n",
        "print(\"F1 of QDA: \", f1_score(y_test, y_QDA_hat, average='weighted'))\n",
        "print(\"F1 of LR: \", f1_score(y_test, y_LR_hat, average='weighted'))\n",
        "\n",
        "print(\"Jaccard of KNN: \", jaccard_similarity_score(y_test, y_KNN_hat))\n",
        "print(\"Jaccard of LDA: \", jaccard_similarity_score(y_test, y_LDA_hat))\n",
        "print(\"Jaccard of QDA: \", jaccard_similarity_score(y_test, y_QDA_hat))\n",
        "print(\"Jaccard of LR: \", jaccard_similarity_score(y_test, y_LR_hat))"
      ],
      "execution_count": null,
      "outputs": [
        {
          "output_type": "stream",
          "text": [
            "F1 of KNN:  0.8386393544382372\n",
            "F1 of LDA:  0.8229498355931758\n",
            "F1 of QDA:  0.8324022346368715\n",
            "F1 of LR:  0.5309512204266806\n",
            "Jaccard of KNN:  0.8435754189944135\n",
            "Jaccard of LDA:  0.8268156424581006\n",
            "Jaccard of QDA:  0.8324022346368715\n",
            "Jaccard of LR:  0.664804469273743\n"
          ],
          "name": "stdout"
        },
        {
          "output_type": "stream",
          "text": [
            "/usr/local/lib/python3.6/dist-packages/sklearn/metrics/_classification.py:664: FutureWarning: jaccard_similarity_score has been deprecated and replaced with jaccard_score. It will be removed in version 0.23. This implementation has surprising behavior for binary and multiclass classification tasks.\n",
            "  FutureWarning)\n"
          ],
          "name": "stderr"
        }
      ]
    },
    {
      "cell_type": "code",
      "metadata": {
        "id": "hC5RpKWj4fBQ",
        "colab": {
          "base_uri": "https://localhost:8080/"
        },
        "outputId": "e9006597-6e3c-48ce-85a8-dcefb106d2c5"
      },
      "source": [
        "from sklearn.metrics import log_loss\n",
        "yhat_LR_prob = logreg.predict_proba(X_test)\n",
        "print(\"Log loss of LR: \", log_loss(y_test, yhat_LR_prob))"
      ],
      "execution_count": null,
      "outputs": [
        {
          "output_type": "stream",
          "text": [
            "Log loss of LR:  0.9487291789615745\n"
          ],
          "name": "stdout"
        }
      ]
    },
    {
      "cell_type": "markdown",
      "metadata": {
        "id": "60tYLFUH66xb"
      },
      "source": [
        "## Comparison Table"
      ]
    },
    {
      "cell_type": "markdown",
      "metadata": {
        "id": "XNWp93hR5h0N"
      },
      "source": [
        "| Algorithm | Accuracy/Jaccard | F1-score | Logloss|\n",
        "| --- | --- | --- | --- |\n",
        "| kNN | 0.8435 | 0.8386 | NA|\n",
        "| LDA | 0.8268 | 0.8229 | NA|\n",
        "| QDA | 0.8324 | 0.8324 | NA|\n",
        "| LR | 0.6648 | 0.5309 | 0.9487|"
      ]
    },
    {
      "cell_type": "markdown",
      "metadata": {
        "id": "mP0Q2hWyMydu"
      },
      "source": [
        "## Feature Importance"
      ]
    },
    {
      "cell_type": "code",
      "metadata": {
        "id": "NX-2NzXOCs0k",
        "colab": {
          "base_uri": "https://localhost:8080/"
        },
        "outputId": "df238dbf-4523-476c-d331-e94860e69297"
      },
      "source": [
        "from sklearn.inspection import permutation_importance\n",
        "result = permutation_importance(knn_model, X_test, y_KNN_hat, n_repeats=10, random_state=0)\n",
        "result"
      ],
      "execution_count": null,
      "outputs": [
        {
          "output_type": "execute_result",
          "data": {
            "text/plain": [
              "{'importances': array([[0.11, 0.12, 0.07, 0.12, 0.09, 0.09, 0.09, 0.11, 0.13, 0.12],\n",
              "        [0.07, 0.07, 0.07, 0.05, 0.07, 0.09, 0.07, 0.08, 0.07, 0.07],\n",
              "        [0.04, 0.04, 0.03, 0.06, 0.06, 0.05, 0.06, 0.06, 0.04, 0.06],\n",
              "        [0.07, 0.07, 0.07, 0.07, 0.07, 0.08, 0.05, 0.04, 0.08, 0.07],\n",
              "        [0.14, 0.16, 0.18, 0.2 , 0.19, 0.2 , 0.19, 0.21, 0.18, 0.16],\n",
              "        [0.09, 0.08, 0.1 , 0.07, 0.12, 0.11, 0.09, 0.09, 0.08, 0.09],\n",
              "        [0.06, 0.06, 0.06, 0.07, 0.06, 0.04, 0.07, 0.06, 0.04, 0.05]]),\n",
              " 'importances_mean': array([0.11, 0.07, 0.05, 0.07, 0.18, 0.09, 0.06]),\n",
              " 'importances_std': array([0.02, 0.01, 0.01, 0.01, 0.02, 0.01, 0.01])}"
            ]
          },
          "metadata": {
            "tags": []
          },
          "execution_count": 268
        }
      ]
    },
    {
      "cell_type": "code",
      "metadata": {
        "id": "JDrNEqSaC9HD",
        "colab": {
          "base_uri": "https://localhost:8080/"
        },
        "outputId": "d6a8aad9-c8e8-4472-98f1-dad0ec675ef6"
      },
      "source": [
        "indices = np.argsort(result.importances_mean)[::-1]\n",
        "indices"
      ],
      "execution_count": null,
      "outputs": [
        {
          "output_type": "execute_result",
          "data": {
            "text/plain": [
              "array([4, 0, 5, 1, 3, 6, 2])"
            ]
          },
          "metadata": {
            "tags": []
          },
          "execution_count": 263
        }
      ]
    },
    {
      "cell_type": "code",
      "metadata": {
        "id": "-u5SYLrPNO74"
      },
      "source": [
        "features = ['Pclass', 'SibSp', 'Parch', 'FareType', 'SexCode', 'Age_cat', 'Embarked_code']"
      ],
      "execution_count": null,
      "outputs": []
    },
    {
      "cell_type": "code",
      "metadata": {
        "id": "iJQD2vcANjfU",
        "colab": {
          "base_uri": "https://localhost:8080/"
        },
        "outputId": "69794cc4-8d49-4657-eca4-414556832250"
      },
      "source": [
        "result.importances_mean[indices]"
      ],
      "execution_count": null,
      "outputs": [
        {
          "output_type": "execute_result",
          "data": {
            "text/plain": [
              "array([0.18, 0.11, 0.09, 0.07, 0.07, 0.06, 0.05])"
            ]
          },
          "metadata": {
            "tags": []
          },
          "execution_count": 265
        }
      ]
    },
    {
      "cell_type": "code",
      "metadata": {
        "id": "swc2woGRNmal",
        "colab": {
          "base_uri": "https://localhost:8080/"
        },
        "outputId": "79f1fd8b-742a-4116-a7da-cbb5d1933153"
      },
      "source": [
        "result.importances_std[indices]"
      ],
      "execution_count": null,
      "outputs": [
        {
          "output_type": "execute_result",
          "data": {
            "text/plain": [
              "array([0.02, 0.02, 0.01, 0.01, 0.01, 0.01, 0.01])"
            ]
          },
          "metadata": {
            "tags": []
          },
          "execution_count": 266
        }
      ]
    },
    {
      "cell_type": "code",
      "metadata": {
        "id": "btJO3SamNWp_",
        "colab": {
          "base_uri": "https://localhost:8080/",
          "height": 281
        },
        "outputId": "384f3516-0a9c-4236-b049-eb29f2e4173a"
      },
      "source": [
        "plt.figure()\n",
        "plt.title(\"Feature importances\")\n",
        "plt.bar(range(X.shape[1]), result.importances_mean[indices],\n",
        "        color=\"r\", yerr=result.importances_std[indices], align=\"center\")\n",
        "plt.xticks(range(X.shape[1]), indices)\n",
        "plt.xlim([-1, X.shape[1]])\n",
        "plt.show()"
      ],
      "execution_count": null,
      "outputs": [
        {
          "output_type": "display_data",
          "data": {
            "image/png": "[encoded data removed]",
            "text/plain": [
              "<Figure size 432x288 with 1 Axes>"
            ]
          },
          "metadata": {
            "tags": [],
            "needs_background": "light"
          }
        }
      ]
    },
    {
      "cell_type": "code",
      "metadata": {
        "id": "cwYOOgROlwWI"
      },
      "source": [
        ""
      ],
      "execution_count": null,
      "outputs": []
    }
  ]
}